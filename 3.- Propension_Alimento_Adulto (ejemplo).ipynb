{
 "cells": [
  {
   "cell_type": "code",
   "execution_count": 1,
   "metadata": {},
   "outputs": [],
   "source": [
    "import os\n",
    "import pandas as pd\n",
    "import numpy as np\n",
    "import cx_Oracle\n",
    "import statsmodels.api as sm\n",
    "from sklearn.linear_model import LogisticRegression\n",
    "from sklearn.ensemble import RandomForestClassifier\n",
    "from sklearn.model_selection import GridSearchCV\n",
    "import warnings\n",
    "import matplotlib.pyplot as plt\n",
    "from sklearn.metrics import roc_curve, confusion_matrix,accuracy_score, classification_report, plot_roc_curve, plot_precision_recall_curve,roc_auc_score\n",
    "from joblib import dump, load\n",
    "\n",
    "os.chdir('D:/SOCOFAR')\n",
    "import pipeline_bm as pipeline\n",
    "pd.set_option('display.max_row', 1000000)\n",
    "os.chdir('D:/SOCOFAR/Modelo_AA')\n",
    "\n",
    "pipeline_bm = pipeline.clase_pipeline()"
   ]
  },
  {
   "cell_type": "markdown",
   "metadata": {},
   "source": [
    "# **PRE-PROCESAMIENTO**"
   ]
  },
  {
   "cell_type": "code",
   "execution_count": 7,
   "metadata": {},
   "outputs": [
    {
     "name": "stdout",
     "output_type": "stream",
     "text": [
      "Procesando...\n",
      "________________________________________________________________________________________________________________________\n",
      "Datos recibidos: OK.\n",
      "Número de filas y columnas del dataset: (130000, 417)\n",
      "________________________________________________________________________________________________________________________\n"
     ]
    }
   ],
   "source": [
    "pipeline_bm.recibe_data(\n",
    "    tipo = 'query',\n",
    "    server = 'ORACLE',\n",
    "    dataset_o_query = 'SELECT * FROM AA_MODELAR_2022_V2',\n",
    "    target = 'TARGET', \n",
    "    #muestra = 'MUESTRA',\n",
    "    #ano_mes = 'FECHA_VENTA',\n",
    "    rut = 'RUT_CLIENTE', \n",
    "    excluir=[],\n",
    "    categoricas = ['GENERO','GSE','PIRAMIDE','ACTIVIDAD','MACRO_GRAL','MACRO_BYCP','MACRO_FARMA','MACRO_WELLNESS','COMUNA','MES']\n",
    ")"
   ]
  },
  {
   "cell_type": "code",
   "execution_count": 8,
   "metadata": {},
   "outputs": [
    {
     "name": "stdout",
     "output_type": "stream",
     "text": [
      "Variables fueron imputadas por medias: OK.\n",
      "________________________________________________________________________________________________________________________\n",
      "Woeizado de Variables: OK.\n",
      "________________________________________________________________________________________________________________________\n"
     ]
    }
   ],
   "source": [
    "pipeline_bm.inicializar()\n",
    "pipeline_bm.imputacion_nulos(imputar_0=['MONTO','FREQ','TRX','PROD_DIS','DSCTO','DCTO','NVISITAS','RECENCIA','NPROD','TICKET','PROP','MESES_INSCRITOS'])\n",
    "#pipeline_bm.categoriza_continuas_nulos(corte_nulos=0.05, cuantiles_inicio=5)\n",
    "#pipeline_bm.imputacion_nulos(estadistico_o_metodo='knn', n_vecinos=5)\n",
    "pipeline_bm.Woeizar2(ruta_exporta='D:/SOCOFAR/Modelo_AA/clf_woe_aa.joblib')\n",
    "#pipeline_bm.aplicar_log()\n",
    "#pipeline_bm.feature_scaling(metodo='estandar')\n",
    "#pipeline_bm.dumifica(botar_primera_col=True)"
   ]
  },
  {
   "cell_type": "markdown",
   "metadata": {},
   "source": [
    "# **ENTRENAMIENTO DE MODELOS**"
   ]
  },
  {
   "cell_type": "markdown",
   "metadata": {},
   "source": [
    "LOGISTIC REGRESSION"
   ]
  },
  {
   "cell_type": "code",
   "execution_count": 29,
   "metadata": {},
   "outputs": [
    {
     "name": "stdout",
     "output_type": "stream",
     "text": [
      "Separacion de muestras: OK.\n",
      "________________________________________________________________________________________________________________________\n",
      "Fitting 3 folds for each of 2 candidates, totalling 6 fits\n",
      "[CV] C=0.1, class_weight=None, penalty=l2, random_state=0, solver=saga \n"
     ]
    },
    {
     "name": "stderr",
     "output_type": "stream",
     "text": [
      "[Parallel(n_jobs=1)]: Using backend SequentialBackend with 1 concurrent workers.\n"
     ]
    },
    {
     "name": "stdout",
     "output_type": "stream",
     "text": [
      "[CV]  C=0.1, class_weight=None, penalty=l2, random_state=0, solver=saga, score=0.795, total=  26.1s\n",
      "[CV] C=0.1, class_weight=None, penalty=l2, random_state=0, solver=saga \n"
     ]
    },
    {
     "name": "stderr",
     "output_type": "stream",
     "text": [
      "[Parallel(n_jobs=1)]: Done   1 out of   1 | elapsed:   26.0s remaining:    0.0s\n"
     ]
    },
    {
     "name": "stdout",
     "output_type": "stream",
     "text": [
      "[CV]  C=0.1, class_weight=None, penalty=l2, random_state=0, solver=saga, score=0.798, total=  25.9s\n",
      "[CV] C=0.1, class_weight=None, penalty=l2, random_state=0, solver=saga \n"
     ]
    },
    {
     "name": "stderr",
     "output_type": "stream",
     "text": [
      "[Parallel(n_jobs=1)]: Done   2 out of   2 | elapsed:   51.9s remaining:    0.0s\n"
     ]
    },
    {
     "name": "stdout",
     "output_type": "stream",
     "text": [
      "[CV]  C=0.1, class_weight=None, penalty=l2, random_state=0, solver=saga, score=0.801, total=  25.9s\n",
      "[CV] C=1, class_weight=None, penalty=l2, random_state=0, solver=saga .\n",
      "[CV]  C=1, class_weight=None, penalty=l2, random_state=0, solver=saga, score=0.795, total=  25.8s\n",
      "[CV] C=1, class_weight=None, penalty=l2, random_state=0, solver=saga .\n",
      "[CV]  C=1, class_weight=None, penalty=l2, random_state=0, solver=saga, score=0.797, total=  26.0s\n",
      "[CV] C=1, class_weight=None, penalty=l2, random_state=0, solver=saga .\n",
      "[CV]  C=1, class_weight=None, penalty=l2, random_state=0, solver=saga, score=0.800, total=  25.8s\n"
     ]
    },
    {
     "name": "stderr",
     "output_type": "stream",
     "text": [
      "[Parallel(n_jobs=1)]: Done   6 out of   6 | elapsed:  2.6min finished\n"
     ]
    },
    {
     "name": "stdout",
     "output_type": "stream",
     "text": [
      "best params: {'C': 0.1, 'class_weight': None, 'penalty': 'l2', 'random_state': 0, 'solver': 'saga'}\n",
      "best estimator: LogisticRegression(C=0.1, random_state=0, solver='saga')\n",
      "ROC: 0.7955261917335797\n",
      "Modelación: OK.\n",
      "________________________________________________________________________________________________________________________\n"
     ]
    }
   ],
   "source": [
    "pipeline_bm.separa_muestras(test=0.3)\n",
    "pipeline_bm.modelacion('LogisticRegression', perf_eval='f1',ruta_exporta='D:/SOCOFAR/Modelo_AA/modelo_aa.joblib')"
   ]
  },
  {
   "cell_type": "code",
   "execution_count": 30,
   "metadata": {},
   "outputs": [
    {
     "data": {
      "image/png": "[encoded data removed]",
      "text/plain": [
       "<Figure size 432x288 with 1 Axes>"
      ]
     },
     "metadata": {
      "needs_background": "light"
     },
     "output_type": "display_data"
    }
   ],
   "source": [
    "%matplotlib inline\n",
    "plot_roc_curve(pipeline_bm.model, pipeline_bm.X_test, pipeline_bm.Y_test)\n",
    "plt.title(pipeline_bm.algoritmo + ' ROC')\n",
    "plt.show()"
   ]
  },
  {
   "cell_type": "code",
   "execution_count": 32,
   "metadata": {},
   "outputs": [
    {
     "name": "stdout",
     "output_type": "stream",
     "text": [
      "\"ROC OPTIMO\"\n",
      "\n",
      "sens+espc:  1.461248937357538\n",
      "KS:  0.4612489373575379\n",
      "threshold optimo:  0.485\n",
      "sensibility:  0.5977673565093282\n",
      "specificity:  0.8634815808482097\n",
      "precision:  0.8159048215403882\n",
      "negative predictive value:  0.6795793235067202\n",
      "Critical Success Index:  0.5267247574559828\n",
      "accuracy:  0.7298205128205129\n",
      "f1score:  0.6900061781059693\n",
      "BalancedAccuracy:  0.730624468678769\n"
     ]
    },
    {
     "data": {
      "text/html": [
       "<div>\n",
       "<style scoped>\n",
       "    .dataframe tbody tr th:only-of-type {\n",
       "        vertical-align: middle;\n",
       "    }\n",
       "\n",
       "    .dataframe tbody tr th {\n",
       "        vertical-align: top;\n",
       "    }\n",
       "\n",
       "    .dataframe thead th {\n",
       "        text-align: right;\n",
       "    }\n",
       "</style>\n",
       "<table border=\"1\" class=\"dataframe\">\n",
       "  <thead>\n",
       "    <tr style=\"text-align: right;\">\n",
       "      <th>TARGET</th>\n",
       "      <th>0</th>\n",
       "      <th>1</th>\n",
       "    </tr>\n",
       "    <tr>\n",
       "      <th>pred</th>\n",
       "      <th></th>\n",
       "      <th></th>\n",
       "    </tr>\n",
       "  </thead>\n",
       "  <tbody>\n",
       "    <tr>\n",
       "      <th>0</th>\n",
       "      <td>16736</td>\n",
       "      <td>7891</td>\n",
       "    </tr>\n",
       "    <tr>\n",
       "      <th>1</th>\n",
       "      <td>2646</td>\n",
       "      <td>11727</td>\n",
       "    </tr>\n",
       "  </tbody>\n",
       "</table>\n",
       "</div>"
      ],
      "text/plain": [
       "TARGET      0      1\n",
       "pred                \n",
       "0       16736   7891\n",
       "1        2646  11727"
      ]
     },
     "execution_count": 32,
     "metadata": {},
     "output_type": "execute_result"
    }
   ],
   "source": [
    "pipeline_bm.metricas_modelo_optimo(metrica='roc')\n",
    "pipeline_bm.confusion_matrix"
   ]
  },
  {
   "cell_type": "markdown",
   "metadata": {},
   "source": [
    "*DECISION TREE*"
   ]
  },
  {
   "cell_type": "code",
   "execution_count": 9,
   "metadata": {},
   "outputs": [
    {
     "name": "stdout",
     "output_type": "stream",
     "text": [
      "Fitting 3 folds for each of 1 candidates, totalling 3 fits\n",
      "[CV] class_weight=None, criterion=gini, max_depth=15, min_samples_leaf=1, random_state=0, splitter=best \n"
     ]
    },
    {
     "name": "stderr",
     "output_type": "stream",
     "text": [
      "[Parallel(n_jobs=1)]: Using backend SequentialBackend with 1 concurrent workers.\n"
     ]
    },
    {
     "name": "stdout",
     "output_type": "stream",
     "text": [
      "[CV]  class_weight=None, criterion=gini, max_depth=15, min_samples_leaf=1, random_state=0, splitter=best, score=0.408, total=   2.3s\n",
      "[CV] class_weight=None, criterion=gini, max_depth=15, min_samples_leaf=1, random_state=0, splitter=best \n"
     ]
    },
    {
     "name": "stderr",
     "output_type": "stream",
     "text": [
      "[Parallel(n_jobs=1)]: Done   1 out of   1 | elapsed:    2.2s remaining:    0.0s\n"
     ]
    },
    {
     "name": "stdout",
     "output_type": "stream",
     "text": [
      "[CV]  class_weight=None, criterion=gini, max_depth=15, min_samples_leaf=1, random_state=0, splitter=best, score=0.426, total=   2.3s\n",
      "[CV] class_weight=None, criterion=gini, max_depth=15, min_samples_leaf=1, random_state=0, splitter=best \n"
     ]
    },
    {
     "name": "stderr",
     "output_type": "stream",
     "text": [
      "[Parallel(n_jobs=1)]: Done   2 out of   2 | elapsed:    4.5s remaining:    0.0s\n"
     ]
    },
    {
     "name": "stdout",
     "output_type": "stream",
     "text": [
      "[CV]  class_weight=None, criterion=gini, max_depth=15, min_samples_leaf=1, random_state=0, splitter=best, score=0.500, total=   2.4s\n"
     ]
    },
    {
     "name": "stderr",
     "output_type": "stream",
     "text": [
      "[Parallel(n_jobs=1)]: Done   3 out of   3 | elapsed:    6.9s finished\n"
     ]
    },
    {
     "name": "stdout",
     "output_type": "stream",
     "text": [
      "best params: {'class_weight': None, 'criterion': 'gini', 'max_depth': 15, 'min_samples_leaf': 1, 'random_state': 0, 'splitter': 'best'}\n",
      "best estimator: DecisionTreeClassifier(max_depth=15, random_state=0)\n",
      "ROC: 0.581077535152631\n",
      "Modelación: OK.\n",
      "________________________________________________________________________________________________________________________\n"
     ]
    }
   ],
   "source": [
    "pipeline_bm.modelacion('DecisionTree', perf_eval='f1',ruta_exporta='D:/SOCOFAR/Modelo_AA/modelo_aa.joblib')"
   ]
  },
  {
   "cell_type": "code",
   "execution_count": 10,
   "metadata": {},
   "outputs": [
    {
     "data": {
      "image/png": "[encoded data removed]",
      "text/plain": [
       "<Figure size 432x288 with 1 Axes>"
      ]
     },
     "metadata": {
      "needs_background": "light"
     },
     "output_type": "display_data"
    }
   ],
   "source": [
    "%matplotlib inline\n",
    "plot_roc_curve(pipeline_bm.model, pipeline_bm.X_test, pipeline_bm.Y_test)\n",
    "plt.title(pipeline_bm.algoritmo + ' ROC')\n",
    "plt.show()"
   ]
  },
  {
   "cell_type": "code",
   "execution_count": 11,
   "metadata": {},
   "outputs": [
    {
     "name": "stdout",
     "output_type": "stream",
     "text": [
      "       \"ROC OPTIMO\"\n",
      "\n",
      "sens+espc:  1.2798841341135907\n",
      "KS:  0.27988413411359075\n",
      "threshold optimo:  0.025\n",
      "sensibility:  0.30985915492957744\n",
      "specificity:  0.9700249791840133\n",
      "precision:  0.13253012048192772\n",
      "negative predictive value:  0.9895943937141644\n",
      "Critical Success Index:  0.10232558139534884\n",
      "accuracy:  0.9604102564102565\n",
      "f1score:  0.18565400843881857\n",
      "BalancedAccuracy:  0.6399420670567953\n"
     ]
    },
    {
     "data": {
      "text/html": [
       "<div>\n",
       "<style scoped>\n",
       "    .dataframe tbody tr th:only-of-type {\n",
       "        vertical-align: middle;\n",
       "    }\n",
       "\n",
       "    .dataframe tbody tr th {\n",
       "        vertical-align: top;\n",
       "    }\n",
       "\n",
       "    .dataframe thead th {\n",
       "        text-align: right;\n",
       "    }\n",
       "</style>\n",
       "<table border=\"1\" class=\"dataframe\">\n",
       "  <thead>\n",
       "    <tr style=\"text-align: right;\">\n",
       "      <th>TARGET</th>\n",
       "      <th>0</th>\n",
       "      <th>1</th>\n",
       "    </tr>\n",
       "    <tr>\n",
       "      <th>pred</th>\n",
       "      <th></th>\n",
       "      <th></th>\n",
       "    </tr>\n",
       "  </thead>\n",
       "  <tbody>\n",
       "    <tr>\n",
       "      <th>0</th>\n",
       "      <td>9320</td>\n",
       "      <td>98</td>\n",
       "    </tr>\n",
       "    <tr>\n",
       "      <th>1</th>\n",
       "      <td>288</td>\n",
       "      <td>44</td>\n",
       "    </tr>\n",
       "  </tbody>\n",
       "</table>\n",
       "</div>"
      ],
      "text/plain": [
       "TARGET     0   1\n",
       "pred            \n",
       "0       9320  98\n",
       "1        288  44"
      ]
     },
     "execution_count": 11,
     "metadata": {},
     "output_type": "execute_result"
    }
   ],
   "source": [
    "pipeline_bm.metricas_modelo_optimo()\n",
    "pipeline_bm.confusion_matrix"
   ]
  },
  {
   "cell_type": "markdown",
   "metadata": {},
   "source": [
    "*K-NEAREST NEIGHBOR*"
   ]
  },
  {
   "cell_type": "code",
   "execution_count": 12,
   "metadata": {},
   "outputs": [
    {
     "name": "stdout",
     "output_type": "stream",
     "text": [
      "Fitting 3 folds for each of 1 candidates, totalling 3 fits\n",
      "[CV] algorithm=auto, leaf_size=30, metric=minkowski, n_neighbors=3, p=2, weights=distance \n"
     ]
    },
    {
     "name": "stderr",
     "output_type": "stream",
     "text": [
      "[Parallel(n_jobs=1)]: Using backend SequentialBackend with 1 concurrent workers.\n"
     ]
    },
    {
     "name": "stdout",
     "output_type": "stream",
     "text": [
      "[CV]  algorithm=auto, leaf_size=30, metric=minkowski, n_neighbors=3, p=2, weights=distance, score=0.650, total= 4.0min\n",
      "[CV] algorithm=auto, leaf_size=30, metric=minkowski, n_neighbors=3, p=2, weights=distance \n"
     ]
    },
    {
     "name": "stderr",
     "output_type": "stream",
     "text": [
      "[Parallel(n_jobs=1)]: Done   1 out of   1 | elapsed:  4.0min remaining:    0.0s\n"
     ]
    },
    {
     "name": "stdout",
     "output_type": "stream",
     "text": [
      "[CV]  algorithm=auto, leaf_size=30, metric=minkowski, n_neighbors=3, p=2, weights=distance, score=0.646, total= 4.0min\n",
      "[CV] algorithm=auto, leaf_size=30, metric=minkowski, n_neighbors=3, p=2, weights=distance \n"
     ]
    },
    {
     "name": "stderr",
     "output_type": "stream",
     "text": [
      "[Parallel(n_jobs=1)]: Done   2 out of   2 | elapsed:  7.9min remaining:    0.0s\n"
     ]
    },
    {
     "name": "stdout",
     "output_type": "stream",
     "text": [
      "[CV]  algorithm=auto, leaf_size=30, metric=minkowski, n_neighbors=3, p=2, weights=distance, score=0.668, total= 4.0min\n"
     ]
    },
    {
     "name": "stderr",
     "output_type": "stream",
     "text": [
      "[Parallel(n_jobs=1)]: Done   3 out of   3 | elapsed: 11.9min finished\n"
     ]
    },
    {
     "name": "stdout",
     "output_type": "stream",
     "text": [
      "best params: {'algorithm': 'auto', 'leaf_size': 30, 'metric': 'minkowski', 'n_neighbors': 3, 'p': 2, 'weights': 'distance'}\n",
      "best estimator: KNeighborsClassifier(n_neighbors=3, weights='distance')\n",
      "ROC: 0.6529527916876781\n",
      "Modelación: OK.\n",
      "________________________________________________________________________________________________________________________\n"
     ]
    }
   ],
   "source": [
    "pipeline_bm.modelacion('K-Nearest Neighbor', perf_eval='f1',ruta_exporta='D:/SOCOFAR/Modelo_AA/modelo_aa.joblib')"
   ]
  },
  {
   "cell_type": "code",
   "execution_count": 13,
   "metadata": {},
   "outputs": [
    {
     "data": {
      "image/png": "[encoded data removed]",
      "text/plain": [
       "<Figure size 432x288 with 1 Axes>"
      ]
     },
     "metadata": {
      "needs_background": "light"
     },
     "output_type": "display_data"
    }
   ],
   "source": [
    "%matplotlib inline\n",
    "plot_roc_curve(pipeline_bm.model, pipeline_bm.X_test, pipeline_bm.Y_test)\n",
    "plt.title(pipeline_bm.algoritmo + ' ROC')\n",
    "plt.show()"
   ]
  },
  {
   "cell_type": "code",
   "execution_count": 14,
   "metadata": {},
   "outputs": [
    {
     "name": "stdout",
     "output_type": "stream",
     "text": [
      "       \"ROC OPTIMO\"\n",
      "\n",
      "sens+espc:  1.3049996481805068\n",
      "KS:  0.30499964818050684\n",
      "threshold optimo:  0.281\n",
      "sensibility:  0.34507042253521125\n",
      "specificity:  0.9599292256452956\n",
      "precision:  0.11290322580645161\n",
      "negative predictive value:  0.9900171747531129\n",
      "Critical Success Index:  0.09297912713472485\n",
      "accuracy:  0.950974358974359\n",
      "f1score:  0.1701388888888889\n",
      "BalancedAccuracy:  0.6524998240902534\n"
     ]
    },
    {
     "data": {
      "text/html": [
       "<div>\n",
       "<style scoped>\n",
       "    .dataframe tbody tr th:only-of-type {\n",
       "        vertical-align: middle;\n",
       "    }\n",
       "\n",
       "    .dataframe tbody tr th {\n",
       "        vertical-align: top;\n",
       "    }\n",
       "\n",
       "    .dataframe thead th {\n",
       "        text-align: right;\n",
       "    }\n",
       "</style>\n",
       "<table border=\"1\" class=\"dataframe\">\n",
       "  <thead>\n",
       "    <tr style=\"text-align: right;\">\n",
       "      <th>TARGET</th>\n",
       "      <th>0</th>\n",
       "      <th>1</th>\n",
       "    </tr>\n",
       "    <tr>\n",
       "      <th>pred</th>\n",
       "      <th></th>\n",
       "      <th></th>\n",
       "    </tr>\n",
       "  </thead>\n",
       "  <tbody>\n",
       "    <tr>\n",
       "      <th>0</th>\n",
       "      <td>9223</td>\n",
       "      <td>93</td>\n",
       "    </tr>\n",
       "    <tr>\n",
       "      <th>1</th>\n",
       "      <td>385</td>\n",
       "      <td>49</td>\n",
       "    </tr>\n",
       "  </tbody>\n",
       "</table>\n",
       "</div>"
      ],
      "text/plain": [
       "TARGET     0   1\n",
       "pred            \n",
       "0       9223  93\n",
       "1        385  49"
      ]
     },
     "execution_count": 14,
     "metadata": {},
     "output_type": "execute_result"
    }
   ],
   "source": [
    "pipeline_bm.metricas_modelo_optimo()\n",
    "pipeline_bm.confusion_matrix"
   ]
  },
  {
   "cell_type": "markdown",
   "metadata": {},
   "source": [
    "*SUPPORT VECTOR MACHINE*"
   ]
  },
  {
   "cell_type": "code",
   "execution_count": 15,
   "metadata": {},
   "outputs": [
    {
     "name": "stdout",
     "output_type": "stream",
     "text": [
      "Fitting 3 folds for each of 1 candidates, totalling 3 fits\n",
      "[CV] C=1, class_weight=balanced, gamma=scale, kernel=rbf, probability=True \n"
     ]
    },
    {
     "name": "stderr",
     "output_type": "stream",
     "text": [
      "[Parallel(n_jobs=1)]: Using backend SequentialBackend with 1 concurrent workers.\n"
     ]
    },
    {
     "name": "stdout",
     "output_type": "stream",
     "text": [
      "[CV]  C=1, class_weight=balanced, gamma=scale, kernel=rbf, probability=True, score=0.747, total=12.4min\n",
      "[CV] C=1, class_weight=balanced, gamma=scale, kernel=rbf, probability=True \n"
     ]
    },
    {
     "name": "stderr",
     "output_type": "stream",
     "text": [
      "[Parallel(n_jobs=1)]: Done   1 out of   1 | elapsed: 12.4min remaining:    0.0s\n"
     ]
    },
    {
     "name": "stdout",
     "output_type": "stream",
     "text": [
      "[CV]  C=1, class_weight=balanced, gamma=scale, kernel=rbf, probability=True, score=0.767, total=11.7min\n",
      "[CV] C=1, class_weight=balanced, gamma=scale, kernel=rbf, probability=True \n"
     ]
    },
    {
     "name": "stderr",
     "output_type": "stream",
     "text": [
      "[Parallel(n_jobs=1)]: Done   2 out of   2 | elapsed: 24.0min remaining:    0.0s\n"
     ]
    },
    {
     "name": "stdout",
     "output_type": "stream",
     "text": [
      "[CV]  C=1, class_weight=balanced, gamma=scale, kernel=rbf, probability=True, score=0.751, total=12.2min\n"
     ]
    },
    {
     "name": "stderr",
     "output_type": "stream",
     "text": [
      "[Parallel(n_jobs=1)]: Done   3 out of   3 | elapsed: 36.2min finished\n"
     ]
    },
    {
     "name": "stdout",
     "output_type": "stream",
     "text": [
      "best params: {'C': 1, 'class_weight': 'balanced', 'gamma': 'scale', 'kernel': 'rbf', 'probability': True}\n",
      "best estimator: SVC(C=1, class_weight='balanced', probability=True)\n",
      "ROC: 0.7358202085116863\n",
      "Modelación: OK.\n",
      "________________________________________________________________________________________________________________________\n"
     ]
    }
   ],
   "source": [
    "pipeline_bm.modelacion('SVC', perf_eval='f1',ruta_exporta='D:/SOCOFAR/Modelo_AA/modelo_aa.joblib')"
   ]
  },
  {
   "cell_type": "code",
   "execution_count": 16,
   "metadata": {},
   "outputs": [
    {
     "data": {
      "image/png": "[encoded data removed]",
      "text/plain": [
       "<Figure size 432x288 with 1 Axes>"
      ]
     },
     "metadata": {
      "needs_background": "light"
     },
     "output_type": "display_data"
    }
   ],
   "source": [
    "%matplotlib inline\n",
    "plot_roc_curve(pipeline_bm.model, pipeline_bm.X_test, pipeline_bm.Y_test)\n",
    "plt.title(pipeline_bm.algoritmo + ' ROC')\n",
    "plt.show()"
   ]
  },
  {
   "cell_type": "code",
   "execution_count": 17,
   "metadata": {},
   "outputs": [
    {
     "name": "stdout",
     "output_type": "stream",
     "text": [
      "       \"ROC OPTIMO\"\n",
      "\n",
      "sens+espc:  1.4581202870847063\n",
      "KS:  0.4581202870847064\n",
      "threshold optimo:  0.028\n",
      "sensibility:  0.5704225352112676\n",
      "specificity:  0.8876977518734388\n",
      "precision:  0.06982758620689655\n",
      "negative predictive value:  0.9928987194412107\n",
      "Critical Success Index:  0.06633906633906633\n",
      "accuracy:  0.8830769230769231\n",
      "f1score:  0.12442396313364056\n",
      "BalancedAccuracy:  0.7290601435423532\n"
     ]
    },
    {
     "data": {
      "text/html": [
       "<div>\n",
       "<style scoped>\n",
       "    .dataframe tbody tr th:only-of-type {\n",
       "        vertical-align: middle;\n",
       "    }\n",
       "\n",
       "    .dataframe tbody tr th {\n",
       "        vertical-align: top;\n",
       "    }\n",
       "\n",
       "    .dataframe thead th {\n",
       "        text-align: right;\n",
       "    }\n",
       "</style>\n",
       "<table border=\"1\" class=\"dataframe\">\n",
       "  <thead>\n",
       "    <tr style=\"text-align: right;\">\n",
       "      <th>TARGET</th>\n",
       "      <th>0</th>\n",
       "      <th>1</th>\n",
       "    </tr>\n",
       "    <tr>\n",
       "      <th>pred</th>\n",
       "      <th></th>\n",
       "      <th></th>\n",
       "    </tr>\n",
       "  </thead>\n",
       "  <tbody>\n",
       "    <tr>\n",
       "      <th>0</th>\n",
       "      <td>8529</td>\n",
       "      <td>61</td>\n",
       "    </tr>\n",
       "    <tr>\n",
       "      <th>1</th>\n",
       "      <td>1079</td>\n",
       "      <td>81</td>\n",
       "    </tr>\n",
       "  </tbody>\n",
       "</table>\n",
       "</div>"
      ],
      "text/plain": [
       "TARGET     0   1\n",
       "pred            \n",
       "0       8529  61\n",
       "1       1079  81"
      ]
     },
     "execution_count": 17,
     "metadata": {},
     "output_type": "execute_result"
    }
   ],
   "source": [
    "pipeline_bm.metricas_modelo_optimo()\n",
    "pipeline_bm.confusion_matrix"
   ]
  },
  {
   "cell_type": "markdown",
   "metadata": {},
   "source": [
    "*BAGGING CLASSIFIER*"
   ]
  },
  {
   "cell_type": "code",
   "execution_count": null,
   "metadata": {},
   "outputs": [],
   "source": [
    "pipeline_bm.modelacion('Bagging Classifier', perf_eval='f1',ruta_exporta='D:/SOCOFAR/Modelo_AA/modelo_aa.joblib')"
   ]
  },
  {
   "cell_type": "code",
   "execution_count": null,
   "metadata": {},
   "outputs": [],
   "source": [
    "%matplotlib inline\n",
    "plot_roc_curve(pipeline_bm.model, pipeline_bm.X_test, pipeline_bm.Y_test)\n",
    "plt.title(pipeline_bm.algoritmo + ' ROC')\n",
    "plt.show()"
   ]
  },
  {
   "cell_type": "code",
   "execution_count": null,
   "metadata": {},
   "outputs": [],
   "source": [
    "pipeline_bm.metricas_modelo_optimo()\n",
    "pipeline_bm.confusion_matrix"
   ]
  },
  {
   "cell_type": "markdown",
   "metadata": {},
   "source": [
    "*GRADIENT BOOSTING CLASSIFIER*"
   ]
  },
  {
   "cell_type": "code",
   "execution_count": 18,
   "metadata": {},
   "outputs": [
    {
     "name": "stdout",
     "output_type": "stream",
     "text": [
      "Fitting 3 folds for each of 1 candidates, totalling 3 fits\n",
      "[CV] n_estimators=100, random_state=0 ................................\n"
     ]
    },
    {
     "name": "stderr",
     "output_type": "stream",
     "text": [
      "[Parallel(n_jobs=1)]: Using backend SequentialBackend with 1 concurrent workers.\n"
     ]
    },
    {
     "name": "stdout",
     "output_type": "stream",
     "text": [
      "[CV] .... n_estimators=100, random_state=0, score=0.764, total=  38.8s\n",
      "[CV] n_estimators=100, random_state=0 ................................\n"
     ]
    },
    {
     "name": "stderr",
     "output_type": "stream",
     "text": [
      "[Parallel(n_jobs=1)]: Done   1 out of   1 | elapsed:   38.7s remaining:    0.0s\n"
     ]
    },
    {
     "name": "stdout",
     "output_type": "stream",
     "text": [
      "[CV] .... n_estimators=100, random_state=0, score=0.783, total=  38.5s\n",
      "[CV] n_estimators=100, random_state=0 ................................\n"
     ]
    },
    {
     "name": "stderr",
     "output_type": "stream",
     "text": [
      "[Parallel(n_jobs=1)]: Done   2 out of   2 | elapsed:  1.3min remaining:    0.0s\n"
     ]
    },
    {
     "name": "stdout",
     "output_type": "stream",
     "text": [
      "[CV] .... n_estimators=100, random_state=0, score=0.749, total=  38.3s\n"
     ]
    },
    {
     "name": "stderr",
     "output_type": "stream",
     "text": [
      "[Parallel(n_jobs=1)]: Done   3 out of   3 | elapsed:  1.9min finished\n"
     ]
    },
    {
     "name": "stdout",
     "output_type": "stream",
     "text": [
      "best params: {'n_estimators': 100, 'random_state': 0}\n",
      "best estimator: GradientBoostingClassifier(random_state=0)\n",
      "ROC: 0.7784424071489721\n",
      "Modelación: OK.\n",
      "________________________________________________________________________________________________________________________\n"
     ]
    }
   ],
   "source": [
    "pipeline_bm.modelacion('Gradient Boosting Classifier', perf_eval='f1',ruta_exporta='D:/SOCOFAR/Modelo_AA/modelo_aa.joblib')"
   ]
  },
  {
   "cell_type": "code",
   "execution_count": 19,
   "metadata": {},
   "outputs": [
    {
     "data": {
      "image/png": "[encoded data removed]",
      "text/plain": [
       "<Figure size 432x288 with 1 Axes>"
      ]
     },
     "metadata": {
      "needs_background": "light"
     },
     "output_type": "display_data"
    }
   ],
   "source": [
    "%matplotlib inline\n",
    "plot_roc_curve(pipeline_bm.model, pipeline_bm.X_test, pipeline_bm.Y_test)\n",
    "plt.title(pipeline_bm.algoritmo + ' ROC')\n",
    "plt.show()"
   ]
  },
  {
   "cell_type": "code",
   "execution_count": 20,
   "metadata": {},
   "outputs": [
    {
     "name": "stdout",
     "output_type": "stream",
     "text": [
      "       \"ROC OPTIMO\"\n",
      "\n",
      "sens+espc:  1.4872641343481372\n",
      "KS:  0.4872641343481372\n",
      "threshold optimo:  0.015\n",
      "sensibility:  0.5492957746478874\n",
      "specificity:  0.9379683597002498\n",
      "precision:  0.11572700296735905\n",
      "negative predictive value:  0.9929484354341119\n",
      "Critical Success Index:  0.10569105691056911\n",
      "accuracy:  0.9323076923076923\n",
      "f1score:  0.1911764705882353\n",
      "BalancedAccuracy:  0.7436320671740686\n"
     ]
    },
    {
     "data": {
      "text/html": [
       "<div>\n",
       "<style scoped>\n",
       "    .dataframe tbody tr th:only-of-type {\n",
       "        vertical-align: middle;\n",
       "    }\n",
       "\n",
       "    .dataframe tbody tr th {\n",
       "        vertical-align: top;\n",
       "    }\n",
       "\n",
       "    .dataframe thead th {\n",
       "        text-align: right;\n",
       "    }\n",
       "</style>\n",
       "<table border=\"1\" class=\"dataframe\">\n",
       "  <thead>\n",
       "    <tr style=\"text-align: right;\">\n",
       "      <th>TARGET</th>\n",
       "      <th>0</th>\n",
       "      <th>1</th>\n",
       "    </tr>\n",
       "    <tr>\n",
       "      <th>pred</th>\n",
       "      <th></th>\n",
       "      <th></th>\n",
       "    </tr>\n",
       "  </thead>\n",
       "  <tbody>\n",
       "    <tr>\n",
       "      <th>0</th>\n",
       "      <td>9012</td>\n",
       "      <td>64</td>\n",
       "    </tr>\n",
       "    <tr>\n",
       "      <th>1</th>\n",
       "      <td>596</td>\n",
       "      <td>78</td>\n",
       "    </tr>\n",
       "  </tbody>\n",
       "</table>\n",
       "</div>"
      ],
      "text/plain": [
       "TARGET     0   1\n",
       "pred            \n",
       "0       9012  64\n",
       "1        596  78"
      ]
     },
     "execution_count": 20,
     "metadata": {},
     "output_type": "execute_result"
    }
   ],
   "source": [
    "pipeline_bm.metricas_modelo_optimo()\n",
    "pipeline_bm.confusion_matrix"
   ]
  },
  {
   "cell_type": "markdown",
   "metadata": {},
   "source": [
    "*EXTRA TREES CLASSIFIER*"
   ]
  },
  {
   "cell_type": "code",
   "execution_count": 21,
   "metadata": {},
   "outputs": [
    {
     "name": "stdout",
     "output_type": "stream",
     "text": [
      "Fitting 3 folds for each of 1 candidates, totalling 3 fits\n",
      "[CV] class_weight=balanced, criterion=gini, n_estimators=1000, n_jobs=8, random_state=0 \n"
     ]
    },
    {
     "name": "stderr",
     "output_type": "stream",
     "text": [
      "[Parallel(n_jobs=1)]: Using backend SequentialBackend with 1 concurrent workers.\n"
     ]
    },
    {
     "name": "stdout",
     "output_type": "stream",
     "text": [
      "[CV]  class_weight=balanced, criterion=gini, n_estimators=1000, n_jobs=8, random_state=0, score=0.761, total=  38.2s\n",
      "[CV] class_weight=balanced, criterion=gini, n_estimators=1000, n_jobs=8, random_state=0 \n"
     ]
    },
    {
     "name": "stderr",
     "output_type": "stream",
     "text": [
      "[Parallel(n_jobs=1)]: Done   1 out of   1 | elapsed:   38.1s remaining:    0.0s\n"
     ]
    },
    {
     "name": "stdout",
     "output_type": "stream",
     "text": [
      "[CV]  class_weight=balanced, criterion=gini, n_estimators=1000, n_jobs=8, random_state=0, score=0.726, total=  34.5s\n",
      "[CV] class_weight=balanced, criterion=gini, n_estimators=1000, n_jobs=8, random_state=0 \n"
     ]
    },
    {
     "name": "stderr",
     "output_type": "stream",
     "text": [
      "[Parallel(n_jobs=1)]: Done   2 out of   2 | elapsed:  1.2min remaining:    0.0s\n"
     ]
    },
    {
     "name": "stdout",
     "output_type": "stream",
     "text": [
      "[CV]  class_weight=balanced, criterion=gini, n_estimators=1000, n_jobs=8, random_state=0, score=0.744, total=  34.2s\n"
     ]
    },
    {
     "name": "stderr",
     "output_type": "stream",
     "text": [
      "[Parallel(n_jobs=1)]: Done   3 out of   3 | elapsed:  1.8min finished\n"
     ]
    },
    {
     "name": "stdout",
     "output_type": "stream",
     "text": [
      "best params: {'class_weight': 'balanced', 'criterion': 'gini', 'n_estimators': 1000, 'n_jobs': 8, 'random_state': 0}\n",
      "best estimator: ExtraTreesClassifier(class_weight='balanced', n_estimators=1000, n_jobs=8,\n",
      "                     random_state=0)\n",
      "ROC: 0.7522069343622099\n",
      "Modelación: OK.\n",
      "________________________________________________________________________________________________________________________\n"
     ]
    }
   ],
   "source": [
    "pipeline_bm.modelacion('Extra Trees Classifier', perf_eval='f1',ruta_exporta='D:/SOCOFAR/Modelo_AA/modelo_aa.joblib')"
   ]
  },
  {
   "cell_type": "code",
   "execution_count": 22,
   "metadata": {},
   "outputs": [
    {
     "data": {
      "image/png": "[encoded data removed]",
      "text/plain": [
       "<Figure size 432x288 with 1 Axes>"
      ]
     },
     "metadata": {
      "needs_background": "light"
     },
     "output_type": "display_data"
    }
   ],
   "source": [
    "%matplotlib inline\n",
    "plot_roc_curve(pipeline_bm.model, pipeline_bm.X_test, pipeline_bm.Y_test)\n",
    "plt.title(pipeline_bm.algoritmo + ' ROC')\n",
    "plt.show()"
   ]
  },
  {
   "cell_type": "code",
   "execution_count": 23,
   "metadata": {},
   "outputs": [
    {
     "name": "stdout",
     "output_type": "stream",
     "text": [
      "       \"ROC OPTIMO\"\n",
      "\n",
      "sens+espc:  1.4689812480210154\n",
      "KS:  0.4689812480210154\n",
      "threshold optimo:  0.028\n",
      "sensibility:  0.5422535211267606\n",
      "specificity:  0.9267277268942548\n",
      "precision:  0.09859154929577464\n",
      "negative predictive value:  0.9927528152525366\n",
      "Critical Success Index:  0.09101654846335698\n",
      "accuracy:  0.9211282051282051\n",
      "f1score:  0.16684723726977246\n",
      "BalancedAccuracy:  0.7344906240105077\n"
     ]
    },
    {
     "data": {
      "text/html": [
       "<div>\n",
       "<style scoped>\n",
       "    .dataframe tbody tr th:only-of-type {\n",
       "        vertical-align: middle;\n",
       "    }\n",
       "\n",
       "    .dataframe tbody tr th {\n",
       "        vertical-align: top;\n",
       "    }\n",
       "\n",
       "    .dataframe thead th {\n",
       "        text-align: right;\n",
       "    }\n",
       "</style>\n",
       "<table border=\"1\" class=\"dataframe\">\n",
       "  <thead>\n",
       "    <tr style=\"text-align: right;\">\n",
       "      <th>TARGET</th>\n",
       "      <th>0</th>\n",
       "      <th>1</th>\n",
       "    </tr>\n",
       "    <tr>\n",
       "      <th>pred</th>\n",
       "      <th></th>\n",
       "      <th></th>\n",
       "    </tr>\n",
       "  </thead>\n",
       "  <tbody>\n",
       "    <tr>\n",
       "      <th>0</th>\n",
       "      <td>8904</td>\n",
       "      <td>65</td>\n",
       "    </tr>\n",
       "    <tr>\n",
       "      <th>1</th>\n",
       "      <td>704</td>\n",
       "      <td>77</td>\n",
       "    </tr>\n",
       "  </tbody>\n",
       "</table>\n",
       "</div>"
      ],
      "text/plain": [
       "TARGET     0   1\n",
       "pred            \n",
       "0       8904  65\n",
       "1        704  77"
      ]
     },
     "execution_count": 23,
     "metadata": {},
     "output_type": "execute_result"
    }
   ],
   "source": [
    "pipeline_bm.metricas_modelo_optimo()\n",
    "pipeline_bm.confusion_matrix"
   ]
  },
  {
   "cell_type": "markdown",
   "metadata": {},
   "source": [
    "*ADABOOST*"
   ]
  },
  {
   "cell_type": "code",
   "execution_count": 24,
   "metadata": {},
   "outputs": [
    {
     "name": "stdout",
     "output_type": "stream",
     "text": [
      "Fitting 3 folds for each of 1 candidates, totalling 3 fits\n",
      "[CV] algorithm=SAMME.R, learning_rate=1, n_estimators=100, random_state=0 \n"
     ]
    },
    {
     "name": "stderr",
     "output_type": "stream",
     "text": [
      "[Parallel(n_jobs=1)]: Using backend SequentialBackend with 1 concurrent workers.\n"
     ]
    },
    {
     "name": "stdout",
     "output_type": "stream",
     "text": [
      "[CV]  algorithm=SAMME.R, learning_rate=1, n_estimators=100, random_state=0, score=0.766, total=  28.3s\n",
      "[CV] algorithm=SAMME.R, learning_rate=1, n_estimators=100, random_state=0 \n"
     ]
    },
    {
     "name": "stderr",
     "output_type": "stream",
     "text": [
      "[Parallel(n_jobs=1)]: Done   1 out of   1 | elapsed:   28.2s remaining:    0.0s\n"
     ]
    },
    {
     "name": "stdout",
     "output_type": "stream",
     "text": [
      "[CV]  algorithm=SAMME.R, learning_rate=1, n_estimators=100, random_state=0, score=0.766, total=  28.3s\n",
      "[CV] algorithm=SAMME.R, learning_rate=1, n_estimators=100, random_state=0 \n"
     ]
    },
    {
     "name": "stderr",
     "output_type": "stream",
     "text": [
      "[Parallel(n_jobs=1)]: Done   2 out of   2 | elapsed:   56.5s remaining:    0.0s\n"
     ]
    },
    {
     "name": "stdout",
     "output_type": "stream",
     "text": [
      "[CV]  algorithm=SAMME.R, learning_rate=1, n_estimators=100, random_state=0, score=0.721, total=  28.2s\n"
     ]
    },
    {
     "name": "stderr",
     "output_type": "stream",
     "text": [
      "[Parallel(n_jobs=1)]: Done   3 out of   3 | elapsed:  1.4min finished\n"
     ]
    },
    {
     "name": "stdout",
     "output_type": "stream",
     "text": [
      "best params: {'algorithm': 'SAMME.R', 'learning_rate': 1, 'n_estimators': 100, 'random_state': 0}\n",
      "best estimator: AdaBoostClassifier(learning_rate=1, n_estimators=100, random_state=0)\n",
      "ROC: 0.6914103270748555\n",
      "Modelación: OK.\n",
      "________________________________________________________________________________________________________________________\n"
     ]
    }
   ],
   "source": [
    "pipeline_bm.modelacion('AdaBoost', perf_eval='f1',ruta_exporta='D:/SOCOFAR/Modelo_AA/modelo_aa.joblib')"
   ]
  },
  {
   "cell_type": "code",
   "execution_count": 25,
   "metadata": {},
   "outputs": [
    {
     "data": {
      "image/png": "[encoded data removed]",
      "text/plain": [
       "<Figure size 432x288 with 1 Axes>"
      ]
     },
     "metadata": {
      "needs_background": "light"
     },
     "output_type": "display_data"
    }
   ],
   "source": [
    "%matplotlib inline\n",
    "plot_roc_curve(pipeline_bm.model, pipeline_bm.X_test, pipeline_bm.Y_test)\n",
    "plt.title(pipeline_bm.algoritmo + ' ROC')\n",
    "plt.show()"
   ]
  },
  {
   "cell_type": "code",
   "execution_count": 26,
   "metadata": {},
   "outputs": [
    {
     "name": "stdout",
     "output_type": "stream",
     "text": [
      "       \"ROC OPTIMO\"\n",
      "\n",
      "sens+espc:  1.3904785917838423\n",
      "KS:  0.39047859178384214\n",
      "threshold optimo:  0.493\n",
      "sensibility:  0.4225352112676056\n",
      "specificity:  0.9679433805162365\n",
      "precision:  0.16304347826086957\n",
      "negative predictive value:  0.9912598593050522\n",
      "Critical Success Index:  0.13333333333333333\n",
      "accuracy:  0.96\n",
      "f1score:  0.23529411764705885\n",
      "BalancedAccuracy:  0.6952392958919211\n"
     ]
    },
    {
     "data": {
      "text/html": [
       "<div>\n",
       "<style scoped>\n",
       "    .dataframe tbody tr th:only-of-type {\n",
       "        vertical-align: middle;\n",
       "    }\n",
       "\n",
       "    .dataframe tbody tr th {\n",
       "        vertical-align: top;\n",
       "    }\n",
       "\n",
       "    .dataframe thead th {\n",
       "        text-align: right;\n",
       "    }\n",
       "</style>\n",
       "<table border=\"1\" class=\"dataframe\">\n",
       "  <thead>\n",
       "    <tr style=\"text-align: right;\">\n",
       "      <th>TARGET</th>\n",
       "      <th>0</th>\n",
       "      <th>1</th>\n",
       "    </tr>\n",
       "    <tr>\n",
       "      <th>pred</th>\n",
       "      <th></th>\n",
       "      <th></th>\n",
       "    </tr>\n",
       "  </thead>\n",
       "  <tbody>\n",
       "    <tr>\n",
       "      <th>0</th>\n",
       "      <td>9300</td>\n",
       "      <td>82</td>\n",
       "    </tr>\n",
       "    <tr>\n",
       "      <th>1</th>\n",
       "      <td>308</td>\n",
       "      <td>60</td>\n",
       "    </tr>\n",
       "  </tbody>\n",
       "</table>\n",
       "</div>"
      ],
      "text/plain": [
       "TARGET     0   1\n",
       "pred            \n",
       "0       9300  82\n",
       "1        308  60"
      ]
     },
     "execution_count": 26,
     "metadata": {},
     "output_type": "execute_result"
    }
   ],
   "source": [
    "pipeline_bm.metricas_modelo_optimo()\n",
    "pipeline_bm.confusion_matrix"
   ]
  },
  {
   "cell_type": "markdown",
   "metadata": {},
   "source": [
    "*MLP CLASSIFIER*"
   ]
  },
  {
   "cell_type": "code",
   "execution_count": 27,
   "metadata": {},
   "outputs": [
    {
     "name": "stdout",
     "output_type": "stream",
     "text": [
      "Fitting 3 folds for each of 1 candidates, totalling 3 fits\n",
      "[CV] activation=logistic, alpha=0.0001, batch_size=auto, beta_1=0.9, beta_2=0.999, early_stopping=False, epsilon=1e-08, hidden_layer_sizes=(500, 100), learning_rate=constant, max_iter=200, momentum=0.9, n_iter_no_change=10, nesterovs_momentum=True, power_t=0.5, random_state=0, solver=sgd, tol=0.0001, validation_fraction=0.1, warm_start=False \n"
     ]
    },
    {
     "name": "stderr",
     "output_type": "stream",
     "text": [
      "[Parallel(n_jobs=1)]: Using backend SequentialBackend with 1 concurrent workers.\n"
     ]
    },
    {
     "name": "stdout",
     "output_type": "stream",
     "text": [
      "[CV]  activation=logistic, alpha=0.0001, batch_size=auto, beta_1=0.9, beta_2=0.999, early_stopping=False, epsilon=1e-08, hidden_layer_sizes=(500, 100), learning_rate=constant, max_iter=200, momentum=0.9, n_iter_no_change=10, nesterovs_momentum=True, power_t=0.5, random_state=0, solver=sgd, tol=0.0001, validation_fraction=0.1, warm_start=False, score=0.692, total=  45.5s\n",
      "[CV] activation=logistic, alpha=0.0001, batch_size=auto, beta_1=0.9, beta_2=0.999, early_stopping=False, epsilon=1e-08, hidden_layer_sizes=(500, 100), learning_rate=constant, max_iter=200, momentum=0.9, n_iter_no_change=10, nesterovs_momentum=True, power_t=0.5, random_state=0, solver=sgd, tol=0.0001, validation_fraction=0.1, warm_start=False \n"
     ]
    },
    {
     "name": "stderr",
     "output_type": "stream",
     "text": [
      "[Parallel(n_jobs=1)]: Done   1 out of   1 | elapsed:   45.4s remaining:    0.0s\n"
     ]
    },
    {
     "name": "stdout",
     "output_type": "stream",
     "text": [
      "[CV]  activation=logistic, alpha=0.0001, batch_size=auto, beta_1=0.9, beta_2=0.999, early_stopping=False, epsilon=1e-08, hidden_layer_sizes=(500, 100), learning_rate=constant, max_iter=200, momentum=0.9, n_iter_no_change=10, nesterovs_momentum=True, power_t=0.5, random_state=0, solver=sgd, tol=0.0001, validation_fraction=0.1, warm_start=False, score=0.674, total=  46.1s\n",
      "[CV] activation=logistic, alpha=0.0001, batch_size=auto, beta_1=0.9, beta_2=0.999, early_stopping=False, epsilon=1e-08, hidden_layer_sizes=(500, 100), learning_rate=constant, max_iter=200, momentum=0.9, n_iter_no_change=10, nesterovs_momentum=True, power_t=0.5, random_state=0, solver=sgd, tol=0.0001, validation_fraction=0.1, warm_start=False \n"
     ]
    },
    {
     "name": "stderr",
     "output_type": "stream",
     "text": [
      "[Parallel(n_jobs=1)]: Done   2 out of   2 | elapsed:  1.5min remaining:    0.0s\n"
     ]
    },
    {
     "name": "stdout",
     "output_type": "stream",
     "text": [
      "[CV]  activation=logistic, alpha=0.0001, batch_size=auto, beta_1=0.9, beta_2=0.999, early_stopping=False, epsilon=1e-08, hidden_layer_sizes=(500, 100), learning_rate=constant, max_iter=200, momentum=0.9, n_iter_no_change=10, nesterovs_momentum=True, power_t=0.5, random_state=0, solver=sgd, tol=0.0001, validation_fraction=0.1, warm_start=False, score=0.679, total=  47.3s\n"
     ]
    },
    {
     "name": "stderr",
     "output_type": "stream",
     "text": [
      "[Parallel(n_jobs=1)]: Done   3 out of   3 | elapsed:  2.3min finished\n"
     ]
    },
    {
     "name": "stdout",
     "output_type": "stream",
     "text": [
      "best params: {'activation': 'logistic', 'alpha': 0.0001, 'batch_size': 'auto', 'beta_1': 0.9, 'beta_2': 0.999, 'early_stopping': False, 'epsilon': 1e-08, 'hidden_layer_sizes': (500, 100), 'learning_rate': 'constant', 'max_iter': 200, 'momentum': 0.9, 'n_iter_no_change': 10, 'nesterovs_momentum': True, 'power_t': 0.5, 'random_state': 0, 'solver': 'sgd', 'tol': 0.0001, 'validation_fraction': 0.1, 'warm_start': False}\n",
      "best estimator: MLPClassifier(activation='logistic', hidden_layer_sizes=(500, 100),\n",
      "              random_state=0, solver='sgd')\n",
      "ROC: 0.7134525512776912\n",
      "Modelación: OK.\n",
      "________________________________________________________________________________________________________________________\n"
     ]
    }
   ],
   "source": [
    "pipeline_bm.modelacion('MLPClassifier', perf_eval='f1',ruta_exporta='D:/SOCOFAR/Modelo_AA/modelo_aa.joblib')"
   ]
  },
  {
   "cell_type": "code",
   "execution_count": 28,
   "metadata": {},
   "outputs": [
    {
     "data": {
      "image/png": "[encoded data removed]",
      "text/plain": [
       "<Figure size 432x288 with 1 Axes>"
      ]
     },
     "metadata": {
      "needs_background": "light"
     },
     "output_type": "display_data"
    }
   ],
   "source": [
    "%matplotlib inline\n",
    "plot_roc_curve(pipeline_bm.model, pipeline_bm.X_test, pipeline_bm.Y_test)\n",
    "plt.title(pipeline_bm.algoritmo + ' ROC')\n",
    "plt.show()"
   ]
  },
  {
   "cell_type": "code",
   "execution_count": 29,
   "metadata": {},
   "outputs": [
    {
     "name": "stdout",
     "output_type": "stream",
     "text": [
      "       \"ROC OPTIMO\"\n",
      "\n",
      "sens+espc:  1.1580724982702209\n",
      "KS:  0.15807249827022085\n",
      "threshold optimo:  0.017\n",
      "sensibility:  0.8591549295774648\n",
      "specificity:  0.29891756869275604\n",
      "precision:  0.01778944298629338\n",
      "negative predictive value:  0.9930843706777317\n",
      "Critical Success Index:  0.017737714451875546\n",
      "accuracy:  0.3070769230769231\n",
      "f1score:  0.03485714285714286\n",
      "BalancedAccuracy:  0.5790362491351104\n"
     ]
    },
    {
     "data": {
      "text/html": [
       "<div>\n",
       "<style scoped>\n",
       "    .dataframe tbody tr th:only-of-type {\n",
       "        vertical-align: middle;\n",
       "    }\n",
       "\n",
       "    .dataframe tbody tr th {\n",
       "        vertical-align: top;\n",
       "    }\n",
       "\n",
       "    .dataframe thead th {\n",
       "        text-align: right;\n",
       "    }\n",
       "</style>\n",
       "<table border=\"1\" class=\"dataframe\">\n",
       "  <thead>\n",
       "    <tr style=\"text-align: right;\">\n",
       "      <th>TARGET</th>\n",
       "      <th>0</th>\n",
       "      <th>1</th>\n",
       "    </tr>\n",
       "    <tr>\n",
       "      <th>pred</th>\n",
       "      <th></th>\n",
       "      <th></th>\n",
       "    </tr>\n",
       "  </thead>\n",
       "  <tbody>\n",
       "    <tr>\n",
       "      <th>0</th>\n",
       "      <td>2872</td>\n",
       "      <td>20</td>\n",
       "    </tr>\n",
       "    <tr>\n",
       "      <th>1</th>\n",
       "      <td>6736</td>\n",
       "      <td>122</td>\n",
       "    </tr>\n",
       "  </tbody>\n",
       "</table>\n",
       "</div>"
      ],
      "text/plain": [
       "TARGET     0    1\n",
       "pred             \n",
       "0       2872   20\n",
       "1       6736  122"
      ]
     },
     "execution_count": 29,
     "metadata": {},
     "output_type": "execute_result"
    }
   ],
   "source": [
    "pipeline_bm.metricas_modelo_optimo()\n",
    "pipeline_bm.confusion_matrix"
   ]
  },
  {
   "cell_type": "markdown",
   "metadata": {},
   "source": [
    "*RANDOM FOREST*"
   ]
  },
  {
   "cell_type": "code",
   "execution_count": 7,
   "metadata": {},
   "outputs": [
    {
     "name": "stdout",
     "output_type": "stream",
     "text": [
      "Separacion de muestras: OK.\n",
      "________________________________________________________________________________________________________________________\n",
      "Fitting 3 folds for each of 4 candidates, totalling 12 fits\n",
      "[CV] bootstrap=True, class_weight=None, criterion=gini, n_estimators=100, n_jobs=-1, oob_score=True, random_state=0 \n"
     ]
    },
    {
     "name": "stderr",
     "output_type": "stream",
     "text": [
      "[Parallel(n_jobs=1)]: Using backend SequentialBackend with 1 concurrent workers.\n"
     ]
    },
    {
     "name": "stdout",
     "output_type": "stream",
     "text": [
      "[CV]  bootstrap=True, class_weight=None, criterion=gini, n_estimators=100, n_jobs=-1, oob_score=True, random_state=0, score=0.781, total=  22.8s\n",
      "[CV] bootstrap=True, class_weight=None, criterion=gini, n_estimators=100, n_jobs=-1, oob_score=True, random_state=0 \n"
     ]
    },
    {
     "name": "stderr",
     "output_type": "stream",
     "text": [
      "[Parallel(n_jobs=1)]: Done   1 out of   1 | elapsed:   22.7s remaining:    0.0s\n"
     ]
    },
    {
     "name": "stdout",
     "output_type": "stream",
     "text": [
      "[CV]  bootstrap=True, class_weight=None, criterion=gini, n_estimators=100, n_jobs=-1, oob_score=True, random_state=0, score=0.784, total=  19.0s\n",
      "[CV] bootstrap=True, class_weight=None, criterion=gini, n_estimators=100, n_jobs=-1, oob_score=True, random_state=0 \n"
     ]
    },
    {
     "name": "stderr",
     "output_type": "stream",
     "text": [
      "[Parallel(n_jobs=1)]: Done   2 out of   2 | elapsed:   41.8s remaining:    0.0s\n"
     ]
    },
    {
     "name": "stdout",
     "output_type": "stream",
     "text": [
      "[CV]  bootstrap=True, class_weight=None, criterion=gini, n_estimators=100, n_jobs=-1, oob_score=True, random_state=0, score=0.787, total=  19.0s\n",
      "[CV] bootstrap=True, class_weight=None, criterion=gini, n_estimators=500, n_jobs=-1, oob_score=True, random_state=0 \n",
      "[CV]  bootstrap=True, class_weight=None, criterion=gini, n_estimators=500, n_jobs=-1, oob_score=True, random_state=0, score=0.786, total= 1.5min\n",
      "[CV] bootstrap=True, class_weight=None, criterion=gini, n_estimators=500, n_jobs=-1, oob_score=True, random_state=0 \n",
      "[CV]  bootstrap=True, class_weight=None, criterion=gini, n_estimators=500, n_jobs=-1, oob_score=True, random_state=0, score=0.791, total= 1.6min\n",
      "[CV] bootstrap=True, class_weight=None, criterion=gini, n_estimators=500, n_jobs=-1, oob_score=True, random_state=0 \n",
      "[CV]  bootstrap=True, class_weight=None, criterion=gini, n_estimators=500, n_jobs=-1, oob_score=True, random_state=0, score=0.792, total= 1.7min\n",
      "[CV] bootstrap=True, class_weight=None, criterion=entropy, n_estimators=100, n_jobs=-1, oob_score=True, random_state=0 \n",
      "[CV]  bootstrap=True, class_weight=None, criterion=entropy, n_estimators=100, n_jobs=-1, oob_score=True, random_state=0, score=0.782, total=  20.0s\n",
      "[CV] bootstrap=True, class_weight=None, criterion=entropy, n_estimators=100, n_jobs=-1, oob_score=True, random_state=0 \n",
      "[CV]  bootstrap=True, class_weight=None, criterion=entropy, n_estimators=100, n_jobs=-1, oob_score=True, random_state=0, score=0.787, total=  20.0s\n",
      "[CV] bootstrap=True, class_weight=None, criterion=entropy, n_estimators=100, n_jobs=-1, oob_score=True, random_state=0 \n",
      "[CV]  bootstrap=True, class_weight=None, criterion=entropy, n_estimators=100, n_jobs=-1, oob_score=True, random_state=0, score=0.789, total=  19.8s\n",
      "[CV] bootstrap=True, class_weight=None, criterion=entropy, n_estimators=500, n_jobs=-1, oob_score=True, random_state=0 \n",
      "[CV]  bootstrap=True, class_weight=None, criterion=entropy, n_estimators=500, n_jobs=-1, oob_score=True, random_state=0, score=0.787, total= 1.6min\n",
      "[CV] bootstrap=True, class_weight=None, criterion=entropy, n_estimators=500, n_jobs=-1, oob_score=True, random_state=0 \n",
      "[CV]  bootstrap=True, class_weight=None, criterion=entropy, n_estimators=500, n_jobs=-1, oob_score=True, random_state=0, score=0.792, total= 1.6min\n",
      "[CV] bootstrap=True, class_weight=None, criterion=entropy, n_estimators=500, n_jobs=-1, oob_score=True, random_state=0 \n",
      "[CV]  bootstrap=True, class_weight=None, criterion=entropy, n_estimators=500, n_jobs=-1, oob_score=True, random_state=0, score=0.793, total= 1.6min\n"
     ]
    },
    {
     "name": "stderr",
     "output_type": "stream",
     "text": [
      "[Parallel(n_jobs=1)]: Done  12 out of  12 | elapsed: 11.7min finished\n"
     ]
    },
    {
     "name": "stdout",
     "output_type": "stream",
     "text": [
      "best params: {'bootstrap': True, 'class_weight': None, 'criterion': 'entropy', 'n_estimators': 500, 'n_jobs': -1, 'oob_score': True, 'random_state': 0}\n",
      "best estimator: RandomForestClassifier(criterion='entropy', n_estimators=500, n_jobs=-1,\n",
      "                       oob_score=True, random_state=0)\n",
      "ROC: 0.7921916909325564\n",
      "Modelación: OK.\n",
      "________________________________________________________________________________________________________________________\n"
     ]
    }
   ],
   "source": [
    "pipeline_bm.separa_muestras()\n",
    "pipeline_bm.modelacion('RandomForest', perf_eval='f1',ruta_exporta='D:/SOCOFAR/Modelo_AA/modelo_aa.joblib')"
   ]
  },
  {
   "cell_type": "code",
   "execution_count": 8,
   "metadata": {},
   "outputs": [
    {
     "data": {
      "image/png": "[encoded data removed]",
      "text/plain": [
       "<Figure size 432x288 with 1 Axes>"
      ]
     },
     "metadata": {
      "needs_background": "light"
     },
     "output_type": "display_data"
    }
   ],
   "source": [
    "%matplotlib inline\n",
    "plot_roc_curve(pipeline_bm.model, pipeline_bm.X_test, pipeline_bm.Y_test)\n",
    "plt.title(pipeline_bm.algoritmo + ' ROC')\n",
    "plt.show()"
   ]
  },
  {
   "cell_type": "code",
   "execution_count": 9,
   "metadata": {},
   "outputs": [
    {
     "name": "stdout",
     "output_type": "stream",
     "text": [
      "\"ROC OPTIMO\"\n",
      "\n",
      "sens+espc:  1.4634164276406008\n",
      "KS:  0.46341642764060076\n",
      "threshold optimo:  0.523\n",
      "sensibility:  0.5595881333469263\n",
      "specificity:  0.9038282942936745\n",
      "precision:  0.8548512692726989\n",
      "negative predictive value:  0.6696995183117975\n",
      "Critical Success Index:  0.5110324923191509\n",
      "accuracy:  0.7306666666666667\n",
      "f1score:  0.6764017252002464\n",
      "BalancedAccuracy:  0.7317082138203004\n"
     ]
    },
    {
     "data": {
      "text/html": [
       "<div>\n",
       "<style scoped>\n",
       "    .dataframe tbody tr th:only-of-type {\n",
       "        vertical-align: middle;\n",
       "    }\n",
       "\n",
       "    .dataframe tbody tr th {\n",
       "        vertical-align: top;\n",
       "    }\n",
       "\n",
       "    .dataframe thead th {\n",
       "        text-align: right;\n",
       "    }\n",
       "</style>\n",
       "<table border=\"1\" class=\"dataframe\">\n",
       "  <thead>\n",
       "    <tr style=\"text-align: right;\">\n",
       "      <th>TARGET</th>\n",
       "      <th>0</th>\n",
       "      <th>1</th>\n",
       "    </tr>\n",
       "    <tr>\n",
       "      <th>pred</th>\n",
       "      <th></th>\n",
       "      <th></th>\n",
       "    </tr>\n",
       "  </thead>\n",
       "  <tbody>\n",
       "    <tr>\n",
       "      <th>0</th>\n",
       "      <td>17518</td>\n",
       "      <td>8640</td>\n",
       "    </tr>\n",
       "    <tr>\n",
       "      <th>1</th>\n",
       "      <td>1864</td>\n",
       "      <td>10978</td>\n",
       "    </tr>\n",
       "  </tbody>\n",
       "</table>\n",
       "</div>"
      ],
      "text/plain": [
       "TARGET      0      1\n",
       "pred                \n",
       "0       17518   8640\n",
       "1        1864  10978"
      ]
     },
     "execution_count": 9,
     "metadata": {},
     "output_type": "execute_result"
    }
   ],
   "source": [
    "pipeline_bm.metricas_modelo_optimo()\n",
    "pipeline_bm.confusion_matrix"
   ]
  },
  {
   "cell_type": "markdown",
   "metadata": {},
   "source": [
    "*XGBOOST*"
   ]
  },
  {
   "cell_type": "code",
   "execution_count": 33,
   "metadata": {},
   "outputs": [
    {
     "name": "stdout",
     "output_type": "stream",
     "text": [
      "Separacion de muestras: OK.\n",
      "________________________________________________________________________________________________________________________\n",
      "Fitting 3 folds for each of 1 candidates, totalling 3 fits\n",
      "[CV] colsample_bytree=0.6, gamma=0.5, max_depth=5, min_child_weight=1, subsample=0.6 \n"
     ]
    },
    {
     "name": "stderr",
     "output_type": "stream",
     "text": [
      "[Parallel(n_jobs=1)]: Using backend SequentialBackend with 1 concurrent workers.\n"
     ]
    },
    {
     "name": "stdout",
     "output_type": "stream",
     "text": [
      "[01:18:43] WARNING: C:/Users/Administrator/workspace/xgboost-win64_release_1.6.0/src/learner.cc:627: \n",
      "Parameters: { \"silent\" } might not be used.\n",
      "\n",
      "  This could be a false alarm, with some parameters getting used by language bindings but\n",
      "  then being mistakenly passed down to XGBoost core, or some parameter actually being used\n",
      "  but getting flagged wrongly here. Please open an issue if you find any such cases.\n",
      "\n",
      "\n",
      "[CV]  colsample_bytree=0.6, gamma=0.5, max_depth=5, min_child_weight=1, subsample=0.6, score=0.737, total=  50.1s\n",
      "[CV] colsample_bytree=0.6, gamma=0.5, max_depth=5, min_child_weight=1, subsample=0.6 \n"
     ]
    },
    {
     "name": "stderr",
     "output_type": "stream",
     "text": [
      "[Parallel(n_jobs=1)]: Done   1 out of   1 | elapsed:   50.0s remaining:    0.0s\n"
     ]
    },
    {
     "name": "stdout",
     "output_type": "stream",
     "text": [
      "[01:19:33] WARNING: C:/Users/Administrator/workspace/xgboost-win64_release_1.6.0/src/learner.cc:627: \n",
      "Parameters: { \"silent\" } might not be used.\n",
      "\n",
      "  This could be a false alarm, with some parameters getting used by language bindings but\n",
      "  then being mistakenly passed down to XGBoost core, or some parameter actually being used\n",
      "  but getting flagged wrongly here. Please open an issue if you find any such cases.\n",
      "\n",
      "\n",
      "[CV]  colsample_bytree=0.6, gamma=0.5, max_depth=5, min_child_weight=1, subsample=0.6, score=0.779, total=  49.7s\n",
      "[CV] colsample_bytree=0.6, gamma=0.5, max_depth=5, min_child_weight=1, subsample=0.6 \n"
     ]
    },
    {
     "name": "stderr",
     "output_type": "stream",
     "text": [
      "[Parallel(n_jobs=1)]: Done   2 out of   2 | elapsed:  1.7min remaining:    0.0s\n"
     ]
    },
    {
     "name": "stdout",
     "output_type": "stream",
     "text": [
      "[01:20:23] WARNING: C:/Users/Administrator/workspace/xgboost-win64_release_1.6.0/src/learner.cc:627: \n",
      "Parameters: { \"silent\" } might not be used.\n",
      "\n",
      "  This could be a false alarm, with some parameters getting used by language bindings but\n",
      "  then being mistakenly passed down to XGBoost core, or some parameter actually being used\n",
      "  but getting flagged wrongly here. Please open an issue if you find any such cases.\n",
      "\n",
      "\n",
      "[CV]  colsample_bytree=0.6, gamma=0.5, max_depth=5, min_child_weight=1, subsample=0.6, score=0.753, total=  49.9s\n"
     ]
    },
    {
     "name": "stderr",
     "output_type": "stream",
     "text": [
      "[Parallel(n_jobs=1)]: Done   3 out of   3 | elapsed:  2.5min finished\n"
     ]
    },
    {
     "name": "stdout",
     "output_type": "stream",
     "text": [
      "[01:21:13] WARNING: C:/Users/Administrator/workspace/xgboost-win64_release_1.6.0/src/learner.cc:627: \n",
      "Parameters: { \"silent\" } might not be used.\n",
      "\n",
      "  This could be a false alarm, with some parameters getting used by language bindings but\n",
      "  then being mistakenly passed down to XGBoost core, or some parameter actually being used\n",
      "  but getting flagged wrongly here. Please open an issue if you find any such cases.\n",
      "\n",
      "\n",
      "best params: {'colsample_bytree': 0.6, 'gamma': 0.5, 'max_depth': 5, 'min_child_weight': 1, 'subsample': 0.6}\n",
      "best estimator: XGBClassifier(base_score=0.5, booster='gbtree', callbacks=None,\n",
      "              colsample_bylevel=1, colsample_bynode=1, colsample_bytree=0.6,\n",
      "              early_stopping_rounds=None, enable_categorical=False,\n",
      "              eval_metric=None, gamma=0.5, gpu_id=-1, grow_policy='depthwise',\n",
      "              importance_type=None, interaction_constraints='',\n",
      "              learning_rate=0.3, max_bin=256, max_cat_to_onehot=4,\n",
      "              max_delta_step=0, max_depth=5, max_leaves=0, min_child_weight=1,\n",
      "              missing=nan, monotone_constraints='()', n_estimators=100,\n",
      "              n_jobs=1, nthread=1, num_parallel_tree=1, predictor='auto',\n",
      "              random_state=0, reg_alpha=0, ...)\n",
      "ROC: 0.7314202659755368\n",
      "Modelación: OK.\n",
      "________________________________________________________________________________________________________________________\n"
     ]
    }
   ],
   "source": [
    "pipeline_bm.separa_muestras()\n",
    "pipeline_bm.modelacion('XGBoost', perf_eval='f1',ruta_exporta='D:/SOCOFAR/Modelo_AA/modelo_aa.joblib')"
   ]
  },
  {
   "cell_type": "code",
   "execution_count": 34,
   "metadata": {},
   "outputs": [
    {
     "data": {
      "image/png": "[encoded data removed]",
      "text/plain": [
       "<Figure size 432x288 with 1 Axes>"
      ]
     },
     "metadata": {
      "needs_background": "light"
     },
     "output_type": "display_data"
    }
   ],
   "source": [
    "%matplotlib inline\n",
    "plot_roc_curve(pipeline_bm.model, pipeline_bm.X_test, pipeline_bm.Y_test)\n",
    "plt.title(pipeline_bm.algoritmo + ' ROC')\n",
    "plt.show()"
   ]
  },
  {
   "cell_type": "code",
   "execution_count": 35,
   "metadata": {},
   "outputs": [
    {
     "name": "stdout",
     "output_type": "stream",
     "text": [
      "       \"ROC OPTIMO\"\n",
      "\n",
      "sens+espc:  1.4113942606513352\n",
      "KS:  0.4113942606513352\n",
      "threshold optimo:  0.02\n",
      "sensibility:  0.4859154929577465\n",
      "specificity:  0.9254787676935887\n",
      "precision:  0.08789808917197452\n",
      "negative predictive value:  0.9918572225320692\n",
      "Critical Success Index:  0.08041958041958042\n",
      "accuracy:  0.9190769230769231\n",
      "f1score:  0.14886731391585759\n",
      "BalancedAccuracy:  0.7056971303256676\n"
     ]
    },
    {
     "data": {
      "text/html": [
       "<div>\n",
       "<style scoped>\n",
       "    .dataframe tbody tr th:only-of-type {\n",
       "        vertical-align: middle;\n",
       "    }\n",
       "\n",
       "    .dataframe tbody tr th {\n",
       "        vertical-align: top;\n",
       "    }\n",
       "\n",
       "    .dataframe thead th {\n",
       "        text-align: right;\n",
       "    }\n",
       "</style>\n",
       "<table border=\"1\" class=\"dataframe\">\n",
       "  <thead>\n",
       "    <tr style=\"text-align: right;\">\n",
       "      <th>TARGET</th>\n",
       "      <th>0</th>\n",
       "      <th>1</th>\n",
       "    </tr>\n",
       "    <tr>\n",
       "      <th>pred</th>\n",
       "      <th></th>\n",
       "      <th></th>\n",
       "    </tr>\n",
       "  </thead>\n",
       "  <tbody>\n",
       "    <tr>\n",
       "      <th>0</th>\n",
       "      <td>8892</td>\n",
       "      <td>73</td>\n",
       "    </tr>\n",
       "    <tr>\n",
       "      <th>1</th>\n",
       "      <td>716</td>\n",
       "      <td>69</td>\n",
       "    </tr>\n",
       "  </tbody>\n",
       "</table>\n",
       "</div>"
      ],
      "text/plain": [
       "TARGET     0   1\n",
       "pred            \n",
       "0       8892  73\n",
       "1        716  69"
      ]
     },
     "execution_count": 35,
     "metadata": {},
     "output_type": "execute_result"
    }
   ],
   "source": [
    "pipeline_bm.metricas_modelo_optimo()\n",
    "pipeline_bm.confusion_matrix"
   ]
  },
  {
   "cell_type": "markdown",
   "metadata": {},
   "source": [
    "# **FEATURE IMPORTANCE** \n",
    "*Al momento de entrenar el random forest se genera el feature importance, aca se listan las variables y respectivos importancias*"
   ]
  },
  {
   "cell_type": "code",
   "execution_count": 10,
   "metadata": {},
   "outputs": [
    {
     "data": {
      "text/html": [
       "<div>\n",
       "<style scoped>\n",
       "    .dataframe tbody tr th:only-of-type {\n",
       "        vertical-align: middle;\n",
       "    }\n",
       "\n",
       "    .dataframe tbody tr th {\n",
       "        vertical-align: top;\n",
       "    }\n",
       "\n",
       "    .dataframe thead th {\n",
       "        text-align: right;\n",
       "    }\n",
       "</style>\n",
       "<table border=\"1\" class=\"dataframe\">\n",
       "  <thead>\n",
       "    <tr style=\"text-align: right;\">\n",
       "      <th></th>\n",
       "      <th>variable</th>\n",
       "      <th>f_importance</th>\n",
       "    </tr>\n",
       "  </thead>\n",
       "  <tbody>\n",
       "    <tr>\n",
       "      <th>413</th>\n",
       "      <td>COMUNA</td>\n",
       "      <td>0.030337</td>\n",
       "    </tr>\n",
       "    <tr>\n",
       "      <th>409</th>\n",
       "      <td>MACRO_GRAL</td>\n",
       "      <td>0.022161</td>\n",
       "    </tr>\n",
       "    <tr>\n",
       "      <th>404</th>\n",
       "      <td>EDAD</td>\n",
       "      <td>0.020820</td>\n",
       "    </tr>\n",
       "    <tr>\n",
       "      <th>375</th>\n",
       "      <td>TICKET_AA_UAM</td>\n",
       "      <td>0.020120</td>\n",
       "    </tr>\n",
       "    <tr>\n",
       "      <th>410</th>\n",
       "      <td>MACRO_BYCP</td>\n",
       "      <td>0.019950</td>\n",
       "    </tr>\n",
       "    <tr>\n",
       "      <th>403</th>\n",
       "      <td>GSE</td>\n",
       "      <td>0.019495</td>\n",
       "    </tr>\n",
       "    <tr>\n",
       "      <th>411</th>\n",
       "      <td>MACRO_FARMA</td>\n",
       "      <td>0.018164</td>\n",
       "    </tr>\n",
       "    <tr>\n",
       "      <th>67</th>\n",
       "      <td>MONTO_AA_6UM</td>\n",
       "      <td>0.016295</td>\n",
       "    </tr>\n",
       "    <tr>\n",
       "      <th>66</th>\n",
       "      <td>MONTO_AA_UAM</td>\n",
       "      <td>0.015915</td>\n",
       "    </tr>\n",
       "    <tr>\n",
       "      <th>381</th>\n",
       "      <td>DCTO_PCT_AA_UAM</td>\n",
       "      <td>0.014181</td>\n",
       "    </tr>\n",
       "    <tr>\n",
       "      <th>68</th>\n",
       "      <td>MONTO_AA_3UM</td>\n",
       "      <td>0.011873</td>\n",
       "    </tr>\n",
       "    <tr>\n",
       "      <th>408</th>\n",
       "      <td>MESES_INSCRITOS</td>\n",
       "      <td>0.008587</td>\n",
       "    </tr>\n",
       "    <tr>\n",
       "      <th>325</th>\n",
       "      <td>TEND_MONTO_AA_6UM</td>\n",
       "      <td>0.008096</td>\n",
       "    </tr>\n",
       "    <tr>\n",
       "      <th>47</th>\n",
       "      <td>FREQ_SUPLEMENTO_3UM</td>\n",
       "      <td>0.007892</td>\n",
       "    </tr>\n",
       "    <tr>\n",
       "      <th>84</th>\n",
       "      <td>TRX_AA_UAM</td>\n",
       "      <td>0.007512</td>\n",
       "    </tr>\n",
       "    <tr>\n",
       "      <th>17</th>\n",
       "      <td>FREQ_AA_3UM</td>\n",
       "      <td>0.007142</td>\n",
       "    </tr>\n",
       "    <tr>\n",
       "      <th>376</th>\n",
       "      <td>DCTO_PCT_CV_UAM</td>\n",
       "      <td>0.007034</td>\n",
       "    </tr>\n",
       "    <tr>\n",
       "      <th>402</th>\n",
       "      <td>GENERO</td>\n",
       "      <td>0.007005</td>\n",
       "    </tr>\n",
       "    <tr>\n",
       "      <th>412</th>\n",
       "      <td>MACRO_WELLNESS</td>\n",
       "      <td>0.006967</td>\n",
       "    </tr>\n",
       "    <tr>\n",
       "      <th>395</th>\n",
       "      <td>TICKET_DCTO_AA_UAM</td>\n",
       "      <td>0.006767</td>\n",
       "    </tr>\n",
       "    <tr>\n",
       "      <th>377</th>\n",
       "      <td>DCTO_PCT_FARMA_UAM</td>\n",
       "      <td>0.006735</td>\n",
       "    </tr>\n",
       "    <tr>\n",
       "      <th>370</th>\n",
       "      <td>TICKET_CV_UAM</td>\n",
       "      <td>0.006645</td>\n",
       "    </tr>\n",
       "    <tr>\n",
       "      <th>397</th>\n",
       "      <td>PROD_TRX_FARMA_UAM</td>\n",
       "      <td>0.006615</td>\n",
       "    </tr>\n",
       "    <tr>\n",
       "      <th>405</th>\n",
       "      <td>PIRAMIDE</td>\n",
       "      <td>0.006595</td>\n",
       "    </tr>\n",
       "    <tr>\n",
       "      <th>305</th>\n",
       "      <td>DSCTO_AA_UAM</td>\n",
       "      <td>0.006582</td>\n",
       "    </tr>\n",
       "    <tr>\n",
       "      <th>194</th>\n",
       "      <td>NPROD_SUPLEMENTO_UAM</td>\n",
       "      <td>0.006353</td>\n",
       "    </tr>\n",
       "    <tr>\n",
       "      <th>396</th>\n",
       "      <td>PROD_TRX_CV_UAM</td>\n",
       "      <td>0.006328</td>\n",
       "    </tr>\n",
       "    <tr>\n",
       "      <th>313</th>\n",
       "      <td>TEND_FREQ_AA_6UM</td>\n",
       "      <td>0.006276</td>\n",
       "    </tr>\n",
       "    <tr>\n",
       "      <th>371</th>\n",
       "      <td>TICKET_FARMA_UAM</td>\n",
       "      <td>0.006265</td>\n",
       "    </tr>\n",
       "    <tr>\n",
       "      <th>351</th>\n",
       "      <td>TEND_NPROD_AA_6UM</td>\n",
       "      <td>0.006140</td>\n",
       "    </tr>\n",
       "  </tbody>\n",
       "</table>\n",
       "</div>"
      ],
      "text/plain": [
       "                 variable  f_importance\n",
       "413                COMUNA      0.030337\n",
       "409            MACRO_GRAL      0.022161\n",
       "404                  EDAD      0.020820\n",
       "375         TICKET_AA_UAM      0.020120\n",
       "410            MACRO_BYCP      0.019950\n",
       "403                   GSE      0.019495\n",
       "411           MACRO_FARMA      0.018164\n",
       "67           MONTO_AA_6UM      0.016295\n",
       "66           MONTO_AA_UAM      0.015915\n",
       "381       DCTO_PCT_AA_UAM      0.014181\n",
       "68           MONTO_AA_3UM      0.011873\n",
       "408       MESES_INSCRITOS      0.008587\n",
       "325     TEND_MONTO_AA_6UM      0.008096\n",
       "47    FREQ_SUPLEMENTO_3UM      0.007892\n",
       "84             TRX_AA_UAM      0.007512\n",
       "17            FREQ_AA_3UM      0.007142\n",
       "376       DCTO_PCT_CV_UAM      0.007034\n",
       "402                GENERO      0.007005\n",
       "412        MACRO_WELLNESS      0.006967\n",
       "395    TICKET_DCTO_AA_UAM      0.006767\n",
       "377    DCTO_PCT_FARMA_UAM      0.006735\n",
       "370         TICKET_CV_UAM      0.006645\n",
       "397    PROD_TRX_FARMA_UAM      0.006615\n",
       "405              PIRAMIDE      0.006595\n",
       "305          DSCTO_AA_UAM      0.006582\n",
       "194  NPROD_SUPLEMENTO_UAM      0.006353\n",
       "396       PROD_TRX_CV_UAM      0.006328\n",
       "313      TEND_FREQ_AA_6UM      0.006276\n",
       "371      TICKET_FARMA_UAM      0.006265\n",
       "351     TEND_NPROD_AA_6UM      0.006140"
      ]
     },
     "execution_count": 10,
     "metadata": {},
     "output_type": "execute_result"
    }
   ],
   "source": [
    "n_variables=30\n",
    "pipeline_bm.rf_feature_importance.head(n_variables)"
   ]
  },
  {
   "cell_type": "code",
   "execution_count": 2,
   "metadata": {},
   "outputs": [],
   "source": [
    "#features=list(pipeline_bm.rf_feature_importance.variable.head(n_variables).values)\n",
    "#features=['COMUNA','MACRO_GRAL','EDAD','TICKET_AA_UAM','MACRO_BYCP','GSE','MACRO_FARMA','MESES_INSCRITOS','GENERO','MACRO_WELLNESS','TICKET_CV_UAM','PROD_TRX_FARMA_UAM','PIRAMIDE','PROD_TRX_CV_UAM','TICKET_FARMA_UAM']\n",
    "#features=['COMUNA','MACRO_GRAL','EDAD','TICKET_AA_UAM','MACRO_BYCP','GSE','MACRO_FARMA','MESES_INSCRITOS','GENERO','MACRO_WELLNESS']\n",
    "#features=['COMUNA','MACRO_GRAL','EDAD','TICKET_AA_UAM','MACRO_BYCP','GSE']\n",
    "#features=['COMUNA','MACRO_GRAL','EDAD','TICKET_AA_UAM']\n",
    "features=['COMUNA','MACRO_GRAL','EDAD','TICKET_AA_UAM','GSE','PIRAMIDE']\n",
    "features2=[]\n",
    "features2 = features2+[col for col in features if 'DCTO' not in col] #Excluye las features de DCTO dado que generan problemas por tipo de datos"
   ]
  },
  {
   "cell_type": "markdown",
   "metadata": {},
   "source": [
    "*en este punto se acotan las variables por importancia y se vuelve a cargar y preprocesar el dataset con este subconjunto de variables. Luego de todo este proceso se estudió correlación entre variables y finalmente se seleccionó un subconjunto de variables no correlacionadas*"
   ]
  },
  {
   "cell_type": "code",
   "execution_count": 3,
   "metadata": {},
   "outputs": [
    {
     "data": {
      "text/plain": [
       "'SELECT RUT_CLIENTE,COMUNA,MACRO_GRAL,EDAD,TICKET_AA_UAM,GSE,PIRAMIDE,TARGET FROM AA_MODELAR_2022_V2'"
      ]
     },
     "execution_count": 3,
     "metadata": {},
     "output_type": "execute_result"
    }
   ],
   "source": [
    "query = 'SELECT RUT_CLIENTE,'\n",
    "for i in features2:\n",
    "    query = query + i + ','\n",
    "query = query + 'TARGET FROM AA_MODELAR_2022_V2'\n",
    "query"
   ]
  },
  {
   "cell_type": "code",
   "execution_count": 4,
   "metadata": {},
   "outputs": [
    {
     "data": {
      "text/plain": [
       "['GSE', 'PIRAMIDE', 'MACRO_GRAL', 'COMUNA']"
      ]
     },
     "execution_count": 4,
     "metadata": {},
     "output_type": "execute_result"
    }
   ],
   "source": [
    "categoricas2=[]\n",
    "for i in ['GENERO','GSE','PIRAMIDE','ACTIVIDAD','MACRO_GRAL','MACRO_BYCP','MACRO_FARMA','MACRO_WELLNESS','COMUNA','MES']:\n",
    "    categoricas2 = categoricas2+[col for col in features2 if i in col] # Se genera lista de las variables categoricas contenidas en el listado de features\n",
    "categoricas2 = list(filter(lambda categoria: categoria not in ('MESES_INSCRITOS'), categoricas2))\n",
    "categoricas2"
   ]
  },
  {
   "cell_type": "code",
   "execution_count": 5,
   "metadata": {},
   "outputs": [
    {
     "name": "stdout",
     "output_type": "stream",
     "text": [
      "Procesando...\n",
      "________________________________________________________________________________________________________________________\n",
      "Datos recibidos: OK.\n",
      "Número de filas y columnas del dataset: (130000, 8)\n",
      "________________________________________________________________________________________________________________________\n"
     ]
    }
   ],
   "source": [
    "pipeline_bm.recibe_data(\n",
    "    tipo = 'query',\n",
    "    server = 'ORACLE',\n",
    "    dataset_o_query = query,\n",
    "    target = 'TARGET', \n",
    "    #muestra = 'MUESTRA',\n",
    "    #ano_mes = 'FECHA_VENTA',\n",
    "    rut = 'RUT_CLIENTE', \n",
    "    excluir=[],\n",
    "    categoricas = categoricas2\n",
    ")"
   ]
  },
  {
   "cell_type": "code",
   "execution_count": 6,
   "metadata": {},
   "outputs": [
    {
     "name": "stdout",
     "output_type": "stream",
     "text": [
      "Variables fueron imputadas por medias: OK.\n",
      "________________________________________________________________________________________________________________________\n",
      "Woeizado de Variables: OK.\n",
      "________________________________________________________________________________________________________________________\n"
     ]
    }
   ],
   "source": [
    "pipeline_bm.inicializar()\n",
    "pipeline_bm.imputacion_nulos(imputar_0=['MONTO','FREQ','TRX','PROD_DIS','DSCTO','DCTO','NVISITAS','RECENCIA','NPROD','TICKET','PROP','MESES_INSCRITOS'])\n",
    "#pipeline_bm.categoriza_continuas_nulos(corte_nulos=0.05, cuantiles_inicio=5)\n",
    "#pipeline_bm.imputacion_nulos(estadistico_o_metodo='knn', n_vecinos=5)\n",
    "pipeline_bm.Woeizar2(ruta_exporta='D:/SOCOFAR/Modelo_AA/clf_woe_aa.joblib')\n",
    "#pipeline_bm.aplicar_log()\n",
    "#pipeline_bm.feature_scaling(metodo='estandar')\n",
    "#pipeline_bm.dumifica(botar_primera_col=True)"
   ]
  },
  {
   "cell_type": "markdown",
   "metadata": {},
   "source": [
    "*luego se reejecuta el modelo seleccionado para modelar, solo utilizando el subconjunto de variables que proporciona el mejor trade-off entre \"n\" de variables y performance*"
   ]
  },
  {
   "cell_type": "code",
   "execution_count": 7,
   "metadata": {},
   "outputs": [
    {
     "name": "stdout",
     "output_type": "stream",
     "text": [
      "Separacion de muestras: OK.\n",
      "________________________________________________________________________________________________________________________\n",
      "Fitting 3 folds for each of 54 candidates, totalling 162 fits\n",
      "[CV] C=0.1, class_weight=None, penalty=l2, random_state=0, solver=saga \n"
     ]
    },
    {
     "name": "stderr",
     "output_type": "stream",
     "text": [
      "[Parallel(n_jobs=1)]: Using backend SequentialBackend with 1 concurrent workers.\n"
     ]
    },
    {
     "name": "stdout",
     "output_type": "stream",
     "text": [
      "[CV]  C=0.1, class_weight=None, penalty=l2, random_state=0, solver=saga, score=0.651, total=   0.3s\n",
      "[CV] C=0.1, class_weight=None, penalty=l2, random_state=0, solver=saga \n"
     ]
    },
    {
     "name": "stderr",
     "output_type": "stream",
     "text": [
      "[Parallel(n_jobs=1)]: Done   1 out of   1 | elapsed:    0.2s remaining:    0.0s\n"
     ]
    },
    {
     "name": "stdout",
     "output_type": "stream",
     "text": [
      "[CV]  C=0.1, class_weight=None, penalty=l2, random_state=0, solver=saga, score=0.652, total=   0.2s\n",
      "[CV] C=0.1, class_weight=None, penalty=l2, random_state=0, solver=saga \n"
     ]
    },
    {
     "name": "stderr",
     "output_type": "stream",
     "text": [
      "[Parallel(n_jobs=1)]: Done   2 out of   2 | elapsed:    0.4s remaining:    0.0s\n"
     ]
    },
    {
     "name": "stdout",
     "output_type": "stream",
     "text": [
      "[CV]  C=0.1, class_weight=None, penalty=l2, random_state=0, solver=saga, score=0.660, total=   0.2s\n",
      "[CV] C=0.1, class_weight=None, penalty=l2, random_state=0, solver=lbfgs \n",
      "[CV]  C=0.1, class_weight=None, penalty=l2, random_state=0, solver=lbfgs, score=0.651, total=   1.1s\n",
      "[CV] C=0.1, class_weight=None, penalty=l2, random_state=0, solver=lbfgs \n",
      "[CV]  C=0.1, class_weight=None, penalty=l2, random_state=0, solver=lbfgs, score=0.652, total=   0.1s\n",
      "[CV] C=0.1, class_weight=None, penalty=l2, random_state=0, solver=lbfgs \n",
      "[CV]  C=0.1, class_weight=None, penalty=l2, random_state=0, solver=lbfgs, score=0.660, total=   0.1s\n",
      "[CV] C=0.1, class_weight=None, penalty=l2, random_state=0, solver=sag \n",
      "[CV]  C=0.1, class_weight=None, penalty=l2, random_state=0, solver=sag, score=0.651, total=   0.2s\n",
      "[CV] C=0.1, class_weight=None, penalty=l2, random_state=0, solver=sag \n",
      "[CV]  C=0.1, class_weight=None, penalty=l2, random_state=0, solver=sag, score=0.652, total=   0.2s\n",
      "[CV] C=0.1, class_weight=None, penalty=l2, random_state=0, solver=sag \n",
      "[CV]  C=0.1, class_weight=None, penalty=l2, random_state=0, solver=sag, score=0.660, total=   0.2s\n",
      "[CV] C=0.1, class_weight=None, penalty=elasticnet, random_state=0, solver=saga \n",
      "[CV]  C=0.1, class_weight=None, penalty=elasticnet, random_state=0, solver=saga, score=nan, total=   0.0s\n",
      "[CV] C=0.1, class_weight=None, penalty=elasticnet, random_state=0, solver=saga \n",
      "[CV]  C=0.1, class_weight=None, penalty=elasticnet, random_state=0, solver=saga, score=nan, total=   0.0s\n",
      "[CV] C=0.1, class_weight=None, penalty=elasticnet, random_state=0, solver=saga \n",
      "[CV]  C=0.1, class_weight=None, penalty=elasticnet, random_state=0, solver=saga, score=nan, total=   0.0s\n",
      "[CV] C=0.1, class_weight=None, penalty=elasticnet, random_state=0, solver=lbfgs \n",
      "[CV]  C=0.1, class_weight=None, penalty=elasticnet, random_state=0, solver=lbfgs, score=nan, total=   0.0s\n",
      "[CV] C=0.1, class_weight=None, penalty=elasticnet, random_state=0, solver=lbfgs \n",
      "[CV]  C=0.1, class_weight=None, penalty=elasticnet, random_state=0, solver=lbfgs, score=nan, total=   0.0s\n",
      "[CV] C=0.1, class_weight=None, penalty=elasticnet, random_state=0, solver=lbfgs \n",
      "[CV]  C=0.1, class_weight=None, penalty=elasticnet, random_state=0, solver=lbfgs, score=nan, total=   0.0s\n",
      "[CV] C=0.1, class_weight=None, penalty=elasticnet, random_state=0, solver=sag \n",
      "[CV]  C=0.1, class_weight=None, penalty=elasticnet, random_state=0, solver=sag, score=nan, total=   0.0s\n",
      "[CV] C=0.1, class_weight=None, penalty=elasticnet, random_state=0, solver=sag \n",
      "[CV]  C=0.1, class_weight=None, penalty=elasticnet, random_state=0, solver=sag, score=nan, total=   0.0s\n",
      "[CV] C=0.1, class_weight=None, penalty=elasticnet, random_state=0, solver=sag \n",
      "[CV]  C=0.1, class_weight=None, penalty=elasticnet, random_state=0, solver=sag, score=nan, total=   0.0s\n",
      "[CV] C=0.1, class_weight=None, penalty=l1, random_state=0, solver=saga \n",
      "[CV]  C=0.1, class_weight=None, penalty=l1, random_state=0, solver=saga, score=0.651, total=   0.3s\n",
      "[CV] C=0.1, class_weight=None, penalty=l1, random_state=0, solver=saga \n",
      "[CV]  C=0.1, class_weight=None, penalty=l1, random_state=0, solver=saga, score=0.652, total=   0.2s\n",
      "[CV] C=0.1, class_weight=None, penalty=l1, random_state=0, solver=saga \n",
      "[CV]  C=0.1, class_weight=None, penalty=l1, random_state=0, solver=saga, score=0.659, total=   0.2s\n",
      "[CV] C=0.1, class_weight=None, penalty=l1, random_state=0, solver=lbfgs \n",
      "[CV]  C=0.1, class_weight=None, penalty=l1, random_state=0, solver=lbfgs, score=nan, total=   0.0s\n",
      "[CV] C=0.1, class_weight=None, penalty=l1, random_state=0, solver=lbfgs \n",
      "[CV]  C=0.1, class_weight=None, penalty=l1, random_state=0, solver=lbfgs, score=nan, total=   0.0s\n",
      "[CV] C=0.1, class_weight=None, penalty=l1, random_state=0, solver=lbfgs \n",
      "[CV]  C=0.1, class_weight=None, penalty=l1, random_state=0, solver=lbfgs, score=nan, total=   0.0s\n",
      "[CV] C=0.1, class_weight=None, penalty=l1, random_state=0, solver=sag \n",
      "[CV]  C=0.1, class_weight=None, penalty=l1, random_state=0, solver=sag, score=nan, total=   0.0s\n",
      "[CV] C=0.1, class_weight=None, penalty=l1, random_state=0, solver=sag \n",
      "[CV]  C=0.1, class_weight=None, penalty=l1, random_state=0, solver=sag, score=nan, total=   0.0s\n",
      "[CV] C=0.1, class_weight=None, penalty=l1, random_state=0, solver=sag \n",
      "[CV]  C=0.1, class_weight=None, penalty=l1, random_state=0, solver=sag, score=nan, total=   0.0s\n",
      "[CV] C=0.1, class_weight=balanced, penalty=l2, random_state=0, solver=saga \n",
      "[CV]  C=0.1, class_weight=balanced, penalty=l2, random_state=0, solver=saga, score=0.652, total=   0.2s\n",
      "[CV] C=0.1, class_weight=balanced, penalty=l2, random_state=0, solver=saga \n",
      "[CV]  C=0.1, class_weight=balanced, penalty=l2, random_state=0, solver=saga, score=0.653, total=   0.3s\n",
      "[CV] C=0.1, class_weight=balanced, penalty=l2, random_state=0, solver=saga \n",
      "[CV]  C=0.1, class_weight=balanced, penalty=l2, random_state=0, solver=saga, score=0.660, total=   0.2s\n",
      "[CV] C=0.1, class_weight=balanced, penalty=l2, random_state=0, solver=lbfgs \n",
      "[CV]  C=0.1, class_weight=balanced, penalty=l2, random_state=0, solver=lbfgs, score=0.652, total=   0.1s\n",
      "[CV] C=0.1, class_weight=balanced, penalty=l2, random_state=0, solver=lbfgs \n",
      "[CV]  C=0.1, class_weight=balanced, penalty=l2, random_state=0, solver=lbfgs, score=0.653, total=   0.1s\n",
      "[CV] C=0.1, class_weight=balanced, penalty=l2, random_state=0, solver=lbfgs \n",
      "[CV]  C=0.1, class_weight=balanced, penalty=l2, random_state=0, solver=lbfgs, score=0.660, total=   0.1s\n",
      "[CV] C=0.1, class_weight=balanced, penalty=l2, random_state=0, solver=sag \n",
      "[CV]  C=0.1, class_weight=balanced, penalty=l2, random_state=0, solver=sag, score=0.652, total=   0.3s\n",
      "[CV] C=0.1, class_weight=balanced, penalty=l2, random_state=0, solver=sag \n",
      "[CV]  C=0.1, class_weight=balanced, penalty=l2, random_state=0, solver=sag, score=0.653, total=   0.2s\n",
      "[CV] C=0.1, class_weight=balanced, penalty=l2, random_state=0, solver=sag \n",
      "[CV]  C=0.1, class_weight=balanced, penalty=l2, random_state=0, solver=sag, score=0.660, total=   0.3s\n",
      "[CV] C=0.1, class_weight=balanced, penalty=elasticnet, random_state=0, solver=saga \n",
      "[CV]  C=0.1, class_weight=balanced, penalty=elasticnet, random_state=0, solver=saga, score=nan, total=   0.0s\n",
      "[CV] C=0.1, class_weight=balanced, penalty=elasticnet, random_state=0, solver=saga \n",
      "[CV]  C=0.1, class_weight=balanced, penalty=elasticnet, random_state=0, solver=saga, score=nan, total=   0.0s\n",
      "[CV] C=0.1, class_weight=balanced, penalty=elasticnet, random_state=0, solver=saga \n",
      "[CV]  C=0.1, class_weight=balanced, penalty=elasticnet, random_state=0, solver=saga, score=nan, total=   0.0s\n",
      "[CV] C=0.1, class_weight=balanced, penalty=elasticnet, random_state=0, solver=lbfgs \n",
      "[CV]  C=0.1, class_weight=balanced, penalty=elasticnet, random_state=0, solver=lbfgs, score=nan, total=   0.0s\n",
      "[CV] C=0.1, class_weight=balanced, penalty=elasticnet, random_state=0, solver=lbfgs \n",
      "[CV]  C=0.1, class_weight=balanced, penalty=elasticnet, random_state=0, solver=lbfgs, score=nan, total=   0.0s\n",
      "[CV] C=0.1, class_weight=balanced, penalty=elasticnet, random_state=0, solver=lbfgs \n",
      "[CV]  C=0.1, class_weight=balanced, penalty=elasticnet, random_state=0, solver=lbfgs, score=nan, total=   0.0s\n",
      "[CV] C=0.1, class_weight=balanced, penalty=elasticnet, random_state=0, solver=sag \n",
      "[CV]  C=0.1, class_weight=balanced, penalty=elasticnet, random_state=0, solver=sag, score=nan, total=   0.0s\n",
      "[CV] C=0.1, class_weight=balanced, penalty=elasticnet, random_state=0, solver=sag \n",
      "[CV]  C=0.1, class_weight=balanced, penalty=elasticnet, random_state=0, solver=sag, score=nan, total=   0.0s\n",
      "[CV] C=0.1, class_weight=balanced, penalty=elasticnet, random_state=0, solver=sag \n",
      "[CV]  C=0.1, class_weight=balanced, penalty=elasticnet, random_state=0, solver=sag, score=nan, total=   0.0s\n",
      "[CV] C=0.1, class_weight=balanced, penalty=l1, random_state=0, solver=saga \n",
      "[CV]  C=0.1, class_weight=balanced, penalty=l1, random_state=0, solver=saga, score=0.652, total=   0.4s\n",
      "[CV] C=0.1, class_weight=balanced, penalty=l1, random_state=0, solver=saga \n",
      "[CV]  C=0.1, class_weight=balanced, penalty=l1, random_state=0, solver=saga, score=0.652, total=   0.3s\n",
      "[CV] C=0.1, class_weight=balanced, penalty=l1, random_state=0, solver=saga \n",
      "[CV]  C=0.1, class_weight=balanced, penalty=l1, random_state=0, solver=saga, score=0.660, total=   0.3s\n",
      "[CV] C=0.1, class_weight=balanced, penalty=l1, random_state=0, solver=lbfgs \n",
      "[CV]  C=0.1, class_weight=balanced, penalty=l1, random_state=0, solver=lbfgs, score=nan, total=   0.0s\n",
      "[CV] C=0.1, class_weight=balanced, penalty=l1, random_state=0, solver=lbfgs \n",
      "[CV]  C=0.1, class_weight=balanced, penalty=l1, random_state=0, solver=lbfgs, score=nan, total=   0.0s\n",
      "[CV] C=0.1, class_weight=balanced, penalty=l1, random_state=0, solver=lbfgs \n",
      "[CV]  C=0.1, class_weight=balanced, penalty=l1, random_state=0, solver=lbfgs, score=nan, total=   0.0s\n",
      "[CV] C=0.1, class_weight=balanced, penalty=l1, random_state=0, solver=sag \n",
      "[CV]  C=0.1, class_weight=balanced, penalty=l1, random_state=0, solver=sag, score=nan, total=   0.0s\n",
      "[CV] C=0.1, class_weight=balanced, penalty=l1, random_state=0, solver=sag \n",
      "[CV]  C=0.1, class_weight=balanced, penalty=l1, random_state=0, solver=sag, score=nan, total=   0.0s\n",
      "[CV] C=0.1, class_weight=balanced, penalty=l1, random_state=0, solver=sag \n",
      "[CV]  C=0.1, class_weight=balanced, penalty=l1, random_state=0, solver=sag, score=nan, total=   0.0s\n",
      "[CV] C=1, class_weight=None, penalty=l2, random_state=0, solver=saga .\n",
      "[CV]  C=1, class_weight=None, penalty=l2, random_state=0, solver=saga, score=0.652, total=   0.2s\n",
      "[CV] C=1, class_weight=None, penalty=l2, random_state=0, solver=saga .\n",
      "[CV]  C=1, class_weight=None, penalty=l2, random_state=0, solver=saga, score=0.653, total=   0.3s\n",
      "[CV] C=1, class_weight=None, penalty=l2, random_state=0, solver=saga .\n",
      "[CV]  C=1, class_weight=None, penalty=l2, random_state=0, solver=saga, score=0.660, total=   0.3s\n",
      "[CV] C=1, class_weight=None, penalty=l2, random_state=0, solver=lbfgs \n",
      "[CV]  C=1, class_weight=None, penalty=l2, random_state=0, solver=lbfgs, score=0.652, total=   0.1s\n",
      "[CV] C=1, class_weight=None, penalty=l2, random_state=0, solver=lbfgs \n",
      "[CV]  C=1, class_weight=None, penalty=l2, random_state=0, solver=lbfgs, score=0.653, total=   0.1s\n",
      "[CV] C=1, class_weight=None, penalty=l2, random_state=0, solver=lbfgs \n",
      "[CV]  C=1, class_weight=None, penalty=l2, random_state=0, solver=lbfgs, score=0.660, total=   0.1s\n",
      "[CV] C=1, class_weight=None, penalty=l2, random_state=0, solver=sag ..\n",
      "[CV]  C=1, class_weight=None, penalty=l2, random_state=0, solver=sag, score=0.652, total=   0.4s\n",
      "[CV] C=1, class_weight=None, penalty=l2, random_state=0, solver=sag ..\n",
      "[CV]  C=1, class_weight=None, penalty=l2, random_state=0, solver=sag, score=0.653, total=   0.4s\n",
      "[CV] C=1, class_weight=None, penalty=l2, random_state=0, solver=sag ..\n",
      "[CV]  C=1, class_weight=None, penalty=l2, random_state=0, solver=sag, score=0.660, total=   0.3s\n",
      "[CV] C=1, class_weight=None, penalty=elasticnet, random_state=0, solver=saga \n",
      "[CV]  C=1, class_weight=None, penalty=elasticnet, random_state=0, solver=saga, score=nan, total=   0.0s\n",
      "[CV] C=1, class_weight=None, penalty=elasticnet, random_state=0, solver=saga \n",
      "[CV]  C=1, class_weight=None, penalty=elasticnet, random_state=0, solver=saga, score=nan, total=   0.0s\n",
      "[CV] C=1, class_weight=None, penalty=elasticnet, random_state=0, solver=saga \n",
      "[CV]  C=1, class_weight=None, penalty=elasticnet, random_state=0, solver=saga, score=nan, total=   0.0s\n",
      "[CV] C=1, class_weight=None, penalty=elasticnet, random_state=0, solver=lbfgs \n",
      "[CV]  C=1, class_weight=None, penalty=elasticnet, random_state=0, solver=lbfgs, score=nan, total=   0.0s\n",
      "[CV] C=1, class_weight=None, penalty=elasticnet, random_state=0, solver=lbfgs \n",
      "[CV]  C=1, class_weight=None, penalty=elasticnet, random_state=0, solver=lbfgs, score=nan, total=   0.0s\n",
      "[CV] C=1, class_weight=None, penalty=elasticnet, random_state=0, solver=lbfgs \n",
      "[CV]  C=1, class_weight=None, penalty=elasticnet, random_state=0, solver=lbfgs, score=nan, total=   0.0s\n",
      "[CV] C=1, class_weight=None, penalty=elasticnet, random_state=0, solver=sag \n",
      "[CV]  C=1, class_weight=None, penalty=elasticnet, random_state=0, solver=sag, score=nan, total=   0.0s\n",
      "[CV] C=1, class_weight=None, penalty=elasticnet, random_state=0, solver=sag \n",
      "[CV]  C=1, class_weight=None, penalty=elasticnet, random_state=0, solver=sag, score=nan, total=   0.0s\n",
      "[CV] C=1, class_weight=None, penalty=elasticnet, random_state=0, solver=sag \n",
      "[CV]  C=1, class_weight=None, penalty=elasticnet, random_state=0, solver=sag, score=nan, total=   0.0s\n",
      "[CV] C=1, class_weight=None, penalty=l1, random_state=0, solver=saga .\n",
      "[CV]  C=1, class_weight=None, penalty=l1, random_state=0, solver=saga, score=0.652, total=   0.3s\n",
      "[CV] C=1, class_weight=None, penalty=l1, random_state=0, solver=saga .\n",
      "[CV]  C=1, class_weight=None, penalty=l1, random_state=0, solver=saga, score=0.653, total=   0.3s\n",
      "[CV] C=1, class_weight=None, penalty=l1, random_state=0, solver=saga .\n",
      "[CV]  C=1, class_weight=None, penalty=l1, random_state=0, solver=saga, score=0.660, total=   0.3s\n",
      "[CV] C=1, class_weight=None, penalty=l1, random_state=0, solver=lbfgs \n",
      "[CV]  C=1, class_weight=None, penalty=l1, random_state=0, solver=lbfgs, score=nan, total=   0.0s\n",
      "[CV] C=1, class_weight=None, penalty=l1, random_state=0, solver=lbfgs \n",
      "[CV]  C=1, class_weight=None, penalty=l1, random_state=0, solver=lbfgs, score=nan, total=   0.0s\n",
      "[CV] C=1, class_weight=None, penalty=l1, random_state=0, solver=lbfgs \n",
      "[CV]  C=1, class_weight=None, penalty=l1, random_state=0, solver=lbfgs, score=nan, total=   0.0s\n",
      "[CV] C=1, class_weight=None, penalty=l1, random_state=0, solver=sag ..\n",
      "[CV]  C=1, class_weight=None, penalty=l1, random_state=0, solver=sag, score=nan, total=   0.0s\n",
      "[CV] C=1, class_weight=None, penalty=l1, random_state=0, solver=sag ..\n",
      "[CV]  C=1, class_weight=None, penalty=l1, random_state=0, solver=sag, score=nan, total=   0.0s\n",
      "[CV] C=1, class_weight=None, penalty=l1, random_state=0, solver=sag ..\n",
      "[CV]  C=1, class_weight=None, penalty=l1, random_state=0, solver=sag, score=nan, total=   0.0s\n",
      "[CV] C=1, class_weight=balanced, penalty=l2, random_state=0, solver=saga \n",
      "[CV]  C=1, class_weight=balanced, penalty=l2, random_state=0, solver=saga, score=0.653, total=   0.3s\n",
      "[CV] C=1, class_weight=balanced, penalty=l2, random_state=0, solver=saga \n",
      "[CV]  C=1, class_weight=balanced, penalty=l2, random_state=0, solver=saga, score=0.653, total=   0.3s\n",
      "[CV] C=1, class_weight=balanced, penalty=l2, random_state=0, solver=saga \n",
      "[CV]  C=1, class_weight=balanced, penalty=l2, random_state=0, solver=saga, score=0.661, total=   0.3s\n",
      "[CV] C=1, class_weight=balanced, penalty=l2, random_state=0, solver=lbfgs \n",
      "[CV]  C=1, class_weight=balanced, penalty=l2, random_state=0, solver=lbfgs, score=0.653, total=   0.1s\n",
      "[CV] C=1, class_weight=balanced, penalty=l2, random_state=0, solver=lbfgs \n",
      "[CV]  C=1, class_weight=balanced, penalty=l2, random_state=0, solver=lbfgs, score=0.653, total=   0.1s\n",
      "[CV] C=1, class_weight=balanced, penalty=l2, random_state=0, solver=lbfgs \n",
      "[CV]  C=1, class_weight=balanced, penalty=l2, random_state=0, solver=lbfgs, score=0.661, total=   0.1s\n",
      "[CV] C=1, class_weight=balanced, penalty=l2, random_state=0, solver=sag \n",
      "[CV]  C=1, class_weight=balanced, penalty=l2, random_state=0, solver=sag, score=0.653, total=   0.4s\n",
      "[CV] C=1, class_weight=balanced, penalty=l2, random_state=0, solver=sag \n",
      "[CV]  C=1, class_weight=balanced, penalty=l2, random_state=0, solver=sag, score=0.653, total=   0.3s\n",
      "[CV] C=1, class_weight=balanced, penalty=l2, random_state=0, solver=sag \n",
      "[CV]  C=1, class_weight=balanced, penalty=l2, random_state=0, solver=sag, score=0.661, total=   0.3s\n",
      "[CV] C=1, class_weight=balanced, penalty=elasticnet, random_state=0, solver=saga \n",
      "[CV]  C=1, class_weight=balanced, penalty=elasticnet, random_state=0, solver=saga, score=nan, total=   0.0s\n",
      "[CV] C=1, class_weight=balanced, penalty=elasticnet, random_state=0, solver=saga \n",
      "[CV]  C=1, class_weight=balanced, penalty=elasticnet, random_state=0, solver=saga, score=nan, total=   0.0s\n",
      "[CV] C=1, class_weight=balanced, penalty=elasticnet, random_state=0, solver=saga \n",
      "[CV]  C=1, class_weight=balanced, penalty=elasticnet, random_state=0, solver=saga, score=nan, total=   0.0s\n",
      "[CV] C=1, class_weight=balanced, penalty=elasticnet, random_state=0, solver=lbfgs \n",
      "[CV]  C=1, class_weight=balanced, penalty=elasticnet, random_state=0, solver=lbfgs, score=nan, total=   0.0s\n",
      "[CV] C=1, class_weight=balanced, penalty=elasticnet, random_state=0, solver=lbfgs \n",
      "[CV]  C=1, class_weight=balanced, penalty=elasticnet, random_state=0, solver=lbfgs, score=nan, total=   0.0s\n",
      "[CV] C=1, class_weight=balanced, penalty=elasticnet, random_state=0, solver=lbfgs \n",
      "[CV]  C=1, class_weight=balanced, penalty=elasticnet, random_state=0, solver=lbfgs, score=nan, total=   0.0s\n",
      "[CV] C=1, class_weight=balanced, penalty=elasticnet, random_state=0, solver=sag \n",
      "[CV]  C=1, class_weight=balanced, penalty=elasticnet, random_state=0, solver=sag, score=nan, total=   0.0s\n",
      "[CV] C=1, class_weight=balanced, penalty=elasticnet, random_state=0, solver=sag \n",
      "[CV]  C=1, class_weight=balanced, penalty=elasticnet, random_state=0, solver=sag, score=nan, total=   0.0s\n",
      "[CV] C=1, class_weight=balanced, penalty=elasticnet, random_state=0, solver=sag \n",
      "[CV]  C=1, class_weight=balanced, penalty=elasticnet, random_state=0, solver=sag, score=nan, total=   0.0s\n",
      "[CV] C=1, class_weight=balanced, penalty=l1, random_state=0, solver=saga \n",
      "[CV]  C=1, class_weight=balanced, penalty=l1, random_state=0, solver=saga, score=0.653, total=   0.3s\n",
      "[CV] C=1, class_weight=balanced, penalty=l1, random_state=0, solver=saga \n",
      "[CV]  C=1, class_weight=balanced, penalty=l1, random_state=0, solver=saga, score=0.653, total=   0.3s\n",
      "[CV] C=1, class_weight=balanced, penalty=l1, random_state=0, solver=saga \n",
      "[CV]  C=1, class_weight=balanced, penalty=l1, random_state=0, solver=saga, score=0.661, total=   0.3s\n",
      "[CV] C=1, class_weight=balanced, penalty=l1, random_state=0, solver=lbfgs \n",
      "[CV]  C=1, class_weight=balanced, penalty=l1, random_state=0, solver=lbfgs, score=nan, total=   0.0s\n",
      "[CV] C=1, class_weight=balanced, penalty=l1, random_state=0, solver=lbfgs \n",
      "[CV]  C=1, class_weight=balanced, penalty=l1, random_state=0, solver=lbfgs, score=nan, total=   0.0s\n",
      "[CV] C=1, class_weight=balanced, penalty=l1, random_state=0, solver=lbfgs \n",
      "[CV]  C=1, class_weight=balanced, penalty=l1, random_state=0, solver=lbfgs, score=nan, total=   0.0s\n",
      "[CV] C=1, class_weight=balanced, penalty=l1, random_state=0, solver=sag \n",
      "[CV]  C=1, class_weight=balanced, penalty=l1, random_state=0, solver=sag, score=nan, total=   0.0s\n",
      "[CV] C=1, class_weight=balanced, penalty=l1, random_state=0, solver=sag \n",
      "[CV]  C=1, class_weight=balanced, penalty=l1, random_state=0, solver=sag, score=nan, total=   0.0s\n",
      "[CV] C=1, class_weight=balanced, penalty=l1, random_state=0, solver=sag \n",
      "[CV]  C=1, class_weight=balanced, penalty=l1, random_state=0, solver=sag, score=nan, total=   0.0s\n",
      "[CV] C=10, class_weight=None, penalty=l2, random_state=0, solver=saga \n",
      "[CV]  C=10, class_weight=None, penalty=l2, random_state=0, solver=saga, score=0.652, total=   0.2s\n",
      "[CV] C=10, class_weight=None, penalty=l2, random_state=0, solver=saga \n",
      "[CV]  C=10, class_weight=None, penalty=l2, random_state=0, solver=saga, score=0.653, total=   0.3s\n",
      "[CV] C=10, class_weight=None, penalty=l2, random_state=0, solver=saga \n",
      "[CV]  C=10, class_weight=None, penalty=l2, random_state=0, solver=saga, score=0.660, total=   0.2s\n",
      "[CV] C=10, class_weight=None, penalty=l2, random_state=0, solver=lbfgs \n",
      "[CV]  C=10, class_weight=None, penalty=l2, random_state=0, solver=lbfgs, score=0.652, total=   0.1s\n",
      "[CV] C=10, class_weight=None, penalty=l2, random_state=0, solver=lbfgs \n",
      "[CV]  C=10, class_weight=None, penalty=l2, random_state=0, solver=lbfgs, score=0.653, total=   0.1s\n",
      "[CV] C=10, class_weight=None, penalty=l2, random_state=0, solver=lbfgs \n",
      "[CV]  C=10, class_weight=None, penalty=l2, random_state=0, solver=lbfgs, score=0.660, total=   0.1s\n",
      "[CV] C=10, class_weight=None, penalty=l2, random_state=0, solver=sag .\n",
      "[CV]  C=10, class_weight=None, penalty=l2, random_state=0, solver=sag, score=0.652, total=   0.3s\n",
      "[CV] C=10, class_weight=None, penalty=l2, random_state=0, solver=sag .\n",
      "[CV]  C=10, class_weight=None, penalty=l2, random_state=0, solver=sag, score=0.653, total=   0.3s\n",
      "[CV] C=10, class_weight=None, penalty=l2, random_state=0, solver=sag .\n",
      "[CV]  C=10, class_weight=None, penalty=l2, random_state=0, solver=sag, score=0.660, total=   0.3s\n",
      "[CV] C=10, class_weight=None, penalty=elasticnet, random_state=0, solver=saga \n",
      "[CV]  C=10, class_weight=None, penalty=elasticnet, random_state=0, solver=saga, score=nan, total=   0.0s\n",
      "[CV] C=10, class_weight=None, penalty=elasticnet, random_state=0, solver=saga \n",
      "[CV]  C=10, class_weight=None, penalty=elasticnet, random_state=0, solver=saga, score=nan, total=   0.0s\n",
      "[CV] C=10, class_weight=None, penalty=elasticnet, random_state=0, solver=saga \n",
      "[CV]  C=10, class_weight=None, penalty=elasticnet, random_state=0, solver=saga, score=nan, total=   0.0s\n",
      "[CV] C=10, class_weight=None, penalty=elasticnet, random_state=0, solver=lbfgs \n",
      "[CV]  C=10, class_weight=None, penalty=elasticnet, random_state=0, solver=lbfgs, score=nan, total=   0.0s\n",
      "[CV] C=10, class_weight=None, penalty=elasticnet, random_state=0, solver=lbfgs \n",
      "[CV]  C=10, class_weight=None, penalty=elasticnet, random_state=0, solver=lbfgs, score=nan, total=   0.0s\n",
      "[CV] C=10, class_weight=None, penalty=elasticnet, random_state=0, solver=lbfgs \n",
      "[CV]  C=10, class_weight=None, penalty=elasticnet, random_state=0, solver=lbfgs, score=nan, total=   0.0s\n",
      "[CV] C=10, class_weight=None, penalty=elasticnet, random_state=0, solver=sag \n",
      "[CV]  C=10, class_weight=None, penalty=elasticnet, random_state=0, solver=sag, score=nan, total=   0.0s\n",
      "[CV] C=10, class_weight=None, penalty=elasticnet, random_state=0, solver=sag \n",
      "[CV]  C=10, class_weight=None, penalty=elasticnet, random_state=0, solver=sag, score=nan, total=   0.0s\n",
      "[CV] C=10, class_weight=None, penalty=elasticnet, random_state=0, solver=sag \n",
      "[CV]  C=10, class_weight=None, penalty=elasticnet, random_state=0, solver=sag, score=nan, total=   0.0s\n",
      "[CV] C=10, class_weight=None, penalty=l1, random_state=0, solver=saga \n",
      "[CV]  C=10, class_weight=None, penalty=l1, random_state=0, solver=saga, score=0.652, total=   0.3s\n",
      "[CV] C=10, class_weight=None, penalty=l1, random_state=0, solver=saga \n",
      "[CV]  C=10, class_weight=None, penalty=l1, random_state=0, solver=saga, score=0.653, total=   0.3s\n",
      "[CV] C=10, class_weight=None, penalty=l1, random_state=0, solver=saga \n",
      "[CV]  C=10, class_weight=None, penalty=l1, random_state=0, solver=saga, score=0.660, total=   0.3s\n",
      "[CV] C=10, class_weight=None, penalty=l1, random_state=0, solver=lbfgs \n",
      "[CV]  C=10, class_weight=None, penalty=l1, random_state=0, solver=lbfgs, score=nan, total=   0.0s\n",
      "[CV] C=10, class_weight=None, penalty=l1, random_state=0, solver=lbfgs \n",
      "[CV]  C=10, class_weight=None, penalty=l1, random_state=0, solver=lbfgs, score=nan, total=   0.0s\n",
      "[CV] C=10, class_weight=None, penalty=l1, random_state=0, solver=lbfgs \n",
      "[CV]  C=10, class_weight=None, penalty=l1, random_state=0, solver=lbfgs, score=nan, total=   0.0s\n",
      "[CV] C=10, class_weight=None, penalty=l1, random_state=0, solver=sag .\n",
      "[CV]  C=10, class_weight=None, penalty=l1, random_state=0, solver=sag, score=nan, total=   0.0s\n",
      "[CV] C=10, class_weight=None, penalty=l1, random_state=0, solver=sag .\n",
      "[CV]  C=10, class_weight=None, penalty=l1, random_state=0, solver=sag, score=nan, total=   0.0s\n",
      "[CV] C=10, class_weight=None, penalty=l1, random_state=0, solver=sag .\n",
      "[CV]  C=10, class_weight=None, penalty=l1, random_state=0, solver=sag, score=nan, total=   0.0s\n",
      "[CV] C=10, class_weight=balanced, penalty=l2, random_state=0, solver=saga \n",
      "[CV]  C=10, class_weight=balanced, penalty=l2, random_state=0, solver=saga, score=0.653, total=   0.2s\n",
      "[CV] C=10, class_weight=balanced, penalty=l2, random_state=0, solver=saga \n",
      "[CV]  C=10, class_weight=balanced, penalty=l2, random_state=0, solver=saga, score=0.653, total=   0.2s\n",
      "[CV] C=10, class_weight=balanced, penalty=l2, random_state=0, solver=saga \n",
      "[CV]  C=10, class_weight=balanced, penalty=l2, random_state=0, solver=saga, score=0.660, total=   0.2s\n",
      "[CV] C=10, class_weight=balanced, penalty=l2, random_state=0, solver=lbfgs \n",
      "[CV]  C=10, class_weight=balanced, penalty=l2, random_state=0, solver=lbfgs, score=0.653, total=   0.1s\n",
      "[CV] C=10, class_weight=balanced, penalty=l2, random_state=0, solver=lbfgs \n",
      "[CV]  C=10, class_weight=balanced, penalty=l2, random_state=0, solver=lbfgs, score=0.653, total=   0.1s\n",
      "[CV] C=10, class_weight=balanced, penalty=l2, random_state=0, solver=lbfgs \n",
      "[CV]  C=10, class_weight=balanced, penalty=l2, random_state=0, solver=lbfgs, score=0.660, total=   0.1s\n",
      "[CV] C=10, class_weight=balanced, penalty=l2, random_state=0, solver=sag \n",
      "[CV]  C=10, class_weight=balanced, penalty=l2, random_state=0, solver=sag, score=0.653, total=   0.4s\n",
      "[CV] C=10, class_weight=balanced, penalty=l2, random_state=0, solver=sag \n",
      "[CV]  C=10, class_weight=balanced, penalty=l2, random_state=0, solver=sag, score=0.653, total=   0.3s\n",
      "[CV] C=10, class_weight=balanced, penalty=l2, random_state=0, solver=sag \n",
      "[CV]  C=10, class_weight=balanced, penalty=l2, random_state=0, solver=sag, score=0.660, total=   0.3s\n",
      "[CV] C=10, class_weight=balanced, penalty=elasticnet, random_state=0, solver=saga \n",
      "[CV]  C=10, class_weight=balanced, penalty=elasticnet, random_state=0, solver=saga, score=nan, total=   0.0s\n",
      "[CV] C=10, class_weight=balanced, penalty=elasticnet, random_state=0, solver=saga \n",
      "[CV]  C=10, class_weight=balanced, penalty=elasticnet, random_state=0, solver=saga, score=nan, total=   0.0s\n",
      "[CV] C=10, class_weight=balanced, penalty=elasticnet, random_state=0, solver=saga \n",
      "[CV]  C=10, class_weight=balanced, penalty=elasticnet, random_state=0, solver=saga, score=nan, total=   0.0s\n",
      "[CV] C=10, class_weight=balanced, penalty=elasticnet, random_state=0, solver=lbfgs \n",
      "[CV]  C=10, class_weight=balanced, penalty=elasticnet, random_state=0, solver=lbfgs, score=nan, total=   0.0s\n",
      "[CV] C=10, class_weight=balanced, penalty=elasticnet, random_state=0, solver=lbfgs \n",
      "[CV]  C=10, class_weight=balanced, penalty=elasticnet, random_state=0, solver=lbfgs, score=nan, total=   0.0s\n",
      "[CV] C=10, class_weight=balanced, penalty=elasticnet, random_state=0, solver=lbfgs \n",
      "[CV]  C=10, class_weight=balanced, penalty=elasticnet, random_state=0, solver=lbfgs, score=nan, total=   0.0s\n",
      "[CV] C=10, class_weight=balanced, penalty=elasticnet, random_state=0, solver=sag \n",
      "[CV]  C=10, class_weight=balanced, penalty=elasticnet, random_state=0, solver=sag, score=nan, total=   0.0s\n",
      "[CV] C=10, class_weight=balanced, penalty=elasticnet, random_state=0, solver=sag \n",
      "[CV]  C=10, class_weight=balanced, penalty=elasticnet, random_state=0, solver=sag, score=nan, total=   0.0s\n",
      "[CV] C=10, class_weight=balanced, penalty=elasticnet, random_state=0, solver=sag \n",
      "[CV]  C=10, class_weight=balanced, penalty=elasticnet, random_state=0, solver=sag, score=nan, total=   0.0s\n",
      "[CV] C=10, class_weight=balanced, penalty=l1, random_state=0, solver=saga \n",
      "[CV]  C=10, class_weight=balanced, penalty=l1, random_state=0, solver=saga, score=0.653, total=   0.3s\n",
      "[CV] C=10, class_weight=balanced, penalty=l1, random_state=0, solver=saga \n",
      "[CV]  C=10, class_weight=balanced, penalty=l1, random_state=0, solver=saga, score=0.653, total=   0.3s\n",
      "[CV] C=10, class_weight=balanced, penalty=l1, random_state=0, solver=saga \n",
      "[CV]  C=10, class_weight=balanced, penalty=l1, random_state=0, solver=saga, score=0.660, total=   0.3s\n",
      "[CV] C=10, class_weight=balanced, penalty=l1, random_state=0, solver=lbfgs \n",
      "[CV]  C=10, class_weight=balanced, penalty=l1, random_state=0, solver=lbfgs, score=nan, total=   0.0s\n",
      "[CV] C=10, class_weight=balanced, penalty=l1, random_state=0, solver=lbfgs \n",
      "[CV]  C=10, class_weight=balanced, penalty=l1, random_state=0, solver=lbfgs, score=nan, total=   0.0s\n",
      "[CV] C=10, class_weight=balanced, penalty=l1, random_state=0, solver=lbfgs \n",
      "[CV]  C=10, class_weight=balanced, penalty=l1, random_state=0, solver=lbfgs, score=nan, total=   0.0s\n",
      "[CV] C=10, class_weight=balanced, penalty=l1, random_state=0, solver=sag \n",
      "[CV]  C=10, class_weight=balanced, penalty=l1, random_state=0, solver=sag, score=nan, total=   0.0s\n",
      "[CV] C=10, class_weight=balanced, penalty=l1, random_state=0, solver=sag \n",
      "[CV]  C=10, class_weight=balanced, penalty=l1, random_state=0, solver=sag, score=nan, total=   0.0s\n",
      "[CV] C=10, class_weight=balanced, penalty=l1, random_state=0, solver=sag \n",
      "[CV]  C=10, class_weight=balanced, penalty=l1, random_state=0, solver=sag, score=nan, total=   0.0s\n"
     ]
    },
    {
     "name": "stderr",
     "output_type": "stream",
     "text": [
      "[Parallel(n_jobs=1)]: Done 162 out of 162 | elapsed:   18.6s finished\n"
     ]
    },
    {
     "name": "stdout",
     "output_type": "stream",
     "text": [
      "best params: {'C': 10, 'class_weight': 'balanced', 'penalty': 'l2', 'random_state': 0, 'solver': 'saga'}\n",
      "best estimator: LogisticRegression(C=10, class_weight='balanced', random_state=0, solver='saga')\n",
      "ROC: 0.7784442250029951\n",
      "Modelación: OK.\n",
      "________________________________________________________________________________________________________________________\n"
     ]
    },
    {
     "data": {
      "image/png": "[encoded data removed]",
      "text/plain": [
       "<Figure size 432x288 with 1 Axes>"
      ]
     },
     "metadata": {
      "needs_background": "light"
     },
     "output_type": "display_data"
    }
   ],
   "source": [
    "pipeline_bm.separa_muestras(test=0.3)\n",
    "pipeline_bm.modelacion('LogisticRegression', perf_eval='f1',ruta_exporta='D:/SOCOFAR/Modelo_AA/modelo_aa.joblib')\n",
    "%matplotlib inline\n",
    "plot_roc_curve(pipeline_bm.model, pipeline_bm.X_test, pipeline_bm.Y_test)\n",
    "plt.title(pipeline_bm.algoritmo + ' ROC')\n",
    "plt.show()"
   ]
  },
  {
   "cell_type": "code",
   "execution_count": 12,
   "metadata": {},
   "outputs": [
    {
     "name": "stdout",
     "output_type": "stream",
     "text": [
      "\"F1 OPTIMO\"\n",
      "\n",
      "sens+espc:  0.7099170697995854\n",
      "KS:  0.3089608256950348\n",
      "threshold optimo:  0.33\n",
      "sensibility:  0.8378020185543888\n",
      "specificity:  0.47115880714064595\n",
      "precision:  0.6159034699842614\n",
      "negative predictive value:  0.741594932597044\n",
      "Critical Success Index:  0.550287933574394\n",
      "accuracy:  0.6555897435897435\n",
      "f1score:  0.7099170697995854\n",
      "BalancedAccuracy:  0.6544804128475175\n"
     ]
    },
    {
     "data": {
      "text/html": [
       "<div>\n",
       "<style scoped>\n",
       "    .dataframe tbody tr th:only-of-type {\n",
       "        vertical-align: middle;\n",
       "    }\n",
       "\n",
       "    .dataframe tbody tr th {\n",
       "        vertical-align: top;\n",
       "    }\n",
       "\n",
       "    .dataframe thead th {\n",
       "        text-align: right;\n",
       "    }\n",
       "</style>\n",
       "<table border=\"1\" class=\"dataframe\">\n",
       "  <thead>\n",
       "    <tr style=\"text-align: right;\">\n",
       "      <th>TARGET</th>\n",
       "      <th>0</th>\n",
       "      <th>1</th>\n",
       "    </tr>\n",
       "    <tr>\n",
       "      <th>pred</th>\n",
       "      <th></th>\n",
       "      <th></th>\n",
       "    </tr>\n",
       "  </thead>\n",
       "  <tbody>\n",
       "    <tr>\n",
       "      <th>0</th>\n",
       "      <td>9132</td>\n",
       "      <td>3182</td>\n",
       "    </tr>\n",
       "    <tr>\n",
       "      <th>1</th>\n",
       "      <td>10250</td>\n",
       "      <td>16436</td>\n",
       "    </tr>\n",
       "  </tbody>\n",
       "</table>\n",
       "</div>"
      ],
      "text/plain": [
       "TARGET      0      1\n",
       "pred                \n",
       "0        9132   3182\n",
       "1       10250  16436"
      ]
     },
     "execution_count": 12,
     "metadata": {},
     "output_type": "execute_result"
    }
   ],
   "source": [
    "pipeline_bm.metricas_modelo_optimo(metrica='f1')\n",
    "pipeline_bm.confusion_matrix"
   ]
  },
  {
   "cell_type": "code",
   "execution_count": 57,
   "metadata": {},
   "outputs": [
    {
     "data": {
      "image/png": "[encoded data removed]",
      "text/plain": [
       "<Figure size 1152x864 with 2 Axes>"
      ]
     },
     "metadata": {
      "needs_background": "light"
     },
     "output_type": "display_data"
    }
   ],
   "source": [
    "import seaborn as sns\n",
    "corr_df = pipeline_bm.dataset[features2].corr(method='pearson')\n",
    "plt.figure(figsize=(16, 12))\n",
    "sns.heatmap(corr_df, annot=True)\n",
    "plt.show()"
   ]
  },
  {
   "cell_type": "markdown",
   "metadata": {},
   "source": [
    "# **------------------------------------ PRODUCTIVO ------------------------------------**"
   ]
  },
  {
   "cell_type": "code",
   "execution_count": 59,
   "metadata": {},
   "outputs": [],
   "source": [
    "features2=['COMUNA','MACRO_GRAL','EDAD','TICKET_AA_UAM','GSE','PIRAMIDE']\n",
    "categoricas2=['GSE','PIRAMIDE','MACRO_GRAL','COMUNA']"
   ]
  },
  {
   "cell_type": "code",
   "execution_count": 60,
   "metadata": {},
   "outputs": [
    {
     "data": {
      "text/plain": [
       "'SELECT RUT_CLIENTE,COMUNA,MACRO_GRAL,EDAD,TICKET_AA_UAM,GSE,PIRAMIDE FROM SCORING_2022'"
      ]
     },
     "execution_count": 60,
     "metadata": {},
     "output_type": "execute_result"
    }
   ],
   "source": [
    "query = 'SELECT RUT_CLIENTE,'\n",
    "cont=1\n",
    "for i in features2:\n",
    "    if cont < len(features2):\n",
    "        query = query + i + ','\n",
    "    else:\n",
    "        query = query + i + ' '\n",
    "    cont+=1\n",
    "query = query + 'FROM SCORING_2022'\n",
    "query"
   ]
  },
  {
   "cell_type": "code",
   "execution_count": 61,
   "metadata": {},
   "outputs": [
    {
     "name": "stdout",
     "output_type": "stream",
     "text": [
      "Procesando...\n",
      "________________________________________________________________________________________________________________________\n",
      "Datos recibidos: OK.\n",
      "Número de filas y columnas del dataset: (200000, 7)\n",
      "________________________________________________________________________________________________________________________\n",
      "Variables fueron imputadas por medias: OK.\n",
      "________________________________________________________________________________________________________________________\n",
      "Woeizado de Variables: OK.\n",
      "________________________________________________________________________________________________________________________\n",
      "Procesando...\n",
      "________________________________________________________________________________________________________________________\n",
      "Datos recibidos: OK.\n",
      "Número de filas y columnas del dataset: (200001, 7)\n",
      "________________________________________________________________________________________________________________________\n",
      "Variables fueron imputadas por medias: OK.\n",
      "________________________________________________________________________________________________________________________\n",
      "Woeizado de Variables: OK.\n",
      "________________________________________________________________________________________________________________________\n",
      "Procesando...\n",
      "________________________________________________________________________________________________________________________\n",
      "Datos recibidos: OK.\n",
      "Número de filas y columnas del dataset: (200001, 7)\n",
      "________________________________________________________________________________________________________________________\n",
      "Variables fueron imputadas por medias: OK.\n",
      "________________________________________________________________________________________________________________________\n",
      "Woeizado de Variables: OK.\n",
      "________________________________________________________________________________________________________________________\n",
      "Procesando...\n",
      "________________________________________________________________________________________________________________________\n",
      "Datos recibidos: OK.\n",
      "Número de filas y columnas del dataset: (200001, 7)\n",
      "________________________________________________________________________________________________________________________\n",
      "Variables fueron imputadas por medias: OK.\n",
      "________________________________________________________________________________________________________________________\n",
      "Woeizado de Variables: OK.\n",
      "________________________________________________________________________________________________________________________\n",
      "Procesando...\n",
      "________________________________________________________________________________________________________________________\n",
      "Datos recibidos: OK.\n",
      "Número de filas y columnas del dataset: (200001, 7)\n",
      "________________________________________________________________________________________________________________________\n",
      "Variables fueron imputadas por medias: OK.\n",
      "________________________________________________________________________________________________________________________\n",
      "Woeizado de Variables: OK.\n",
      "________________________________________________________________________________________________________________________\n",
      "Procesando...\n",
      "________________________________________________________________________________________________________________________\n",
      "Datos recibidos: OK.\n",
      "Número de filas y columnas del dataset: (200001, 7)\n",
      "________________________________________________________________________________________________________________________\n",
      "Variables fueron imputadas por medias: OK.\n",
      "________________________________________________________________________________________________________________________\n",
      "Woeizado de Variables: OK.\n",
      "________________________________________________________________________________________________________________________\n",
      "Procesando...\n",
      "________________________________________________________________________________________________________________________\n",
      "Datos recibidos: OK.\n",
      "Número de filas y columnas del dataset: (200001, 7)\n",
      "________________________________________________________________________________________________________________________\n",
      "Variables fueron imputadas por medias: OK.\n",
      "________________________________________________________________________________________________________________________\n",
      "Woeizado de Variables: OK.\n",
      "________________________________________________________________________________________________________________________\n",
      "Procesando...\n",
      "________________________________________________________________________________________________________________________\n",
      "Datos recibidos: OK.\n",
      "Número de filas y columnas del dataset: (200001, 7)\n",
      "________________________________________________________________________________________________________________________\n",
      "Variables fueron imputadas por medias: OK.\n",
      "________________________________________________________________________________________________________________________\n",
      "Woeizado de Variables: OK.\n",
      "________________________________________________________________________________________________________________________\n",
      "Procesando...\n",
      "________________________________________________________________________________________________________________________\n",
      "Datos recibidos: OK.\n",
      "Número de filas y columnas del dataset: (200001, 7)\n",
      "________________________________________________________________________________________________________________________\n",
      "Variables fueron imputadas por medias: OK.\n",
      "________________________________________________________________________________________________________________________\n",
      "Woeizado de Variables: OK.\n",
      "________________________________________________________________________________________________________________________\n",
      "Procesando...\n",
      "________________________________________________________________________________________________________________________\n",
      "Datos recibidos: OK.\n",
      "Número de filas y columnas del dataset: (200001, 7)\n",
      "________________________________________________________________________________________________________________________\n",
      "Variables fueron imputadas por medias: OK.\n",
      "________________________________________________________________________________________________________________________\n",
      "Woeizado de Variables: OK.\n",
      "________________________________________________________________________________________________________________________\n",
      "Procesando...\n",
      "________________________________________________________________________________________________________________________\n",
      "Datos recibidos: OK.\n",
      "Número de filas y columnas del dataset: (200001, 7)\n",
      "________________________________________________________________________________________________________________________\n",
      "Variables fueron imputadas por medias: OK.\n",
      "________________________________________________________________________________________________________________________\n",
      "Woeizado de Variables: OK.\n",
      "________________________________________________________________________________________________________________________\n",
      "Procesando...\n",
      "________________________________________________________________________________________________________________________\n",
      "Datos recibidos: OK.\n",
      "Número de filas y columnas del dataset: (200001, 7)\n",
      "________________________________________________________________________________________________________________________\n",
      "Variables fueron imputadas por medias: OK.\n",
      "________________________________________________________________________________________________________________________\n",
      "Woeizado de Variables: OK.\n",
      "________________________________________________________________________________________________________________________\n",
      "Procesando...\n",
      "________________________________________________________________________________________________________________________\n",
      "Datos recibidos: OK.\n",
      "Número de filas y columnas del dataset: (200001, 7)\n",
      "________________________________________________________________________________________________________________________\n",
      "Variables fueron imputadas por medias: OK.\n",
      "________________________________________________________________________________________________________________________\n",
      "Woeizado de Variables: OK.\n",
      "________________________________________________________________________________________________________________________\n",
      "Procesando...\n",
      "________________________________________________________________________________________________________________________\n",
      "Datos recibidos: OK.\n",
      "Número de filas y columnas del dataset: (200001, 7)\n",
      "________________________________________________________________________________________________________________________\n",
      "Variables fueron imputadas por medias: OK.\n",
      "________________________________________________________________________________________________________________________\n",
      "Woeizado de Variables: OK.\n",
      "________________________________________________________________________________________________________________________\n",
      "Procesando...\n",
      "________________________________________________________________________________________________________________________\n",
      "Datos recibidos: OK.\n",
      "Número de filas y columnas del dataset: (200001, 7)\n",
      "________________________________________________________________________________________________________________________\n",
      "Variables fueron imputadas por medias: OK.\n",
      "________________________________________________________________________________________________________________________\n",
      "Woeizado de Variables: OK.\n",
      "________________________________________________________________________________________________________________________\n",
      "Procesando...\n",
      "________________________________________________________________________________________________________________________\n",
      "Datos recibidos: OK.\n",
      "Número de filas y columnas del dataset: (200001, 7)\n",
      "________________________________________________________________________________________________________________________\n",
      "Variables fueron imputadas por medias: OK.\n",
      "________________________________________________________________________________________________________________________\n",
      "Woeizado de Variables: OK.\n",
      "________________________________________________________________________________________________________________________\n",
      "Procesando...\n",
      "________________________________________________________________________________________________________________________\n",
      "Datos recibidos: OK.\n",
      "Número de filas y columnas del dataset: (200001, 7)\n",
      "________________________________________________________________________________________________________________________\n",
      "Variables fueron imputadas por medias: OK.\n",
      "________________________________________________________________________________________________________________________\n",
      "Woeizado de Variables: OK.\n",
      "________________________________________________________________________________________________________________________\n",
      "Procesando...\n",
      "________________________________________________________________________________________________________________________\n",
      "Datos recibidos: OK.\n",
      "Número de filas y columnas del dataset: (200001, 7)\n",
      "________________________________________________________________________________________________________________________\n",
      "Variables fueron imputadas por medias: OK.\n",
      "________________________________________________________________________________________________________________________\n",
      "Woeizado de Variables: OK.\n",
      "________________________________________________________________________________________________________________________\n",
      "Procesando...\n",
      "________________________________________________________________________________________________________________________\n",
      "Datos recibidos: OK.\n",
      "Número de filas y columnas del dataset: (200001, 7)\n",
      "________________________________________________________________________________________________________________________\n",
      "Variables fueron imputadas por medias: OK.\n",
      "________________________________________________________________________________________________________________________\n",
      "Woeizado de Variables: OK.\n",
      "________________________________________________________________________________________________________________________\n",
      "Procesando...\n",
      "________________________________________________________________________________________________________________________\n",
      "Datos recibidos: OK.\n",
      "Número de filas y columnas del dataset: (200001, 7)\n",
      "________________________________________________________________________________________________________________________\n",
      "Variables fueron imputadas por medias: OK.\n",
      "________________________________________________________________________________________________________________________\n",
      "Woeizado de Variables: OK.\n",
      "________________________________________________________________________________________________________________________\n",
      "Procesando...\n",
      "________________________________________________________________________________________________________________________\n",
      "Datos recibidos: OK.\n",
      "Número de filas y columnas del dataset: (200001, 7)\n",
      "________________________________________________________________________________________________________________________\n",
      "Variables fueron imputadas por medias: OK.\n",
      "________________________________________________________________________________________________________________________\n",
      "Woeizado de Variables: OK.\n",
      "________________________________________________________________________________________________________________________\n",
      "Procesando...\n",
      "________________________________________________________________________________________________________________________\n",
      "Datos recibidos: OK.\n",
      "Número de filas y columnas del dataset: (200001, 7)\n",
      "________________________________________________________________________________________________________________________\n",
      "Variables fueron imputadas por medias: OK.\n",
      "________________________________________________________________________________________________________________________\n",
      "Woeizado de Variables: OK.\n",
      "________________________________________________________________________________________________________________________\n",
      "Procesando...\n",
      "________________________________________________________________________________________________________________________\n",
      "Datos recibidos: OK.\n",
      "Número de filas y columnas del dataset: (200001, 7)\n",
      "________________________________________________________________________________________________________________________\n",
      "Variables fueron imputadas por medias: OK.\n",
      "________________________________________________________________________________________________________________________\n",
      "Woeizado de Variables: OK.\n",
      "________________________________________________________________________________________________________________________\n",
      "Procesando...\n",
      "________________________________________________________________________________________________________________________\n",
      "Datos recibidos: OK.\n",
      "Número de filas y columnas del dataset: (200001, 7)\n",
      "________________________________________________________________________________________________________________________\n",
      "Variables fueron imputadas por medias: OK.\n",
      "________________________________________________________________________________________________________________________\n",
      "Woeizado de Variables: OK.\n",
      "________________________________________________________________________________________________________________________\n",
      "Procesando...\n",
      "________________________________________________________________________________________________________________________\n",
      "Datos recibidos: OK.\n",
      "Número de filas y columnas del dataset: (200001, 7)\n",
      "________________________________________________________________________________________________________________________\n",
      "Variables fueron imputadas por medias: OK.\n",
      "________________________________________________________________________________________________________________________\n",
      "Woeizado de Variables: OK.\n",
      "________________________________________________________________________________________________________________________\n",
      "Procesando...\n",
      "________________________________________________________________________________________________________________________\n",
      "Datos recibidos: OK.\n",
      "Número de filas y columnas del dataset: (200001, 7)\n",
      "________________________________________________________________________________________________________________________\n",
      "Variables fueron imputadas por medias: OK.\n",
      "________________________________________________________________________________________________________________________\n",
      "Woeizado de Variables: OK.\n",
      "________________________________________________________________________________________________________________________\n",
      "Procesando...\n",
      "________________________________________________________________________________________________________________________\n",
      "Datos recibidos: OK.\n",
      "Número de filas y columnas del dataset: (200001, 7)\n",
      "________________________________________________________________________________________________________________________\n",
      "Variables fueron imputadas por medias: OK.\n",
      "________________________________________________________________________________________________________________________\n",
      "Woeizado de Variables: OK.\n",
      "________________________________________________________________________________________________________________________\n",
      "Procesando...\n",
      "________________________________________________________________________________________________________________________\n",
      "Datos recibidos: OK.\n",
      "Número de filas y columnas del dataset: (200001, 7)\n",
      "________________________________________________________________________________________________________________________\n",
      "Variables fueron imputadas por medias: OK.\n",
      "________________________________________________________________________________________________________________________\n",
      "Woeizado de Variables: OK.\n",
      "________________________________________________________________________________________________________________________\n",
      "Procesando...\n",
      "________________________________________________________________________________________________________________________\n",
      "Datos recibidos: OK.\n",
      "Número de filas y columnas del dataset: (200001, 7)\n",
      "________________________________________________________________________________________________________________________\n",
      "Variables fueron imputadas por medias: OK.\n",
      "________________________________________________________________________________________________________________________\n",
      "Woeizado de Variables: OK.\n",
      "________________________________________________________________________________________________________________________\n",
      "Procesando...\n",
      "________________________________________________________________________________________________________________________\n",
      "Datos recibidos: OK.\n",
      "Número de filas y columnas del dataset: (200001, 7)\n",
      "________________________________________________________________________________________________________________________\n",
      "Variables fueron imputadas por medias: OK.\n",
      "________________________________________________________________________________________________________________________\n",
      "Woeizado de Variables: OK.\n",
      "________________________________________________________________________________________________________________________\n",
      "Procesando...\n",
      "________________________________________________________________________________________________________________________\n",
      "Datos recibidos: OK.\n",
      "Número de filas y columnas del dataset: (200001, 7)\n",
      "________________________________________________________________________________________________________________________\n",
      "Variables fueron imputadas por medias: OK.\n",
      "________________________________________________________________________________________________________________________\n",
      "Woeizado de Variables: OK.\n",
      "________________________________________________________________________________________________________________________\n",
      "Procesando...\n",
      "________________________________________________________________________________________________________________________\n",
      "Datos recibidos: OK.\n",
      "Número de filas y columnas del dataset: (200001, 7)\n",
      "________________________________________________________________________________________________________________________\n",
      "Variables fueron imputadas por medias: OK.\n",
      "________________________________________________________________________________________________________________________\n",
      "Woeizado de Variables: OK.\n",
      "________________________________________________________________________________________________________________________\n",
      "Procesando...\n",
      "________________________________________________________________________________________________________________________\n",
      "Datos recibidos: OK.\n",
      "Número de filas y columnas del dataset: (200001, 7)\n",
      "________________________________________________________________________________________________________________________\n",
      "Variables fueron imputadas por medias: OK.\n",
      "________________________________________________________________________________________________________________________\n",
      "Woeizado de Variables: OK.\n",
      "________________________________________________________________________________________________________________________\n",
      "Procesando...\n",
      "________________________________________________________________________________________________________________________\n",
      "Datos recibidos: OK.\n",
      "Número de filas y columnas del dataset: (200001, 7)\n",
      "________________________________________________________________________________________________________________________\n",
      "Variables fueron imputadas por medias: OK.\n",
      "________________________________________________________________________________________________________________________\n",
      "Woeizado de Variables: OK.\n",
      "________________________________________________________________________________________________________________________\n",
      "Procesando...\n",
      "________________________________________________________________________________________________________________________\n",
      "Datos recibidos: OK.\n",
      "Número de filas y columnas del dataset: (200001, 7)\n",
      "________________________________________________________________________________________________________________________\n",
      "Variables fueron imputadas por medias: OK.\n",
      "________________________________________________________________________________________________________________________\n",
      "Woeizado de Variables: OK.\n",
      "________________________________________________________________________________________________________________________\n",
      "Procesando...\n",
      "________________________________________________________________________________________________________________________\n",
      "Datos recibidos: OK.\n",
      "Número de filas y columnas del dataset: (200001, 7)\n",
      "________________________________________________________________________________________________________________________\n",
      "Variables fueron imputadas por medias: OK.\n",
      "________________________________________________________________________________________________________________________\n",
      "Woeizado de Variables: OK.\n",
      "________________________________________________________________________________________________________________________\n",
      "Procesando...\n",
      "________________________________________________________________________________________________________________________\n",
      "Datos recibidos: OK.\n",
      "Número de filas y columnas del dataset: (200001, 7)\n",
      "________________________________________________________________________________________________________________________\n",
      "Variables fueron imputadas por medias: OK.\n",
      "________________________________________________________________________________________________________________________\n",
      "Woeizado de Variables: OK.\n",
      "________________________________________________________________________________________________________________________\n",
      "Procesando...\n",
      "________________________________________________________________________________________________________________________\n",
      "Datos recibidos: OK.\n",
      "Número de filas y columnas del dataset: (200001, 7)\n",
      "________________________________________________________________________________________________________________________\n",
      "Variables fueron imputadas por medias: OK.\n",
      "________________________________________________________________________________________________________________________\n",
      "Woeizado de Variables: OK.\n",
      "________________________________________________________________________________________________________________________\n",
      "Procesando...\n",
      "________________________________________________________________________________________________________________________\n",
      "Datos recibidos: OK.\n",
      "Número de filas y columnas del dataset: (200001, 7)\n",
      "________________________________________________________________________________________________________________________\n",
      "Variables fueron imputadas por medias: OK.\n",
      "________________________________________________________________________________________________________________________\n",
      "Woeizado de Variables: OK.\n",
      "________________________________________________________________________________________________________________________\n",
      "Procesando...\n",
      "________________________________________________________________________________________________________________________\n",
      "Datos recibidos: OK.\n",
      "Número de filas y columnas del dataset: (82859, 7)\n",
      "________________________________________________________________________________________________________________________\n",
      "Variables fueron imputadas por medias: OK.\n",
      "________________________________________________________________________________________________________________________\n",
      "Woeizado de Variables: OK.\n",
      "________________________________________________________________________________________________________________________\n"
     ]
    }
   ],
   "source": [
    "pipeline_bm = pipeline.clase_pipeline()\n",
    "pipeline_bm.model = load('modelo_aa.joblib') \n",
    "pred_modelo_aa=pd.DataFrame({'RUT_CLIENTE':[],'PROBABILIDAD':[]})\n",
    "\n",
    "n_df_aa= pipeline.extraer_data('SELECT count(*) FROM SCORING_2022','ORACLE')\n",
    "step=200000\n",
    "for i in range(step,n_df_aa['COUNT(*)'][0]+step,step): # saltos de millon en millón hasta llegar al total de registros, esto se realiza para evitar error por espacio/memoria\n",
    "        query2=query + ' WHERE RN between ' + str(i-step)+' AND '+str(i) \n",
    "\n",
    "        pipeline_bm.recibe_data(\n",
    "                tipo = 'query',\n",
    "                server = 'ORACLE',\n",
    "                dataset_o_query = query2,\n",
    "                #target = 'TARGET', \n",
    "                #muestra = 'MUESTRA',\n",
    "                #ano_mes = 'FECHA_VENTA',\n",
    "                rut = 'RUT_CLIENTE', \n",
    "                excluir=[],\n",
    "                categoricas =categoricas2\n",
    "        )\n",
    "\n",
    "        pipeline_bm.inicializar()\n",
    "        pipeline_bm.imputacion_nulos(imputar_0=['MONTO','FREQ','TRX','PROD_DIS','DSCTO','DCTO','NVISITAS','RECENCIA','NPROD','TICKET','PROP','MESES_INSCRITOS'])\n",
    "        pipeline_bm.rangos_continuas(ruta_df_woes='D:/SOCOFAR/Modelo_aa/clf_woe_aa.joblib')\n",
    "        pipeline_bm.Woeizar2(ruta_exporta='D:/SOCOFAR/Modelo_aa/clf_woe_aa.joblib')\n",
    "\n",
    "        pred_prob_model=pipeline_bm.model.predict_proba(pipeline_bm.dataset[[i for i in pipeline_bm.dataset.columns if i not in (pipeline_bm.no_considerar)]])[:,1]\n",
    "        pred_modelo_aa = pd.concat([pred_modelo_aa,pd.DataFrame({'RUT_CLIENTE': np.array(pipeline_bm.dataset['RUT_CLIENTE']), 'PROBABILIDAD': pred_prob_model})])"
   ]
  },
  {
   "cell_type": "code",
   "execution_count": 62,
   "metadata": {},
   "outputs": [],
   "source": [
    "pred_modelo_aa.to_csv('SCORING_AA_JUL22.csv')"
   ]
  },
  {
   "cell_type": "code",
   "execution_count": 63,
   "metadata": {},
   "outputs": [
    {
     "data": {
      "text/plain": [
       "array([[ 0.70904395,  0.4324965 ,  0.70828827,  0.83829003, -0.84723388,\n",
       "         0.22515701]])"
      ]
     },
     "execution_count": 63,
     "metadata": {},
     "output_type": "execute_result"
    }
   ],
   "source": [
    "pipeline_bm.model.best_estimator_.coef_"
   ]
  },
  {
   "cell_type": "code",
   "execution_count": 64,
   "metadata": {},
   "outputs": [
    {
     "data": {
      "text/plain": [
       "array([0.01511304])"
      ]
     },
     "execution_count": 64,
     "metadata": {},
     "output_type": "execute_result"
    }
   ],
   "source": [
    "pipeline_bm.model.best_estimator_.intercept_"
   ]
  },
  {
   "cell_type": "code",
   "execution_count": null,
   "metadata": {},
   "outputs": [],
   "source": [
    "pipeline_bm = pipeline.clase_pipeline()\n",
    "clf = load('D:/SOCOFAR/Modelo_aa/clf_woe_aa.joblib')\n",
    "clf.woe_df"
   ]
  },
  {
   "cell_type": "code",
   "execution_count": null,
   "metadata": {},
   "outputs": [],
   "source": []
  }
 ],
 "metadata": {
  "kernelspec": {
   "display_name": "Python 3.8.5 ('base')",
   "language": "python",
   "name": "python3"
  },
  "language_info": {
   "codemirror_mode": {
    "name": "ipython",
    "version": 3
   },
   "file_extension": ".py",
   "mimetype": "text/x-python",
   "name": "python",
   "nbconvert_exporter": "python",
   "pygments_lexer": "ipython3",
   "version": "3.8.5"
  },
  "vscode": {
   "interpreter": {
    "hash": "ad2bdc8ecc057115af97d19610ffacc2b4e99fae6737bb82f5d7fb13d2f2c186"
   }
  }
 },
 "nbformat": 4,
 "nbformat_minor": 4
}
