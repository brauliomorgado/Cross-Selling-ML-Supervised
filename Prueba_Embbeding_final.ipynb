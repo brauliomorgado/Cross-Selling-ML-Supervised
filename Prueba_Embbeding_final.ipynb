{
 "cells": [
  {
   "cell_type": "code",
   "execution_count": 1,
   "metadata": {},
   "outputs": [
    {
     "name": "stderr",
     "output_type": "stream",
     "text": [
      "c:\\ProgramData\\Anaconda3\\lib\\site-packages\\scipy\\__init__.py:155: UserWarning: A NumPy version >=1.18.5 and <1.25.0 is required for this version of SciPy (detected version 1.26.4\n",
      "  warnings.warn(f\"A NumPy version >={np_minversion} and <{np_maxversion}\"\n"
     ]
    }
   ],
   "source": [
    "import pandas as pd\n",
    "import numpy as np\n",
    "from gensim.models import Word2Vec\n",
    "\n",
    "import os\n",
    "import pandas as pd\n",
    "import numpy as np\n",
    "from sklearn.model_selection import train_test_split\n",
    "from sklearn.metrics import plot_roc_curve\n",
    "import matplotlib.pyplot as plt\n",
    "\n",
    "os.chdir('G:/Mi unidad/SOCOFAR/0.-Recomendadores-Oficial/POS-Cross-Selling/Modelo_Supervisado')\n",
    "import pipeline_bm as pipeline\n",
    "#pd.set_option('display.max_row', 1000000)\n",
    "\n",
    "pipeline_bm = pipeline.clase_pipeline()"
   ]
  },
  {
   "cell_type": "markdown",
   "metadata": {},
   "source": [
    "**Carga Data**"
   ]
  },
  {
   "cell_type": "code",
   "execution_count": 46,
   "metadata": {},
   "outputs": [],
   "source": [
    "# Open the file in binary mode, remove null bytes, and then decode\n",
    "with open('G:\\\\Mi unidad\\\\SOCOFAR\\\\0.-Recomendadores-Oficial\\\\Archivos\\\\SR_BASE_FINAL_PROD_FEB24.csv', 'rb') as file:\n",
    "    content = file.read().replace(b'\\x00', b'')  # Replace null bytes with nothing\n",
    "\n",
    "# Convert the binary content to a string and use StringIO to mimic a file object for pandas\n",
    "from io import StringIO\n",
    "content_str = StringIO(content.decode('latin'))\n",
    "\n",
    "# Now use pd.read_csv on the cleaned string data\n",
    "df = pd.read_csv(content_str, sep=';', encoding='latin',nrows=1000000)\n",
    "df['RUT_CLIENTE']=((df['SK']+1599)/2).astype(int)"
   ]
  },
  {
   "cell_type": "code",
   "execution_count": 36,
   "metadata": {},
   "outputs": [],
   "source": [
    "diccionario=pd.read_csv('../diccionario_productos.csv',sep=';',usecols=['CODIGO','UNIDAD_COMERCIAL','MACROCATEGORIA','CATEGORIA_NIVEL_1','CATEGORIA_NIVEL_2_FCV','DESCRIPTOR_LARGO','MARCA'])"
   ]
  },
  {
   "cell_type": "code",
   "execution_count": 4,
   "metadata": {},
   "outputs": [
    {
     "data": {
      "text/plain": [
       "491278"
      ]
     },
     "execution_count": 4,
     "metadata": {},
     "output_type": "execute_result"
    }
   ],
   "source": [
    "excl_otros = [str(elemento) for elemento in list(diccionario[diccionario.DESCRIPTOR_LARGO.isin(['DESPACHO','DESP.A','RETIRO DE RECETA','PROMOCION DTE','HORA VACUNACION','INSUMOS BOLSAS','SIN DESCRIPTOR','AJUSTE POR REDONDEO'])]['CODIGO'])] +\\\n",
    "                          [str(elemento) for elemento in list(diccionario[diccionario.DESCRIPTOR_LARGO.str.contains('BOLSA PAPEL|BOLS|DESPACHO|PROMOCION|CUPON|INYECCION|MEDICION|MEMBRESIA|REGALO|2020|2021|2022|MUNDIAL')]['CODIGO'])] +\\\n",
    "                          [str(elemento) for elemento in list(diccionario[diccionario.MACROCATEGORIA.isin(['ENFERMERIA ACCESORIOS Y PROCEDIMIENTOS','HOGAR','RECARGAS VARIAS','BEBIDAS Y AGUAS','ACCESORIOS MODA','TECNOLOGIA','AUTOLIQUIDABLES REGALO ARTICULOS VARIOS','INSUMOS MACRO','EQUIPOS QUIRURGICOS','POR CLASIFICAR'])]['CODIGO'])] +\\\n",
    "                          [str(elemento) for elemento in list(diccionario[diccionario.CATEGORIA_NIVEL_1.isin(['MASCARILLAS PRIMEROS AUXILIOS'])]['CODIGO'])] +\\\n",
    "                          [str(elemento) for elemento in list(diccionario[diccionario.UNIDAD_COMERCIAL.isin(['INSTITUCIONAL'])]['CODIGO'])]\n",
    "#por código\n",
    "cods_excluir = pd.read_csv('G:/Mi unidad/SOCOFAR/0.-Recomendadores-Oficial/Archivos/codigos_exclusion.csv',sep=';').excluir.values.tolist() + excl_otros\n",
    "cods_excluir = [int(cod) for cod in cods_excluir]\n",
    "\n",
    "diccionario=diccionario[~diccionario.CODIGO.isin(cods_excluir)]\n",
    "\n",
    "dicc_uam=df['CODIGO_PRODUCTO'].unique()\n",
    "dicc_productos=diccionario[diccionario.CODIGO.isin(dicc_uam)].CODIGO\n",
    "\n",
    "df=df[df.CODIGO_PRODUCTO.isin(dicc_productos)]\n",
    "len(df)"
   ]
  },
  {
   "cell_type": "markdown",
   "metadata": {},
   "source": [
    "**Generación de Embedding de Clientes y Productos**"
   ]
  },
  {
   "cell_type": "code",
   "execution_count": 47,
   "metadata": {},
   "outputs": [],
   "source": [
    "# AGRUPAR PRODUCTOS COMPRADOS POR CLIENTE EN LISTAS\n",
    "\n",
    "# OPC1) METODO PARA PONDERAR PESO POR CANTIDAD\n",
    "#sentences = df.groupby('RUT_CLIENTE')['CODIGO_PRODUCTO'].apply(list).tolist()\n",
    "\n",
    "# OPC2) METODO PARA PONDERAR PESO POR CANTIDAD\n",
    "df['PRODUCTO_CANTIDAD'] = df.apply(lambda row: [(row['CODIGO_PRODUCTO'], row['SUM_NRO_PROD'])], axis=1)\n",
    "\n",
    "def expandir_productos_con_cantidad(lista_de_pares):\n",
    "    resultado = []\n",
    "    for producto, cantidad in lista_de_pares:\n",
    "        resultado.extend([producto] * cantidad)\n",
    "    return resultado\n",
    "\n",
    "# Aplicar la función para expandir los productos según su cantidad\n",
    "sentences = df.groupby('RUT_CLIENTE')['PRODUCTO_CANTIDAD'].sum().apply(expandir_productos_con_cantidad).tolist()"
   ]
  },
  {
   "cell_type": "code",
   "execution_count": 55,
   "metadata": {},
   "outputs": [],
   "source": [
    "# Entrenar el modelo Word2Vec\n",
    "model = Word2Vec(sentences, vector_size=10, window=5, min_count=1, workers=4)"
   ]
  },
  {
   "cell_type": "code",
   "execution_count": 56,
   "metadata": {},
   "outputs": [],
   "source": [
    "#CALCULA EL EMBEDDING DEL CLIENTE SEGUN LOS PRODUCTOS QUE HA COMPRADO\n",
    "client_embeddings = {}\n",
    "for rut, group in df.groupby('RUT_CLIENTE'):\n",
    "    products = group['CODIGO_PRODUCTO'].tolist()\n",
    "    embeddings = []\n",
    "    for product in products:\n",
    "        embeddings.append(model.wv[product])\n",
    "        \n",
    "    if embeddings:\n",
    "        client_embeddings[rut] = np.mean(embeddings, axis=0)"
   ]
  },
  {
   "cell_type": "markdown",
   "metadata": {},
   "source": [
    "**Muestreo Estratificado**"
   ]
  },
  {
   "cell_type": "code",
   "execution_count": 8,
   "metadata": {},
   "outputs": [],
   "source": [
    "caracteristicas=pd.read_csv('../SR_CARACTERISTICAS.CSV',sep=';')\n",
    "df=df.merge(caracteristicas, how='left', on='RUT_CLIENTE')\n",
    "df['EDAD'].replace(-1, np.nan,inplace=True)"
   ]
  },
  {
   "cell_type": "code",
   "execution_count": 9,
   "metadata": {},
   "outputs": [],
   "source": [
    "min = df['EDAD'].min()\n",
    "max = df['EDAD'].max()\n",
    "tramos_edad = np.linspace(min, max, num=10)\n",
    "\n",
    "df['EDAD_TRAMOS'] = pd.cut(df['EDAD'], bins=tramos_edad, include_lowest=True).astype(str)\n",
    "\n",
    "# Específicamente asignar un tramo para NaN\n",
    "df.loc[df['EDAD'].isna(), 'EDAD_TRAMOS'] = 'DESCONOCIDA'"
   ]
  },
  {
   "cell_type": "code",
   "execution_count": 10,
   "metadata": {},
   "outputs": [
    {
     "name": "stdout",
     "output_type": "stream",
     "text": [
      "Porcentaje que representa la muestra sobre el dataset completo: 10.0%\n",
      "Aparición minima de veces de una combinatoria para ser representada en la muestra: 10\n"
     ]
    }
   ],
   "source": [
    "n_muestra=len(df)*0.1 #TAMAÑO ESPERADO para determinar minimo de casos que debe haber en la categoría menos frecuente\n",
    "proporcion=(n_muestra/len(df))*100\n",
    "print( 'Porcentaje que representa la muestra sobre el dataset completo: '+ str(round(proporcion,2)) + '%')\n",
    "freq_min=100/proporcion\n",
    "print('Aparición minima de veces de una combinatoria para ser representada en la muestra: ' +str(int(freq_min)))"
   ]
  },
  {
   "cell_type": "code",
   "execution_count": 11,
   "metadata": {},
   "outputs": [
    {
     "name": "stdout",
     "output_type": "stream",
     "text": [
      "tamaño dataset estratificado: 141979\n"
     ]
    }
   ],
   "source": [
    "#Identificar indices de casos con muy baja ocurrencia\n",
    "conteos = df.groupby(['GENERO', 'GSE', 'EDAD_TRAMOS','CODIGO_PRODUCTO']).size()\n",
    "# Filtrar las combinaciones con menos de \"freq_min\" apariciones\n",
    "conteos_filtrados = conteos[conteos >= freq_min]\n",
    "# Filtrar el DataFrame original para mantener solo las filas con combinaciones frecuentes\n",
    "df_filtered = df[df.set_index(['GENERO', 'GSE', 'EDAD_TRAMOS','CODIGO_PRODUCTO']).index.isin(conteos_filtrados.index)].reset_index(drop=True)\n",
    "print('tamaño dataset estratificado: '+str(len(df_filtered)))"
   ]
  },
  {
   "cell_type": "code",
   "execution_count": 12,
   "metadata": {},
   "outputs": [
    {
     "name": "stdout",
     "output_type": "stream",
     "text": [
      "Tamaño de la muestra final: 70989\n"
     ]
    }
   ],
   "source": [
    "n_muestra=len(df_filtered)*0.5 #TAMAÑO EFECTIVO de la muestra sobre el dataset filtrado\n",
    "porc_muestra=n_muestra/len(df_filtered) #porcentual\n",
    "tamaño_muestra = porc_muestra #porcentual\n",
    "test_size=1-tamaño_muestra ##porcentual\n",
    "df_estratificado, _ = train_test_split(df_filtered, test_size=test_size, stratify=df_filtered[['GENERO', 'GSE', 'EDAD_TRAMOS','CODIGO_PRODUCTO']])\n",
    "\n",
    "df=df_estratificado\n",
    "print('Tamaño de la muestra final: '+ str(len(df)))"
   ]
  },
  {
   "cell_type": "code",
   "execution_count": 13,
   "metadata": {},
   "outputs": [
    {
     "name": "stdout",
     "output_type": "stream",
     "text": [
      "N° de clientes: 444987\n"
     ]
    },
    {
     "data": {
      "text/html": [
       "<div>\n",
       "<style scoped>\n",
       "    .dataframe tbody tr th:only-of-type {\n",
       "        vertical-align: middle;\n",
       "    }\n",
       "\n",
       "    .dataframe tbody tr th {\n",
       "        vertical-align: top;\n",
       "    }\n",
       "\n",
       "    .dataframe thead th {\n",
       "        text-align: right;\n",
       "    }\n",
       "</style>\n",
       "<table border=\"1\" class=\"dataframe\">\n",
       "  <thead>\n",
       "    <tr style=\"text-align: right;\">\n",
       "      <th></th>\n",
       "      <th>RUT_CLIENTE</th>\n",
       "      <th>embedding_0</th>\n",
       "      <th>embedding_1</th>\n",
       "      <th>embedding_2</th>\n",
       "      <th>embedding_3</th>\n",
       "      <th>embedding_4</th>\n",
       "      <th>embedding_5</th>\n",
       "      <th>embedding_6</th>\n",
       "      <th>embedding_7</th>\n",
       "      <th>embedding_8</th>\n",
       "      <th>embedding_9</th>\n",
       "    </tr>\n",
       "  </thead>\n",
       "  <tbody>\n",
       "    <tr>\n",
       "      <th>417</th>\n",
       "      <td>1765298</td>\n",
       "      <td>-0.865048</td>\n",
       "      <td>1.345426</td>\n",
       "      <td>2.614072</td>\n",
       "      <td>-0.614402</td>\n",
       "      <td>2.199296</td>\n",
       "      <td>-1.638381</td>\n",
       "      <td>1.063702</td>\n",
       "      <td>1.296247</td>\n",
       "      <td>-1.648741</td>\n",
       "      <td>2.709008</td>\n",
       "    </tr>\n",
       "  </tbody>\n",
       "</table>\n",
       "</div>"
      ],
      "text/plain": [
       "     RUT_CLIENTE  embedding_0  embedding_1  embedding_2  embedding_3  \\\n",
       "417      1765298    -0.865048     1.345426     2.614072    -0.614402   \n",
       "\n",
       "     embedding_4  embedding_5  embedding_6  embedding_7  embedding_8  \\\n",
       "417     2.199296    -1.638381     1.063702     1.296247    -1.648741   \n",
       "\n",
       "     embedding_9  \n",
       "417     2.709008  "
      ]
     },
     "execution_count": 13,
     "metadata": {},
     "output_type": "execute_result"
    }
   ],
   "source": [
    "#DATASET NIVEL CLIENTE CON RESPECTIVO EMBEDDING\n",
    "df_cli_embedd = pd.DataFrame.from_dict(client_embeddings, orient='index')\n",
    "df_cli_embedd.reset_index(inplace=True)\n",
    "df_cli_embedd.columns = ['RUT_CLIENTE'] + [f'embedding_{i}' for i in range(model.vector_size)]      \n",
    "print('N° de clientes: '+str(len(df_cli_embedd))) \n",
    "\n",
    "#CONSIDERAR SOLO CLIENTES DEL MUESTREO ESTRATIFICADO\n",
    "df_cli_embedd=df_cli_embedd[df_cli_embedd.RUT_CLIENTE.isin(df.RUT_CLIENTE.unique())] \n",
    "df_cli_embedd.head(1)"
   ]
  },
  {
   "cell_type": "code",
   "execution_count": 14,
   "metadata": {},
   "outputs": [
    {
     "name": "stdout",
     "output_type": "stream",
     "text": [
      "N° de interacciones cliente/producto: 70989\n"
     ]
    },
    {
     "data": {
      "text/html": [
       "<div>\n",
       "<style scoped>\n",
       "    .dataframe tbody tr th:only-of-type {\n",
       "        vertical-align: middle;\n",
       "    }\n",
       "\n",
       "    .dataframe tbody tr th {\n",
       "        vertical-align: top;\n",
       "    }\n",
       "\n",
       "    .dataframe thead th {\n",
       "        text-align: right;\n",
       "    }\n",
       "</style>\n",
       "<table border=\"1\" class=\"dataframe\">\n",
       "  <thead>\n",
       "    <tr style=\"text-align: right;\">\n",
       "      <th></th>\n",
       "      <th>RUT_CLIENTE</th>\n",
       "      <th>CODIGO_PRODUCTO</th>\n",
       "      <th>embedding_0</th>\n",
       "      <th>embedding_1</th>\n",
       "      <th>embedding_2</th>\n",
       "      <th>embedding_3</th>\n",
       "      <th>embedding_4</th>\n",
       "      <th>embedding_5</th>\n",
       "      <th>embedding_6</th>\n",
       "      <th>embedding_7</th>\n",
       "      <th>embedding_8</th>\n",
       "      <th>embedding_9</th>\n",
       "    </tr>\n",
       "  </thead>\n",
       "  <tbody>\n",
       "    <tr>\n",
       "      <th>0</th>\n",
       "      <td>8131010</td>\n",
       "      <td>85948</td>\n",
       "      <td>-1.587042</td>\n",
       "      <td>0.225397</td>\n",
       "      <td>0.432841</td>\n",
       "      <td>-0.270807</td>\n",
       "      <td>1.619256</td>\n",
       "      <td>0.927332</td>\n",
       "      <td>0.058645</td>\n",
       "      <td>-0.580198</td>\n",
       "      <td>-2.309233</td>\n",
       "      <td>1.186118</td>\n",
       "    </tr>\n",
       "  </tbody>\n",
       "</table>\n",
       "</div>"
      ],
      "text/plain": [
       "   RUT_CLIENTE  CODIGO_PRODUCTO  embedding_0  embedding_1  embedding_2  \\\n",
       "0      8131010            85948    -1.587042     0.225397     0.432841   \n",
       "\n",
       "   embedding_3  embedding_4  embedding_5  embedding_6  embedding_7  \\\n",
       "0    -0.270807     1.619256     0.927332     0.058645    -0.580198   \n",
       "\n",
       "   embedding_8  embedding_9  \n",
       "0    -2.309233     1.186118  "
      ]
     },
     "execution_count": 14,
     "metadata": {},
     "output_type": "execute_result"
    }
   ],
   "source": [
    "df_inter_cli_embedd = pd.merge(df[['RUT_CLIENTE','CODIGO_PRODUCTO']], df_cli_embedd, on='RUT_CLIENTE', how='left')\n",
    "print('N° de interacciones cliente/producto: '+str(len(df)))  \n",
    "df_inter_cli_embedd.head(1)"
   ]
  },
  {
   "cell_type": "code",
   "execution_count": 15,
   "metadata": {},
   "outputs": [
    {
     "name": "stdout",
     "output_type": "stream",
     "text": [
      "Cantidad de abanico de productos: 1043\n"
     ]
    },
    {
     "data": {
      "text/html": [
       "<div>\n",
       "<style scoped>\n",
       "    .dataframe tbody tr th:only-of-type {\n",
       "        vertical-align: middle;\n",
       "    }\n",
       "\n",
       "    .dataframe tbody tr th {\n",
       "        vertical-align: top;\n",
       "    }\n",
       "\n",
       "    .dataframe thead th {\n",
       "        text-align: right;\n",
       "    }\n",
       "</style>\n",
       "<table border=\"1\" class=\"dataframe\">\n",
       "  <thead>\n",
       "    <tr style=\"text-align: right;\">\n",
       "      <th></th>\n",
       "      <th>CODIGO_PRODUCTO</th>\n",
       "      <th>embedding_prod_0</th>\n",
       "      <th>embedding_prod_1</th>\n",
       "      <th>embedding_prod_2</th>\n",
       "      <th>embedding_prod_3</th>\n",
       "      <th>embedding_prod_4</th>\n",
       "      <th>embedding_prod_5</th>\n",
       "      <th>embedding_prod_6</th>\n",
       "      <th>embedding_prod_7</th>\n",
       "      <th>embedding_prod_8</th>\n",
       "      <th>embedding_prod_9</th>\n",
       "    </tr>\n",
       "  </thead>\n",
       "  <tbody>\n",
       "    <tr>\n",
       "      <th>0</th>\n",
       "      <td>259839</td>\n",
       "      <td>-3.583851</td>\n",
       "      <td>0.330849</td>\n",
       "      <td>-0.326282</td>\n",
       "      <td>0.198948</td>\n",
       "      <td>0.869718</td>\n",
       "      <td>-0.346555</td>\n",
       "      <td>5.477843</td>\n",
       "      <td>-1.840533</td>\n",
       "      <td>1.321535</td>\n",
       "      <td>1.610932</td>\n",
       "    </tr>\n",
       "  </tbody>\n",
       "</table>\n",
       "</div>"
      ],
      "text/plain": [
       "   CODIGO_PRODUCTO  embedding_prod_0  embedding_prod_1  embedding_prod_2  \\\n",
       "0           259839         -3.583851          0.330849         -0.326282   \n",
       "\n",
       "   embedding_prod_3  embedding_prod_4  embedding_prod_5  embedding_prod_6  \\\n",
       "0          0.198948          0.869718         -0.346555          5.477843   \n",
       "\n",
       "   embedding_prod_7  embedding_prod_8  embedding_prod_9  \n",
       "0         -1.840533          1.321535          1.610932  "
      ]
     },
     "execution_count": 15,
     "metadata": {},
     "output_type": "execute_result"
    }
   ],
   "source": [
    "dicc_prod_final=df_filtered.CODIGO_PRODUCTO.unique()\n",
    "embeddings = [model.wv[producto] for producto in dicc_prod_final if producto in model.wv]\n",
    "dicc_prod_embedd = pd.DataFrame(embeddings, index=dicc_prod_final)\n",
    "dicc_prod_embedd.reset_index(inplace=True)\n",
    "dicc_prod_embedd.rename(columns={'index': 'CODIGO_PRODUCTO'}, inplace=True)\n",
    "dicc_prod_embedd.columns = ['CODIGO_PRODUCTO'] + [f'embedding_prod_{i}' for i in range(model.vector_size)]   \n",
    "print('Cantidad de abanico de productos: '+str(len(df.CODIGO_PRODUCTO.unique()))) \n",
    "dicc_prod_embedd.head(1)"
   ]
  },
  {
   "cell_type": "markdown",
   "metadata": {},
   "source": [
    "**GENERACIÓN DATASET ENTRENAMIENTO (embedding como variables explicativas)**"
   ]
  },
  {
   "cell_type": "markdown",
   "metadata": {},
   "source": [
    "**Consolidación casos target=1 (todos)**"
   ]
  },
  {
   "cell_type": "code",
   "execution_count": 16,
   "metadata": {},
   "outputs": [
    {
     "name": "stdout",
     "output_type": "stream",
     "text": [
      "N° de interacciones cliente/producto: 70989\n"
     ]
    },
    {
     "data": {
      "text/html": [
       "<div>\n",
       "<style scoped>\n",
       "    .dataframe tbody tr th:only-of-type {\n",
       "        vertical-align: middle;\n",
       "    }\n",
       "\n",
       "    .dataframe tbody tr th {\n",
       "        vertical-align: top;\n",
       "    }\n",
       "\n",
       "    .dataframe thead th {\n",
       "        text-align: right;\n",
       "    }\n",
       "</style>\n",
       "<table border=\"1\" class=\"dataframe\">\n",
       "  <thead>\n",
       "    <tr style=\"text-align: right;\">\n",
       "      <th></th>\n",
       "      <th>RUT_CLIENTE</th>\n",
       "      <th>CODIGO_PRODUCTO</th>\n",
       "      <th>embedding_0</th>\n",
       "      <th>embedding_1</th>\n",
       "      <th>embedding_2</th>\n",
       "      <th>embedding_3</th>\n",
       "      <th>embedding_4</th>\n",
       "      <th>embedding_5</th>\n",
       "      <th>embedding_6</th>\n",
       "      <th>embedding_7</th>\n",
       "      <th>...</th>\n",
       "      <th>embedding_prod_1</th>\n",
       "      <th>embedding_prod_2</th>\n",
       "      <th>embedding_prod_3</th>\n",
       "      <th>embedding_prod_4</th>\n",
       "      <th>embedding_prod_5</th>\n",
       "      <th>embedding_prod_6</th>\n",
       "      <th>embedding_prod_7</th>\n",
       "      <th>embedding_prod_8</th>\n",
       "      <th>embedding_prod_9</th>\n",
       "      <th>TARGET</th>\n",
       "    </tr>\n",
       "  </thead>\n",
       "  <tbody>\n",
       "    <tr>\n",
       "      <th>0</th>\n",
       "      <td>8131010</td>\n",
       "      <td>85948</td>\n",
       "      <td>-1.587042</td>\n",
       "      <td>0.225397</td>\n",
       "      <td>0.432841</td>\n",
       "      <td>-0.270807</td>\n",
       "      <td>1.619256</td>\n",
       "      <td>0.927332</td>\n",
       "      <td>0.058645</td>\n",
       "      <td>-0.580198</td>\n",
       "      <td>...</td>\n",
       "      <td>0.225397</td>\n",
       "      <td>0.432841</td>\n",
       "      <td>-0.270807</td>\n",
       "      <td>1.619256</td>\n",
       "      <td>0.927332</td>\n",
       "      <td>0.058645</td>\n",
       "      <td>-0.580198</td>\n",
       "      <td>-2.309233</td>\n",
       "      <td>1.186118</td>\n",
       "      <td>1</td>\n",
       "    </tr>\n",
       "  </tbody>\n",
       "</table>\n",
       "<p>1 rows × 23 columns</p>\n",
       "</div>"
      ],
      "text/plain": [
       "   RUT_CLIENTE  CODIGO_PRODUCTO  embedding_0  embedding_1  embedding_2  \\\n",
       "0      8131010            85948    -1.587042     0.225397     0.432841   \n",
       "\n",
       "   embedding_3  embedding_4  embedding_5  embedding_6  embedding_7  ...  \\\n",
       "0    -0.270807     1.619256     0.927332     0.058645    -0.580198  ...   \n",
       "\n",
       "   embedding_prod_1  embedding_prod_2  embedding_prod_3  embedding_prod_4  \\\n",
       "0          0.225397          0.432841         -0.270807          1.619256   \n",
       "\n",
       "   embedding_prod_5  embedding_prod_6  embedding_prod_7  embedding_prod_8  \\\n",
       "0          0.927332          0.058645         -0.580198         -2.309233   \n",
       "\n",
       "   embedding_prod_9  TARGET  \n",
       "0          1.186118       1  \n",
       "\n",
       "[1 rows x 23 columns]"
      ]
     },
     "execution_count": 16,
     "metadata": {},
     "output_type": "execute_result"
    }
   ],
   "source": [
    "df_cli_prod_embedd_t1 = pd.merge(df_inter_cli_embedd, dicc_prod_embedd, on='CODIGO_PRODUCTO', how='left')\n",
    "df_cli_prod_embedd_t1['TARGET']=1\n",
    "print('N° de interacciones cliente/producto: '+str(len(df_cli_prod_embedd_t1)))  \n",
    "df_cli_prod_embedd_t1.head(1)"
   ]
  },
  {
   "cell_type": "markdown",
   "metadata": {},
   "source": [
    "**Consolidación casos target=0 (muestra)** "
   ]
  },
  {
   "cell_type": "markdown",
   "metadata": {},
   "source": [
    "###### Opción 1) muestreo aleatorio=0\n",
    "###### - para cada cliente de la tabla \"df_cli_embedd\" se le asocie aleatoriamente un registro de la tabla \"dicc_prod_embedd\""
   ]
  },
  {
   "cell_type": "code",
   "execution_count": 17,
   "metadata": {},
   "outputs": [],
   "source": [
    "n = 2  # Número de veces que deseas duplicar los clientes\n",
    "df_cli_prod_embedd_t0 = pd.concat([df_cli_embedd] * n, ignore_index=True)\n",
    "\n",
    "# Paso 1: Generar índices aleatorios\n",
    "num_clientes = len(df_cli_prod_embedd_t0)\n",
    "indices_aleatorios = np.random.choice(dicc_prod_embedd.index, size=num_clientes, replace=True)\n",
    "\n",
    "# Paso 2: Asignar registros aleatorios a clientes\n",
    "for columna in dicc_prod_embedd.columns:\n",
    "    # Usar los índices aleatorios para seleccionar los valores de dicc_prod_embedd y asignarlos a df_cli_embedd\n",
    "    df_cli_prod_embedd_t0[f'{columna}'] = dicc_prod_embedd.loc[indices_aleatorios, columna].values"
   ]
  },
  {
   "cell_type": "code",
   "execution_count": 18,
   "metadata": {},
   "outputs": [],
   "source": [
    "# Paso 3: Eliminar posibles casos target=1\n",
    "df_cli_prod_embedd_t0 = pd.merge(df_cli_prod_embedd_t0, df[['RUT_CLIENTE','CODIGO_PRODUCTO']], on=['RUT_CLIENTE','CODIGO_PRODUCTO'], how='left', indicator=True).loc[lambda x: x['_merge'] == 'left_only']\n",
    "df_cli_prod_embedd_t0 = df_cli_prod_embedd_t0.drop(columns=['_merge']) #elimina aquellos que si cruzan en el historico de transacciones\n",
    "df_cli_prod_embedd_t0['TARGET']=0"
   ]
  },
  {
   "cell_type": "markdown",
   "metadata": {},
   "source": [
    "###### Opción 2) Muestreo Representativo por clusters\n",
    "###### Distribuir equitativamente las muestras de productos no comprados entre clientes de perfil similar, y asi no requerir que para cada cliente se consideren todos los productos que no compra.\n",
    "###### - Generar 'n' clusters\n",
    "###### - A cada cluster asociar aleatoriamente los 'm' productos existentes en el diccionario (cumpliendo condición de que el cliente asociado no haya comprado el producto)\n",
    "###### - los 'm' productos se pueden multiplicar por un factor 'x' dependiendo de la cantidad de casos con target=0 se definan, ya sea que se opte por un entrenamiento balanceado u otro superior."
   ]
  },
  {
   "cell_type": "code",
   "execution_count": 19,
   "metadata": {},
   "outputs": [],
   "source": [
    "############## PENDIENTE ##############"
   ]
  },
  {
   "cell_type": "markdown",
   "metadata": {},
   "source": [
    "**Consolidación dataset**"
   ]
  },
  {
   "cell_type": "code",
   "execution_count": 20,
   "metadata": {},
   "outputs": [],
   "source": [
    "# Mover la columna\n",
    "columnas = list(df_cli_prod_embedd_t0.columns)\n",
    "columnas.remove('CODIGO_PRODUCTO') \n",
    "columnas.insert(1,'CODIGO_PRODUCTO')\n",
    "df_cli_prod_embedd_t0 = df_cli_prod_embedd_t0[columnas]"
   ]
  },
  {
   "cell_type": "code",
   "execution_count": 21,
   "metadata": {},
   "outputs": [
    {
     "data": {
      "text/plain": [
       "210042"
      ]
     },
     "execution_count": 21,
     "metadata": {},
     "output_type": "execute_result"
    }
   ],
   "source": [
    "pipeline_bm.dataset = pd.concat([df_cli_prod_embedd_t0,df_cli_prod_embedd_t1],axis=0)\n",
    "len(pipeline_bm.dataset)"
   ]
  },
  {
   "cell_type": "code",
   "execution_count": 22,
   "metadata": {},
   "outputs": [],
   "source": [
    "# dicc_prod_final=df_filtered.CODIGO_PRODUCTO.unique()\n",
    "# pipeline_bm.dataset = pd.DataFrame()\n",
    "# # Iterar sobre cada producto para construir el dataframe completo\n",
    "# for i, producto in enumerate(dicc_prod_final, start=1):\n",
    "#     product_embedding = model.wv[producto]\n",
    "        \n",
    "#     # Crear un DataFrame temporal que repite el embedding del producto para cada cliente\n",
    "#     temp_df = pd.DataFrame([product_embedding], columns=[f'product_embedding_{i}' for i in range(len(product_embedding))])\n",
    "#     temp_df = pd.concat([client_embeddings_df, temp_df.loc[temp_df.index.repeat(client_embeddings_df.shape[0])].reset_index(drop=True)], axis=1)\n",
    "        \n",
    "#     # Agregar una columna para el producto actual\n",
    "#     temp_df['producto'] = producto\n",
    "      \n",
    "#     # Concatenar al dataframe completo\n",
    "#     pipeline_bm.dataset = pd.concat([pipeline_bm.dataset, temp_df], ignore_index=True)\n",
    "#     print(i)"
   ]
  },
  {
   "cell_type": "code",
   "execution_count": 23,
   "metadata": {},
   "outputs": [],
   "source": [
    "# #Cruce con dataset de compras para marcaje de target = 1 cuando cliente ha comprado producto\n",
    "# pipeline_bm.dataset['target'] = 0\n",
    "# pipeline_bm.dataset = pipeline_bm.dataset.merge(df, how='left', left_on=['RUT_CLIENTE', 'producto'], right_on=['RUT_CLIENTE', 'CODIGO_PRODUCTO'])\n",
    "# pipeline_bm.dataset['target'] = pipeline_bm.dataset['CODIGO_PRODUCTO'].notna().astype(int)\n",
    "# pipeline_bm.dataset.drop(columns=['CODIGO_PRODUCTO','SK','SUM_NRO_PROD'], inplace=True)"
   ]
  },
  {
   "cell_type": "code",
   "execution_count": 24,
   "metadata": {},
   "outputs": [
    {
     "data": {
      "text/html": [
       "<div>\n",
       "<style scoped>\n",
       "    .dataframe tbody tr th:only-of-type {\n",
       "        vertical-align: middle;\n",
       "    }\n",
       "\n",
       "    .dataframe tbody tr th {\n",
       "        vertical-align: top;\n",
       "    }\n",
       "\n",
       "    .dataframe thead th {\n",
       "        text-align: right;\n",
       "    }\n",
       "</style>\n",
       "<table border=\"1\" class=\"dataframe\">\n",
       "  <thead>\n",
       "    <tr style=\"text-align: right;\">\n",
       "      <th></th>\n",
       "      <th>RUT_CLIENTE</th>\n",
       "      <th>CODIGO_PRODUCTO</th>\n",
       "      <th>embedding_0</th>\n",
       "      <th>embedding_1</th>\n",
       "      <th>embedding_2</th>\n",
       "      <th>embedding_3</th>\n",
       "      <th>embedding_4</th>\n",
       "      <th>embedding_5</th>\n",
       "      <th>embedding_6</th>\n",
       "      <th>embedding_7</th>\n",
       "      <th>...</th>\n",
       "      <th>embedding_prod_1</th>\n",
       "      <th>embedding_prod_2</th>\n",
       "      <th>embedding_prod_3</th>\n",
       "      <th>embedding_prod_4</th>\n",
       "      <th>embedding_prod_5</th>\n",
       "      <th>embedding_prod_6</th>\n",
       "      <th>embedding_prod_7</th>\n",
       "      <th>embedding_prod_8</th>\n",
       "      <th>embedding_prod_9</th>\n",
       "      <th>TARGET</th>\n",
       "    </tr>\n",
       "  </thead>\n",
       "  <tbody>\n",
       "    <tr>\n",
       "      <th>0</th>\n",
       "      <td>1765298</td>\n",
       "      <td>251771</td>\n",
       "      <td>-0.865048</td>\n",
       "      <td>1.345426</td>\n",
       "      <td>2.614072</td>\n",
       "      <td>-0.614402</td>\n",
       "      <td>2.199296</td>\n",
       "      <td>-1.638381</td>\n",
       "      <td>1.063702</td>\n",
       "      <td>1.296247</td>\n",
       "      <td>...</td>\n",
       "      <td>1.615576</td>\n",
       "      <td>-0.996928</td>\n",
       "      <td>-0.221618</td>\n",
       "      <td>2.282088</td>\n",
       "      <td>-0.754981</td>\n",
       "      <td>-0.505653</td>\n",
       "      <td>-2.469895</td>\n",
       "      <td>-2.115952</td>\n",
       "      <td>2.469080</td>\n",
       "      <td>0</td>\n",
       "    </tr>\n",
       "    <tr>\n",
       "      <th>1</th>\n",
       "      <td>1837171</td>\n",
       "      <td>141087</td>\n",
       "      <td>-2.548579</td>\n",
       "      <td>1.031454</td>\n",
       "      <td>-0.692659</td>\n",
       "      <td>0.701824</td>\n",
       "      <td>2.903084</td>\n",
       "      <td>-2.901527</td>\n",
       "      <td>0.573037</td>\n",
       "      <td>-0.940731</td>\n",
       "      <td>...</td>\n",
       "      <td>0.494455</td>\n",
       "      <td>0.001649</td>\n",
       "      <td>-0.759172</td>\n",
       "      <td>0.142937</td>\n",
       "      <td>-0.533344</td>\n",
       "      <td>1.170948</td>\n",
       "      <td>0.287480</td>\n",
       "      <td>-1.152994</td>\n",
       "      <td>0.643762</td>\n",
       "      <td>0</td>\n",
       "    </tr>\n",
       "    <tr>\n",
       "      <th>2</th>\n",
       "      <td>1961897</td>\n",
       "      <td>398726</td>\n",
       "      <td>-0.537291</td>\n",
       "      <td>0.231428</td>\n",
       "      <td>-1.605616</td>\n",
       "      <td>3.997919</td>\n",
       "      <td>-1.898082</td>\n",
       "      <td>-1.982242</td>\n",
       "      <td>4.005368</td>\n",
       "      <td>-2.296108</td>\n",
       "      <td>...</td>\n",
       "      <td>1.558349</td>\n",
       "      <td>1.145885</td>\n",
       "      <td>2.760182</td>\n",
       "      <td>1.898842</td>\n",
       "      <td>-2.314275</td>\n",
       "      <td>0.061715</td>\n",
       "      <td>0.754791</td>\n",
       "      <td>0.571142</td>\n",
       "      <td>2.877932</td>\n",
       "      <td>0</td>\n",
       "    </tr>\n",
       "    <tr>\n",
       "      <th>3</th>\n",
       "      <td>2020803</td>\n",
       "      <td>296312</td>\n",
       "      <td>-3.828472</td>\n",
       "      <td>3.259140</td>\n",
       "      <td>-0.581277</td>\n",
       "      <td>-0.141592</td>\n",
       "      <td>0.945717</td>\n",
       "      <td>-1.865551</td>\n",
       "      <td>0.137845</td>\n",
       "      <td>3.258585</td>\n",
       "      <td>...</td>\n",
       "      <td>2.022788</td>\n",
       "      <td>1.323970</td>\n",
       "      <td>-0.549748</td>\n",
       "      <td>0.726829</td>\n",
       "      <td>-2.063492</td>\n",
       "      <td>0.197300</td>\n",
       "      <td>-0.698535</td>\n",
       "      <td>-1.064502</td>\n",
       "      <td>1.338840</td>\n",
       "      <td>0</td>\n",
       "    </tr>\n",
       "    <tr>\n",
       "      <th>4</th>\n",
       "      <td>2033026</td>\n",
       "      <td>300616</td>\n",
       "      <td>-1.217502</td>\n",
       "      <td>0.484676</td>\n",
       "      <td>1.881093</td>\n",
       "      <td>3.161570</td>\n",
       "      <td>2.743997</td>\n",
       "      <td>-0.072541</td>\n",
       "      <td>0.389887</td>\n",
       "      <td>-1.537163</td>\n",
       "      <td>...</td>\n",
       "      <td>0.222138</td>\n",
       "      <td>0.287127</td>\n",
       "      <td>0.073024</td>\n",
       "      <td>1.066841</td>\n",
       "      <td>0.205953</td>\n",
       "      <td>0.766113</td>\n",
       "      <td>-0.296225</td>\n",
       "      <td>-0.703949</td>\n",
       "      <td>0.812559</td>\n",
       "      <td>0</td>\n",
       "    </tr>\n",
       "  </tbody>\n",
       "</table>\n",
       "<p>5 rows × 23 columns</p>\n",
       "</div>"
      ],
      "text/plain": [
       "   RUT_CLIENTE  CODIGO_PRODUCTO  embedding_0  embedding_1  embedding_2  \\\n",
       "0      1765298           251771    -0.865048     1.345426     2.614072   \n",
       "1      1837171           141087    -2.548579     1.031454    -0.692659   \n",
       "2      1961897           398726    -0.537291     0.231428    -1.605616   \n",
       "3      2020803           296312    -3.828472     3.259140    -0.581277   \n",
       "4      2033026           300616    -1.217502     0.484676     1.881093   \n",
       "\n",
       "   embedding_3  embedding_4  embedding_5  embedding_6  embedding_7  ...  \\\n",
       "0    -0.614402     2.199296    -1.638381     1.063702     1.296247  ...   \n",
       "1     0.701824     2.903084    -2.901527     0.573037    -0.940731  ...   \n",
       "2     3.997919    -1.898082    -1.982242     4.005368    -2.296108  ...   \n",
       "3    -0.141592     0.945717    -1.865551     0.137845     3.258585  ...   \n",
       "4     3.161570     2.743997    -0.072541     0.389887    -1.537163  ...   \n",
       "\n",
       "   embedding_prod_1  embedding_prod_2  embedding_prod_3  embedding_prod_4  \\\n",
       "0          1.615576         -0.996928         -0.221618          2.282088   \n",
       "1          0.494455          0.001649         -0.759172          0.142937   \n",
       "2          1.558349          1.145885          2.760182          1.898842   \n",
       "3          2.022788          1.323970         -0.549748          0.726829   \n",
       "4          0.222138          0.287127          0.073024          1.066841   \n",
       "\n",
       "   embedding_prod_5  embedding_prod_6  embedding_prod_7  embedding_prod_8  \\\n",
       "0         -0.754981         -0.505653         -2.469895         -2.115952   \n",
       "1         -0.533344          1.170948          0.287480         -1.152994   \n",
       "2         -2.314275          0.061715          0.754791          0.571142   \n",
       "3         -2.063492          0.197300         -0.698535         -1.064502   \n",
       "4          0.205953          0.766113         -0.296225         -0.703949   \n",
       "\n",
       "   embedding_prod_9  TARGET  \n",
       "0          2.469080       0  \n",
       "1          0.643762       0  \n",
       "2          2.877932       0  \n",
       "3          1.338840       0  \n",
       "4          0.812559       0  \n",
       "\n",
       "[5 rows x 23 columns]"
      ]
     },
     "execution_count": 24,
     "metadata": {},
     "output_type": "execute_result"
    }
   ],
   "source": [
    "excluir = ['RUT_CLIENTE', 'TARGET','CODIGO_PRODUCTO']\n",
    "columnas_para_redondear = [col for col in pipeline_bm.dataset.columns if col not in excluir and (pipeline_bm.dataset[col].dtype == 'float64' or pipeline_bm.dataset[col].dtype == 'float32')]\n",
    "pipeline_bm.dataset[columnas_para_redondear] = pipeline_bm.dataset[columnas_para_redondear].round(8)\n",
    "pipeline_bm.dataset.head()     "
   ]
  },
  {
   "cell_type": "markdown",
   "metadata": {},
   "source": [
    "#### **Modelación**"
   ]
  },
  {
   "cell_type": "code",
   "execution_count": 25,
   "metadata": {},
   "outputs": [
    {
     "name": "stdout",
     "output_type": "stream",
     "text": [
      "Procesando...\n",
      "cargar previamente pipeline_bm.dataset = nombre_dataframe\n",
      "________________________________________________________________________________________________________________________\n",
      "Datos recibidos: OK.\n",
      "Número de filas y columnas del dataset: (210042, 23)\n",
      "________________________________________________________________________________________________________________________\n"
     ]
    }
   ],
   "source": [
    "pipeline_bm.recibe_data(\n",
    "    tipo = 'dataframe',\n",
    "    dataset_o_query = '',\n",
    "    target = 'TARGET',\n",
    "    delimiter=';' ,\n",
    "    #muestra = 'MUESTRA',\n",
    "    #ano_mes = 'FECHA_VENTA',\n",
    "    rut = 'RUT_CLIENTE', \n",
    "    excluir=['CODIGO_PRODUCTO'],\n",
    "    categoricas=[]\n",
    ")"
   ]
  },
  {
   "cell_type": "code",
   "execution_count": 26,
   "metadata": {},
   "outputs": [
    {
     "name": "stdout",
     "output_type": "stream",
     "text": [
      "Separacion de muestras: OK.\n",
      "________________________________________________________________________________________________________________________\n"
     ]
    }
   ],
   "source": [
    "pipeline_bm.separa_muestras(test=0.3)"
   ]
  },
  {
   "cell_type": "code",
   "execution_count": 27,
   "metadata": {},
   "outputs": [
    {
     "name": "stdout",
     "output_type": "stream",
     "text": [
      "Fitting 3 folds for each of 1 candidates, totalling 3 fits\n",
      "[CV 1/3] END bootstrap=True, class_weight=balanced, criterion=gini, n_estimators=50, n_jobs=-1, oob_score=True, random_state=0;, score=0.968 total time=  10.9s\n",
      "[CV 2/3] END bootstrap=True, class_weight=balanced, criterion=gini, n_estimators=50, n_jobs=-1, oob_score=True, random_state=0;, score=0.969 total time=   4.7s\n",
      "[CV 3/3] END bootstrap=True, class_weight=balanced, criterion=gini, n_estimators=50, n_jobs=-1, oob_score=True, random_state=0;, score=0.968 total time=   4.5s\n",
      "best params: {'bootstrap': True, 'class_weight': 'balanced', 'criterion': 'gini', 'n_estimators': 50, 'n_jobs': -1, 'oob_score': True, 'random_state': 0}\n",
      "best estimator: RandomForestClassifier(class_weight='balanced', n_estimators=50, n_jobs=-1,\n",
      "                       oob_score=True, random_state=0)\n",
      "ROC: 0.997183983269317\n",
      "Modelación: OK.\n",
      "________________________________________________________________________________________________________________________\n"
     ]
    }
   ],
   "source": [
    "pipeline_bm.modelacion('RandomForest', perf_eval='f1',ruta_exporta='G:/Mi unidad/SOCOFAR/0.-Recomendadores-Oficial/POS-Cross-Selling/Modelo_Supervisado/modelo_rf.joblib')"
   ]
  },
  {
   "cell_type": "code",
   "execution_count": 28,
   "metadata": {},
   "outputs": [
    {
     "data": {
      "image/png": "[encoded data removed]",
      "text/plain": [
       "<Figure size 640x480 with 1 Axes>"
      ]
     },
     "metadata": {},
     "output_type": "display_data"
    }
   ],
   "source": [
    "%matplotlib inline\n",
    "plot_roc_curve(pipeline_bm.model, pipeline_bm.X_test, pipeline_bm.Y_test)\n",
    "plt.title(pipeline_bm.algoritmo + ' ROC')\n",
    "plt.show()"
   ]
  },
  {
   "cell_type": "code",
   "execution_count": 29,
   "metadata": {},
   "outputs": [
    {
     "name": "stdout",
     "output_type": "stream",
     "text": [
      "\"ROC OPTIMO\"\n",
      "\n",
      "sens+espc:  1.9627949126349629\n",
      "KS:  0.9627949126349629\n",
      "threshold optimo:  0.319\n",
      "sensibility:  0.9727191623233319\n",
      "specificity:  0.990075750311631\n",
      "precision:  0.9804070042593469\n",
      "negative predictive value:  0.9861280233030107\n",
      "Critical Success Index:  0.954170696881765\n",
      "accuracy:  0.984209607541301\n",
      "f1score:  0.9765479529544865\n",
      "BalancedAccuracy:  0.9813974563174814\n"
     ]
    },
    {
     "data": {
      "text/html": [
       "<div>\n",
       "<style scoped>\n",
       "    .dataframe tbody tr th:only-of-type {\n",
       "        vertical-align: middle;\n",
       "    }\n",
       "\n",
       "    .dataframe tbody tr th {\n",
       "        vertical-align: top;\n",
       "    }\n",
       "\n",
       "    .dataframe thead th {\n",
       "        text-align: right;\n",
       "    }\n",
       "</style>\n",
       "<table border=\"1\" class=\"dataframe\">\n",
       "  <thead>\n",
       "    <tr style=\"text-align: right;\">\n",
       "      <th>TARGET</th>\n",
       "      <th>0</th>\n",
       "      <th>1</th>\n",
       "    </tr>\n",
       "    <tr>\n",
       "      <th>pred</th>\n",
       "      <th></th>\n",
       "      <th></th>\n",
       "    </tr>\n",
       "  </thead>\n",
       "  <tbody>\n",
       "    <tr>\n",
       "      <th>0</th>\n",
       "      <td>41302</td>\n",
       "      <td>581</td>\n",
       "    </tr>\n",
       "    <tr>\n",
       "      <th>1</th>\n",
       "      <td>414</td>\n",
       "      <td>20716</td>\n",
       "    </tr>\n",
       "  </tbody>\n",
       "</table>\n",
       "</div>"
      ],
      "text/plain": [
       "TARGET      0      1\n",
       "pred                \n",
       "0       41302    581\n",
       "1         414  20716"
      ]
     },
     "execution_count": 29,
     "metadata": {},
     "output_type": "execute_result"
    }
   ],
   "source": [
    "pipeline_bm.metricas_modelo_optimo()\n",
    "pipeline_bm.confusion_matrix"
   ]
  },
  {
   "cell_type": "markdown",
   "metadata": {},
   "source": [
    "Lo esperable es que el modelo ajuste muy bien ya que se le proporcionan implicitamente lo productos que compró a través del embedding del cliente. \n",
    "Lo importante acá es que, de cara al uso, la probabilidad hacia un producto no comprado por el cliente será más alta en la medida en que el embedding del cliente contenga el resto de productos que normalmente los clientes compran junto con el.\n",
    "\n",
    "No confundir el acierto del modelo en el conjunto de test con el grado de efectividad esperado en las recomendaciones. Para esto último se puede realizar una aproximación más realista mediante una evaluación \"offline\" en un conjunto de datos OOT."
   ]
  },
  {
   "cell_type": "markdown",
   "metadata": {},
   "source": [
    "**USO DEL MODELO RECOMENDADOR**\n",
    "\n",
    "- se recibe el cliente y producto buscado\n",
    "- se calcula el embedding del cliente como la ponderacion de items historicos + el nuevo\n",
    "- se calcula la probabilidad de compra para ese embedding en combinatoria con todos los embedding de productos existentes\n",
    "- se seleccionan aquellos \"n\" con probabilidad más alta (sin compra previa)"
   ]
  },
  {
   "cell_type": "code",
   "execution_count": 66,
   "metadata": {},
   "outputs": [],
   "source": [
    "#[rut_cliente,producto-1,...,producto-n]\n",
    "vector=[1768451,261034,277430,253352]\n",
    "cliente=vector[0]\n",
    "productos=vector[1:]"
   ]
  },
  {
   "cell_type": "markdown",
   "metadata": {},
   "source": [
    "embedding cliente"
   ]
  },
  {
   "cell_type": "code",
   "execution_count": 67,
   "metadata": {},
   "outputs": [],
   "source": [
    "historico=df[df.RUT_CLIENTE==cliente].CODIGO_PRODUCTO.tolist()\n",
    "total=historico+productos"
   ]
  },
  {
   "cell_type": "code",
   "execution_count": 68,
   "metadata": {},
   "outputs": [],
   "source": [
    "embeddings = []\n",
    "for product in total:\n",
    "    embeddings.append(model.wv[product])\n",
    "        \n",
    "if embeddings:\n",
    "    client_embedding = np.mean(embeddings, axis=0)"
   ]
  },
  {
   "cell_type": "markdown",
   "metadata": {},
   "source": [
    "para cada producto se concatena embedding cliente y producto"
   ]
  },
  {
   "cell_type": "code",
   "execution_count": 80,
   "metadata": {},
   "outputs": [],
   "source": [
    "productos = list(model.wv.index_to_key)  # Obtener todos los productos para los cuales el modelo tiene un embedding\n",
    "embeddings = [model.wv[producto] for producto in productos]  # Lista de embeddings\n",
    "\n",
    "# Crear el DataFrame de embeddings\n",
    "# Primero, convertir la lista de embeddings en un DataFrame\n",
    "embeddings_df = pd.DataFrame(embeddings)\n",
    "\n",
    "# Agregar la columna de productos al DataFrame\n",
    "embeddings_df.insert(0, 'CODIGO_PRODUCTO', productos)"
   ]
  },
  {
   "cell_type": "code",
   "execution_count": 83,
   "metadata": {},
   "outputs": [],
   "source": [
    "df_client_embedding = pd.DataFrame([client_embedding], columns=[f'EMBEDDING_{i}' for i in range(len(client_embedding))])\n",
    "df_client_embedding = pd.concat([df_client_embedding]*len(embeddings_df), ignore_index=True)\n",
    "df_client_embedding_final = pd.concat([df_client_embedding, embeddings_df], axis=1)\n",
    "df_x = df_client_embedding_final.drop(columns=['CODIGO_PRODUCTO'])\n",
    "df_productos=pd.DataFrame(df_client_embedding_final.CODIGO_PRODUCTO)"
   ]
  },
  {
   "cell_type": "markdown",
   "metadata": {},
   "source": [
    "predicciones y rankeo"
   ]
  },
  {
   "cell_type": "code",
   "execution_count": 85,
   "metadata": {},
   "outputs": [],
   "source": [
    "preds=pd.DataFrame(pipeline_bm.model.predict_proba(df_x)[:,1],columns=['PROBABILIDAD'])"
   ]
  },
  {
   "cell_type": "code",
   "execution_count": 88,
   "metadata": {},
   "outputs": [],
   "source": [
    "prod_pred=pd.concat([df_productos,preds],axis=1)\n",
    "prod_pred_final=prod_pred.sort_values(by='PROBABILIDAD',ascending=False).head(5).CODIGO_PRODUCTO.values.tolist()  "
   ]
  },
  {
   "cell_type": "code",
   "execution_count": 89,
   "metadata": {},
   "outputs": [
    {
     "data": {
      "text/plain": [
       "[272991, 287516, 260479, 140064, 384015]"
      ]
     },
     "execution_count": 89,
     "metadata": {},
     "output_type": "execute_result"
    }
   ],
   "source": [
    "prod_pred_final"
   ]
  },
  {
   "cell_type": "code",
   "execution_count": null,
   "metadata": {},
   "outputs": [],
   "source": []
  },
  {
   "cell_type": "code",
   "execution_count": null,
   "metadata": {},
   "outputs": [],
   "source": []
  }
 ],
 "metadata": {
  "kernelspec": {
   "display_name": "base",
   "language": "python",
   "name": "python3"
  },
  "language_info": {
   "codemirror_mode": {
    "name": "ipython",
    "version": 3
   },
   "file_extension": ".py",
   "mimetype": "text/x-python",
   "name": "python",
   "nbconvert_exporter": "python",
   "pygments_lexer": "ipython3",
   "version": "3.9.13"
  }
 },
 "nbformat": 4,
 "nbformat_minor": 2
}
