{
 "cells": [
  {
   "cell_type": "code",
   "execution_count": 1,
   "metadata": {},
   "outputs": [
    {
     "name": "stderr",
     "output_type": "stream",
     "text": [
      "c:\\ProgramData\\Anaconda3\\lib\\site-packages\\scipy\\__init__.py:155: UserWarning: A NumPy version >=1.18.5 and <1.25.0 is required for this version of SciPy (detected version 1.26.4\n",
      "  warnings.warn(f\"A NumPy version >={np_minversion} and <{np_maxversion}\"\n"
     ]
    }
   ],
   "source": [
    "import pandas as pd\n",
    "import numpy as np\n",
    "from gensim.models import Word2Vec\n",
    "\n",
    "import os\n",
    "import pandas as pd\n",
    "import numpy as np\n",
    "from sklearn.model_selection import train_test_split\n",
    "import matplotlib.pyplot as plt\n",
    "\n",
    "os.chdir('G:/Mi unidad/SOCOFAR/0.-Recomendadores-Oficial/POS-Cross-Selling/Modelo_Supervisado')\n",
    "import pipeline_bm as pipeline\n",
    "#pd.set_option('display.max_row', 1000000)\n",
    "\n",
    "pipeline_bm = pipeline.clase_pipeline()"
   ]
  },
  {
   "cell_type": "markdown",
   "metadata": {},
   "source": [
    "**Carga Data**"
   ]
  },
  {
   "cell_type": "code",
   "execution_count": 73,
   "metadata": {},
   "outputs": [],
   "source": [
    "# Open the file in binary mode, remove null bytes, and then decode\n",
    "with open('G:\\\\Mi unidad\\\\SOCOFAR\\\\0.-Recomendadores-Oficial\\\\Archivos\\\\SR_BASE_FINAL_PROD_FEB24.csv', 'rb') as file:\n",
    "    content = file.read().replace(b'\\x00', b'')  # Replace null bytes with nothing\n",
    "\n",
    "# Convert the binary content to a string and use StringIO to mimic a file object for pandas\n",
    "from io import StringIO\n",
    "content_str = StringIO(content.decode('latin'))\n",
    "\n",
    "# Now use pd.read_csv on the cleaned string data\n",
    "df = pd.read_csv(content_str, sep=';', encoding='latin',nrows=1000000)\n",
    "df['RUT_CLIENTE']=((df['SK']+1599)/2).astype(int)"
   ]
  },
  {
   "cell_type": "code",
   "execution_count": 74,
   "metadata": {},
   "outputs": [],
   "source": [
    "diccionario=pd.read_csv('../diccionario_productos.csv',sep=';',usecols=['CODIGO','UNIDAD_COMERCIAL','MACROCATEGORIA','CATEGORIA_NIVEL_1','CATEGORIA_NIVEL_2_FCV','DESCRIPTOR_LARGO','MARCA'])"
   ]
  },
  {
   "cell_type": "code",
   "execution_count": 75,
   "metadata": {},
   "outputs": [],
   "source": [
    "excl_otros = [str(elemento) for elemento in list(diccionario[diccionario.DESCRIPTOR_LARGO.isin(['DESPACHO','DESP.A','RETIRO DE RECETA','PROMOCION DTE','HORA VACUNACION','INSUMOS BOLSAS','SIN DESCRIPTOR','AJUSTE POR REDONDEO'])]['CODIGO'])] +\\\n",
    "                          [str(elemento) for elemento in list(diccionario[diccionario.DESCRIPTOR_LARGO.str.contains('BOLSA PAPEL|BOLS|DESPACHO|PROMOCION|CUPON|INYECCION|MEDICION|MEMBRESIA|REGALO|2020|2021|2022|MUNDIAL')]['CODIGO'])] +\\\n",
    "                          [str(elemento) for elemento in list(diccionario[diccionario.MACROCATEGORIA.isin(['ENFERMERIA ACCESORIOS Y PROCEDIMIENTOS','HOGAR','RECARGAS VARIAS','BEBIDAS Y AGUAS','ACCESORIOS MODA','TECNOLOGIA','AUTOLIQUIDABLES REGALO ARTICULOS VARIOS','INSUMOS MACRO','EQUIPOS QUIRURGICOS','POR CLASIFICAR'])]['CODIGO'])] +\\\n",
    "                          [str(elemento) for elemento in list(diccionario[diccionario.CATEGORIA_NIVEL_1.isin(['MASCARILLAS PRIMEROS AUXILIOS'])]['CODIGO'])] +\\\n",
    "                          [str(elemento) for elemento in list(diccionario[diccionario.UNIDAD_COMERCIAL.isin(['INSTITUCIONAL'])]['CODIGO'])]\n",
    "#por código\n",
    "cods_excluir = pd.read_csv('G:/Mi unidad/SOCOFAR/0.-Recomendadores-Oficial/Archivos/codigos_exclusion.csv',sep=';').excluir.values.tolist() + excl_otros\n",
    "cods_excluir = [int(cod) for cod in cods_excluir]\n",
    "\n",
    "diccionario=diccionario[~diccionario.CODIGO.isin(cods_excluir)]\n",
    "\n",
    "dicc_uam=df['CODIGO_PRODUCTO'].unique()\n",
    "dicc_productos=diccionario[diccionario.CODIGO.isin(dicc_uam)].CODIGO"
   ]
  },
  {
   "cell_type": "code",
   "execution_count": 76,
   "metadata": {},
   "outputs": [],
   "source": [
    "df=df[df.CODIGO_PRODUCTO.isin(dicc_productos)]"
   ]
  },
  {
   "cell_type": "code",
   "execution_count": 78,
   "metadata": {},
   "outputs": [
    {
     "data": {
      "text/plain": [
       "491278"
      ]
     },
     "execution_count": 78,
     "metadata": {},
     "output_type": "execute_result"
    }
   ],
   "source": [
    "len(df)"
   ]
  },
  {
   "cell_type": "markdown",
   "metadata": {},
   "source": [
    "**Muestreo Estratificado**"
   ]
  },
  {
   "cell_type": "code",
   "execution_count": 35,
   "metadata": {},
   "outputs": [],
   "source": [
    "caracteristicas=pd.read_csv('../SR_CARACTERISTICAS.CSV',sep=';')\n",
    "df=df.merge(caracteristicas, how='left', on='RUT_CLIENTE')"
   ]
  },
  {
   "cell_type": "code",
   "execution_count": 36,
   "metadata": {},
   "outputs": [],
   "source": [
    "min = df['EDAD'].min()\n",
    "max = df['EDAD'].max()\n",
    "tramos_edad = np.linspace(min, max, num=11)\n",
    "\n",
    "df['EDAD_TRAMOS'] = pd.cut(df['EDAD'], bins=tramos_edad, include_lowest=True).astype(str)"
   ]
  },
  {
   "cell_type": "code",
   "execution_count": 37,
   "metadata": {},
   "outputs": [
    {
     "name": "stdout",
     "output_type": "stream",
     "text": [
      "Porcentaje que representa la muestra sobre el dataset completo: 50.0%\n",
      "Aparición minima de veces de una combinatoria para ser representada en la muestra: 2\n"
     ]
    }
   ],
   "source": [
    "n_muestra=500000\n",
    "proporcion=(n_muestra/len(df))*100\n",
    "print( 'Porcentaje que representa la muestra sobre el dataset completo: '+ str(round(proporcion,2)) + '%')\n",
    "freq_min=100/proporcion\n",
    "print('Aparición minima de veces de una combinatoria para ser representada en la muestra: ' +str(int(freq_min)))"
   ]
  },
  {
   "cell_type": "code",
   "execution_count": 40,
   "metadata": {},
   "outputs": [],
   "source": [
    "#Identificar indices de casos con muy baja ocurrencia\n",
    "conteos = df.groupby(['GENERO', 'GSE', 'EDAD_TRAMOS','CODIGO_PRODUCTO']).size()\n",
    "# Filtrar las combinaciones con menos de \"freq_min\" apariciones\n",
    "conteos_filtrados = conteos[conteos >= freq_min]\n",
    "# Filtrar el DataFrame original para mantener solo las filas con combinaciones frecuentes\n",
    "df_filtered = df[df.set_index(['GENERO', 'GSE', 'EDAD_TRAMOS','CODIGO_PRODUCTO']).index.isin(conteos_filtrados.index)].reset_index(drop=True)"
   ]
  },
  {
   "cell_type": "code",
   "execution_count": 41,
   "metadata": {},
   "outputs": [
    {
     "data": {
      "text/html": [
       "<div>\n",
       "<style scoped>\n",
       "    .dataframe tbody tr th:only-of-type {\n",
       "        vertical-align: middle;\n",
       "    }\n",
       "\n",
       "    .dataframe tbody tr th {\n",
       "        vertical-align: top;\n",
       "    }\n",
       "\n",
       "    .dataframe thead th {\n",
       "        text-align: right;\n",
       "    }\n",
       "</style>\n",
       "<table border=\"1\" class=\"dataframe\">\n",
       "  <thead>\n",
       "    <tr style=\"text-align: right;\">\n",
       "      <th></th>\n",
       "      <th>SK</th>\n",
       "      <th>CODIGO_PRODUCTO</th>\n",
       "      <th>SUM_NRO_PROD</th>\n",
       "      <th>RUT_CLIENTE</th>\n",
       "      <th>GENERO</th>\n",
       "      <th>GSE</th>\n",
       "      <th>COMUNA</th>\n",
       "      <th>EDAD</th>\n",
       "      <th>EDAD_TRAMOS</th>\n",
       "    </tr>\n",
       "  </thead>\n",
       "  <tbody>\n",
       "    <tr>\n",
       "      <th>0</th>\n",
       "      <td>46219693</td>\n",
       "      <td>193020</td>\n",
       "      <td>1</td>\n",
       "      <td>23110646</td>\n",
       "      <td>FEM</td>\n",
       "      <td>E</td>\n",
       "      <td>ANTOFAGASTA</td>\n",
       "      <td>41.0</td>\n",
       "      <td>(39.4, 49.5]</td>\n",
       "    </tr>\n",
       "    <tr>\n",
       "      <th>1</th>\n",
       "      <td>34302517</td>\n",
       "      <td>100665</td>\n",
       "      <td>1</td>\n",
       "      <td>17152058</td>\n",
       "      <td>FEM</td>\n",
       "      <td>D</td>\n",
       "      <td>QUINTERO</td>\n",
       "      <td>34.0</td>\n",
       "      <td>(29.3, 39.4]</td>\n",
       "    </tr>\n",
       "    <tr>\n",
       "      <th>2</th>\n",
       "      <td>24732303</td>\n",
       "      <td>259839</td>\n",
       "      <td>1</td>\n",
       "      <td>12366951</td>\n",
       "      <td>FEM</td>\n",
       "      <td>C1b</td>\n",
       "      <td>PARRAL</td>\n",
       "      <td>49.0</td>\n",
       "      <td>(39.4, 49.5]</td>\n",
       "    </tr>\n",
       "    <tr>\n",
       "      <th>3</th>\n",
       "      <td>27613205</td>\n",
       "      <td>256642</td>\n",
       "      <td>1</td>\n",
       "      <td>13807402</td>\n",
       "      <td>FEM</td>\n",
       "      <td>C3</td>\n",
       "      <td>LAS CONDES</td>\n",
       "      <td>43.0</td>\n",
       "      <td>(39.4, 49.5]</td>\n",
       "    </tr>\n",
       "    <tr>\n",
       "      <th>4</th>\n",
       "      <td>32647193</td>\n",
       "      <td>6363</td>\n",
       "      <td>1</td>\n",
       "      <td>16324396</td>\n",
       "      <td>MAS</td>\n",
       "      <td>D</td>\n",
       "      <td>CALAMA</td>\n",
       "      <td>37.0</td>\n",
       "      <td>(29.3, 39.4]</td>\n",
       "    </tr>\n",
       "    <tr>\n",
       "      <th>...</th>\n",
       "      <td>...</td>\n",
       "      <td>...</td>\n",
       "      <td>...</td>\n",
       "      <td>...</td>\n",
       "      <td>...</td>\n",
       "      <td>...</td>\n",
       "      <td>...</td>\n",
       "      <td>...</td>\n",
       "      <td>...</td>\n",
       "    </tr>\n",
       "    <tr>\n",
       "      <th>818817</th>\n",
       "      <td>18589911</td>\n",
       "      <td>277430</td>\n",
       "      <td>1</td>\n",
       "      <td>9295755</td>\n",
       "      <td>FEM</td>\n",
       "      <td>D</td>\n",
       "      <td>LA LIGUA</td>\n",
       "      <td>58.0</td>\n",
       "      <td>(49.5, 59.6]</td>\n",
       "    </tr>\n",
       "    <tr>\n",
       "      <th>818818</th>\n",
       "      <td>45361445</td>\n",
       "      <td>199400</td>\n",
       "      <td>1</td>\n",
       "      <td>22681522</td>\n",
       "      <td>FEM</td>\n",
       "      <td>D</td>\n",
       "      <td>LA CISTERNA</td>\n",
       "      <td>71.0</td>\n",
       "      <td>(69.7, 79.8]</td>\n",
       "    </tr>\n",
       "    <tr>\n",
       "      <th>818819</th>\n",
       "      <td>32850397</td>\n",
       "      <td>199400</td>\n",
       "      <td>1</td>\n",
       "      <td>16425998</td>\n",
       "      <td>MAS</td>\n",
       "      <td>D</td>\n",
       "      <td>TEMUCO</td>\n",
       "      <td>37.0</td>\n",
       "      <td>(29.3, 39.4]</td>\n",
       "    </tr>\n",
       "    <tr>\n",
       "      <th>818820</th>\n",
       "      <td>16511527</td>\n",
       "      <td>253352</td>\n",
       "      <td>1</td>\n",
       "      <td>8256563</td>\n",
       "      <td>FEM</td>\n",
       "      <td>C1b</td>\n",
       "      <td>PROVIDENCIA</td>\n",
       "      <td>61.0</td>\n",
       "      <td>(59.6, 69.7]</td>\n",
       "    </tr>\n",
       "    <tr>\n",
       "      <th>818821</th>\n",
       "      <td>27596733</td>\n",
       "      <td>263329</td>\n",
       "      <td>2</td>\n",
       "      <td>13799166</td>\n",
       "      <td>FEM</td>\n",
       "      <td>C2</td>\n",
       "      <td>CONCEPCION</td>\n",
       "      <td>43.0</td>\n",
       "      <td>(39.4, 49.5]</td>\n",
       "    </tr>\n",
       "  </tbody>\n",
       "</table>\n",
       "<p>818822 rows × 9 columns</p>\n",
       "</div>"
      ],
      "text/plain": [
       "              SK  CODIGO_PRODUCTO  SUM_NRO_PROD  RUT_CLIENTE GENERO  GSE  \\\n",
       "0       46219693           193020             1     23110646    FEM    E   \n",
       "1       34302517           100665             1     17152058    FEM    D   \n",
       "2       24732303           259839             1     12366951    FEM  C1b   \n",
       "3       27613205           256642             1     13807402    FEM   C3   \n",
       "4       32647193             6363             1     16324396    MAS    D   \n",
       "...          ...              ...           ...          ...    ...  ...   \n",
       "818817  18589911           277430             1      9295755    FEM    D   \n",
       "818818  45361445           199400             1     22681522    FEM    D   \n",
       "818819  32850397           199400             1     16425998    MAS    D   \n",
       "818820  16511527           253352             1      8256563    FEM  C1b   \n",
       "818821  27596733           263329             2     13799166    FEM   C2   \n",
       "\n",
       "             COMUNA  EDAD   EDAD_TRAMOS  \n",
       "0       ANTOFAGASTA  41.0  (39.4, 49.5]  \n",
       "1          QUINTERO  34.0  (29.3, 39.4]  \n",
       "2            PARRAL  49.0  (39.4, 49.5]  \n",
       "3        LAS CONDES  43.0  (39.4, 49.5]  \n",
       "4            CALAMA  37.0  (29.3, 39.4]  \n",
       "...             ...   ...           ...  \n",
       "818817     LA LIGUA  58.0  (49.5, 59.6]  \n",
       "818818  LA CISTERNA  71.0  (69.7, 79.8]  \n",
       "818819       TEMUCO  37.0  (29.3, 39.4]  \n",
       "818820  PROVIDENCIA  61.0  (59.6, 69.7]  \n",
       "818821   CONCEPCION  43.0  (39.4, 49.5]  \n",
       "\n",
       "[818822 rows x 9 columns]"
      ]
     },
     "execution_count": 41,
     "metadata": {},
     "output_type": "execute_result"
    }
   ],
   "source": [
    "df_filtered"
   ]
  },
  {
   "cell_type": "code",
   "execution_count": 42,
   "metadata": {},
   "outputs": [],
   "source": [
    "n_muestra=500000\n",
    "porc_muestra=n_muestra/len(df_filtered) #porcentual\n",
    "tamaño_muestra = porc_muestra #porcentual\n",
    "test_size=1-tamaño_muestra ##porcentual\n",
    "df_estratificado, _ = train_test_split(df_filtered, test_size=test_size, stratify=df_filtered[['GENERO', 'GSE', 'EDAD_TRAMOS','CODIGO_PRODUCTO']])"
   ]
  },
  {
   "cell_type": "code",
   "execution_count": 49,
   "metadata": {},
   "outputs": [],
   "source": [
    "df=df_estratificado"
   ]
  },
  {
   "cell_type": "code",
   "execution_count": 50,
   "metadata": {},
   "outputs": [],
   "source": [
    "# Agrupar los productos comprados por cada 'rut' en una lista\n",
    "sentences = df.groupby('RUT_CLIENTE')['CODIGO_PRODUCTO'].apply(list).tolist()\n",
    "# Entrenar el modelo Word2Vec con las 'oraciones' de productos\n",
    "model = Word2Vec(sentences, vector_size=10, window=5, min_count=1, workers=4)"
   ]
  },
  {
   "cell_type": "code",
   "execution_count": 5,
   "metadata": {},
   "outputs": [],
   "source": [
    "#EN EL SIGUIENTE PASO SE DEBERIA PONDERAR EL PESO (CANTIDAD DE VECES DEL PRODUCTO)"
   ]
  },
  {
   "cell_type": "code",
   "execution_count": null,
   "metadata": {},
   "outputs": [],
   "source": [
    "#CALCULA EL EMBBEDING DEL CLIENTE SEGUN LOS PRODUCTOS QUE HA COMPRADO\n",
    "client_embeddings = {}\n",
    "for rut, group in df.groupby('RUT_CLIENTE'):\n",
    "    products = group['CODIGO_PRODUCTO'].tolist()\n",
    "    embeddings = []\n",
    "    for product in products:\n",
    "        embeddings.append(model.wv[product])\n",
    "        \n",
    "    if embeddings:\n",
    "        client_embeddings[rut] = np.mean(embeddings, axis=0)"
   ]
  },
  {
   "cell_type": "code",
   "execution_count": 52,
   "metadata": {},
   "outputs": [],
   "source": [
    "client_embeddings_df = pd.DataFrame.from_dict(client_embeddings, orient='index')\n",
    "client_embeddings_df.reset_index(inplace=True)\n",
    "client_embeddings_df.columns = ['RUT_CLIENTE'] + [f'embedding_{i}' for i in range(model.vector_size)]        "
   ]
  },
  {
   "cell_type": "code",
   "execution_count": 71,
   "metadata": {},
   "outputs": [],
   "source": []
  },
  {
   "cell_type": "code",
   "execution_count": 54,
   "metadata": {},
   "outputs": [
    {
     "data": {
      "text/plain": [
       "293450    10041\n",
       "72203      4774\n",
       "260536     4549\n",
       "72202      4501\n",
       "273362     3814\n",
       "          ...  \n",
       "266541        1\n",
       "290158        1\n",
       "6060          1\n",
       "257630        1\n",
       "288244        1\n",
       "Name: CODIGO_PRODUCTO, Length: 7862, dtype: int64"
      ]
     },
     "execution_count": 54,
     "metadata": {},
     "output_type": "execute_result"
    }
   ],
   "source": [
    "#min=dicc_productos.quantile(0.2)\n",
    "#dicc_productos = dicc_productos[dicc_productos > min]\n",
    "#len(dicc_productos)\n",
    "df['CODIGO_PRODUCTO'].value_counts()"
   ]
  },
  {
   "cell_type": "code",
   "execution_count": 55,
   "metadata": {},
   "outputs": [
    {
     "data": {
      "text/plain": [
       "7862"
      ]
     },
     "execution_count": 55,
     "metadata": {},
     "output_type": "execute_result"
    }
   ],
   "source": [
    "len(dicc_productos)"
   ]
  },
  {
   "cell_type": "code",
   "execution_count": 56,
   "metadata": {},
   "outputs": [
    {
     "data": {
      "text/plain": [
       "3592934000"
      ]
     },
     "execution_count": 56,
     "metadata": {},
     "output_type": "execute_result"
    }
   ],
   "source": [
    "7862*457000"
   ]
  },
  {
   "cell_type": "code",
   "execution_count": 10,
   "metadata": {},
   "outputs": [],
   "source": [
    "dataframe_full = pd.DataFrame()\n",
    "# Iterar sobre cada producto para construir el dataframe completo\n",
    "for producto in dicc_productos:\n",
    "    \n",
    "    product_embedding = model.wv[producto]\n",
    "        \n",
    "    # Crear un DataFrame temporal que repite el embedding del producto para cada cliente\n",
    "    temp_df = pd.DataFrame([product_embedding], columns=[f'product_embedding_{i}' for i in range(len(product_embedding))])\n",
    "    temp_df = pd.concat([client_embeddings_df, temp_df.loc[temp_df.index.repeat(client_embeddings_df.shape[0])].reset_index(drop=True)], axis=1)\n",
    "        \n",
    "    # Agregar una columna para el producto actual\n",
    "    temp_df['producto'] = producto\n",
    "        \n",
    "    # Concatenar al dataframe completo\n",
    "    dataframe_full = pd.concat([dataframe_full, temp_df], ignore_index=True)"
   ]
  },
  {
   "cell_type": "code",
   "execution_count": null,
   "metadata": {},
   "outputs": [],
   "source": [
    "# Crear la columna target con \"0\" en dataframe_full\n",
    "dataframe_full['target'] = 0\n",
    "\n",
    "# Realizar un merge entre dataframe_full y df para encontrar los matches\n",
    "dataframe_full = dataframe_full.merge(df, how='left', left_on=['RUT_CLIENTE', 'producto'], right_on=['RUT_CLIENTE', 'CODIGO_PRODUCTO'])\n",
    "\n",
    "# Donde haya un match, actualizamos la columna target a \"1\"\n",
    "dataframe_full['target'] = dataframe_full['CODIGO_PRODUCTO'].notna().astype(int)\n",
    "\n",
    "# Ahora matched_df tiene la columna target actualizada correctamente\n",
    "# Podemos eliminar la columna 'CODIGO_PRODUCTO' ya que solo la necesitábamos para el match\n",
    "dataframe_full.drop(columns=['CODIGO_PRODUCTO','SK','SUM_NRO_PROD'], inplace=True)"
   ]
  },
  {
   "cell_type": "code",
   "execution_count": null,
   "metadata": {},
   "outputs": [
    {
     "data": {
      "text/html": [
       "<div>\n",
       "<style scoped>\n",
       "    .dataframe tbody tr th:only-of-type {\n",
       "        vertical-align: middle;\n",
       "    }\n",
       "\n",
       "    .dataframe tbody tr th {\n",
       "        vertical-align: top;\n",
       "    }\n",
       "\n",
       "    .dataframe thead th {\n",
       "        text-align: right;\n",
       "    }\n",
       "</style>\n",
       "<table border=\"1\" class=\"dataframe\">\n",
       "  <thead>\n",
       "    <tr style=\"text-align: right;\">\n",
       "      <th></th>\n",
       "      <th>RUT_CLIENTE</th>\n",
       "      <th>embedding_0</th>\n",
       "      <th>embedding_1</th>\n",
       "      <th>embedding_2</th>\n",
       "      <th>embedding_3</th>\n",
       "      <th>embedding_4</th>\n",
       "      <th>embedding_5</th>\n",
       "      <th>embedding_6</th>\n",
       "      <th>embedding_7</th>\n",
       "      <th>embedding_8</th>\n",
       "      <th>...</th>\n",
       "      <th>product_embedding_2</th>\n",
       "      <th>product_embedding_3</th>\n",
       "      <th>product_embedding_4</th>\n",
       "      <th>product_embedding_5</th>\n",
       "      <th>product_embedding_6</th>\n",
       "      <th>product_embedding_7</th>\n",
       "      <th>product_embedding_8</th>\n",
       "      <th>product_embedding_9</th>\n",
       "      <th>producto</th>\n",
       "      <th>target</th>\n",
       "    </tr>\n",
       "  </thead>\n",
       "  <tbody>\n",
       "    <tr>\n",
       "      <th>0</th>\n",
       "      <td>1768451</td>\n",
       "      <td>-0.001908</td>\n",
       "      <td>0.077638</td>\n",
       "      <td>-0.066097</td>\n",
       "      <td>-0.070124</td>\n",
       "      <td>-0.081025</td>\n",
       "      <td>0.043250</td>\n",
       "      <td>-0.093846</td>\n",
       "      <td>0.017103</td>\n",
       "      <td>0.080500</td>\n",
       "      <td>...</td>\n",
       "      <td>0.079346</td>\n",
       "      <td>-0.050246</td>\n",
       "      <td>0.051005</td>\n",
       "      <td>0.043513</td>\n",
       "      <td>-0.00699</td>\n",
       "      <td>0.010751</td>\n",
       "      <td>0.057248</td>\n",
       "      <td>-0.066415</td>\n",
       "      <td>287391</td>\n",
       "      <td>0</td>\n",
       "    </tr>\n",
       "    <tr>\n",
       "      <th>1</th>\n",
       "      <td>3052068</td>\n",
       "      <td>-0.055800</td>\n",
       "      <td>-0.085536</td>\n",
       "      <td>0.015003</td>\n",
       "      <td>0.031800</td>\n",
       "      <td>-0.080966</td>\n",
       "      <td>-0.089343</td>\n",
       "      <td>0.091713</td>\n",
       "      <td>0.016438</td>\n",
       "      <td>0.008743</td>\n",
       "      <td>...</td>\n",
       "      <td>0.079346</td>\n",
       "      <td>-0.050246</td>\n",
       "      <td>0.051005</td>\n",
       "      <td>0.043513</td>\n",
       "      <td>-0.00699</td>\n",
       "      <td>0.010751</td>\n",
       "      <td>0.057248</td>\n",
       "      <td>-0.066415</td>\n",
       "      <td>287391</td>\n",
       "      <td>0</td>\n",
       "    </tr>\n",
       "    <tr>\n",
       "      <th>2</th>\n",
       "      <td>3141011</td>\n",
       "      <td>0.063392</td>\n",
       "      <td>0.003837</td>\n",
       "      <td>0.065095</td>\n",
       "      <td>-0.074726</td>\n",
       "      <td>0.036636</td>\n",
       "      <td>-0.098979</td>\n",
       "      <td>0.076107</td>\n",
       "      <td>0.059245</td>\n",
       "      <td>-0.061175</td>\n",
       "      <td>...</td>\n",
       "      <td>0.079346</td>\n",
       "      <td>-0.050246</td>\n",
       "      <td>0.051005</td>\n",
       "      <td>0.043513</td>\n",
       "      <td>-0.00699</td>\n",
       "      <td>0.010751</td>\n",
       "      <td>0.057248</td>\n",
       "      <td>-0.066415</td>\n",
       "      <td>287391</td>\n",
       "      <td>0</td>\n",
       "    </tr>\n",
       "    <tr>\n",
       "      <th>3</th>\n",
       "      <td>3264162</td>\n",
       "      <td>0.099183</td>\n",
       "      <td>-0.090323</td>\n",
       "      <td>-0.043122</td>\n",
       "      <td>0.019289</td>\n",
       "      <td>-0.029974</td>\n",
       "      <td>0.014458</td>\n",
       "      <td>-0.036808</td>\n",
       "      <td>-0.008942</td>\n",
       "      <td>-0.057274</td>\n",
       "      <td>...</td>\n",
       "      <td>0.079346</td>\n",
       "      <td>-0.050246</td>\n",
       "      <td>0.051005</td>\n",
       "      <td>0.043513</td>\n",
       "      <td>-0.00699</td>\n",
       "      <td>0.010751</td>\n",
       "      <td>0.057248</td>\n",
       "      <td>-0.066415</td>\n",
       "      <td>287391</td>\n",
       "      <td>0</td>\n",
       "    </tr>\n",
       "    <tr>\n",
       "      <th>4</th>\n",
       "      <td>3347436</td>\n",
       "      <td>-0.012656</td>\n",
       "      <td>-0.083226</td>\n",
       "      <td>0.030443</td>\n",
       "      <td>-0.088731</td>\n",
       "      <td>-0.026609</td>\n",
       "      <td>-0.093920</td>\n",
       "      <td>-0.004620</td>\n",
       "      <td>-0.078633</td>\n",
       "      <td>0.074140</td>\n",
       "      <td>...</td>\n",
       "      <td>0.079346</td>\n",
       "      <td>-0.050246</td>\n",
       "      <td>0.051005</td>\n",
       "      <td>0.043513</td>\n",
       "      <td>-0.00699</td>\n",
       "      <td>0.010751</td>\n",
       "      <td>0.057248</td>\n",
       "      <td>-0.066415</td>\n",
       "      <td>287391</td>\n",
       "      <td>0</td>\n",
       "    </tr>\n",
       "  </tbody>\n",
       "</table>\n",
       "<p>5 rows × 23 columns</p>\n",
       "</div>"
      ],
      "text/plain": [
       "   RUT_CLIENTE  embedding_0  embedding_1  embedding_2  embedding_3  \\\n",
       "0      1768451    -0.001908     0.077638    -0.066097    -0.070124   \n",
       "1      3052068    -0.055800    -0.085536     0.015003     0.031800   \n",
       "2      3141011     0.063392     0.003837     0.065095    -0.074726   \n",
       "3      3264162     0.099183    -0.090323    -0.043122     0.019289   \n",
       "4      3347436    -0.012656    -0.083226     0.030443    -0.088731   \n",
       "\n",
       "   embedding_4  embedding_5  embedding_6  embedding_7  embedding_8  ...  \\\n",
       "0    -0.081025     0.043250    -0.093846     0.017103     0.080500  ...   \n",
       "1    -0.080966    -0.089343     0.091713     0.016438     0.008743  ...   \n",
       "2     0.036636    -0.098979     0.076107     0.059245    -0.061175  ...   \n",
       "3    -0.029974     0.014458    -0.036808    -0.008942    -0.057274  ...   \n",
       "4    -0.026609    -0.093920    -0.004620    -0.078633     0.074140  ...   \n",
       "\n",
       "   product_embedding_2  product_embedding_3  product_embedding_4  \\\n",
       "0             0.079346            -0.050246             0.051005   \n",
       "1             0.079346            -0.050246             0.051005   \n",
       "2             0.079346            -0.050246             0.051005   \n",
       "3             0.079346            -0.050246             0.051005   \n",
       "4             0.079346            -0.050246             0.051005   \n",
       "\n",
       "   product_embedding_5  product_embedding_6  product_embedding_7  \\\n",
       "0             0.043513             -0.00699             0.010751   \n",
       "1             0.043513             -0.00699             0.010751   \n",
       "2             0.043513             -0.00699             0.010751   \n",
       "3             0.043513             -0.00699             0.010751   \n",
       "4             0.043513             -0.00699             0.010751   \n",
       "\n",
       "   product_embedding_8  product_embedding_9  producto  target  \n",
       "0             0.057248            -0.066415    287391       0  \n",
       "1             0.057248            -0.066415    287391       0  \n",
       "2             0.057248            -0.066415    287391       0  \n",
       "3             0.057248            -0.066415    287391       0  \n",
       "4             0.057248            -0.066415    287391       0  \n",
       "\n",
       "[5 rows x 23 columns]"
      ]
     },
     "execution_count": 73,
     "metadata": {},
     "output_type": "execute_result"
    }
   ],
   "source": [
    "excluir = ['RUT_CLIENTE', 'target','producto']\n",
    "columnas_para_redondear = [col for col in dataframe_full.columns if col not in excluir and (dataframe_full[col].dtype == 'float64' or dataframe_full[col].dtype == 'float32')]\n",
    "dataframe_full[columnas_para_redondear] = dataframe_full[columnas_para_redondear].round(8)\n",
    "dataframe_full.head()     "
   ]
  },
  {
   "cell_type": "markdown",
   "metadata": {},
   "source": [
    "#### **MODELADO**"
   ]
  },
  {
   "cell_type": "code",
   "execution_count": null,
   "metadata": {},
   "outputs": [],
   "source": [
    "#df_temporal.to_csv('G:/Mi unidad/SOCOFAR/0.-Recomendadores-Oficial/POS-Cross-Selling/Modelo_Supervisado/data1.csv',sep=';',index=False)\n",
    "#pipeline_bm.dataset = pd.read_csv('G:/Mi unidad/SOCOFAR/0.-Recomendadores-Oficial/POS-Cross-Selling/Modelo_Supervisado/data1.csv',delimiter=';')"
   ]
  },
  {
   "cell_type": "code",
   "execution_count": null,
   "metadata": {},
   "outputs": [],
   "source": [
    "pipeline_bm.dataset=dataframe_full"
   ]
  },
  {
   "cell_type": "code",
   "execution_count": null,
   "metadata": {},
   "outputs": [
    {
     "name": "stdout",
     "output_type": "stream",
     "text": [
      "Procesando...\n",
      "cargar previamente pipeline_bm.dataset = nombre_dataframe\n",
      "________________________________________________________________________________________________________________________\n",
      "Datos recibidos: OK.\n",
      "Número de filas y columnas del dataset: (765000, 23)\n",
      "________________________________________________________________________________________________________________________\n"
     ]
    }
   ],
   "source": [
    "pipeline_bm.recibe_data(\n",
    "    tipo = 'dataframe',\n",
    "    dataset_o_query = '',\n",
    "    target = 'TARGET',\n",
    "    delimiter=';' ,\n",
    "    #muestra = 'MUESTRA',\n",
    "    #ano_mes = 'FECHA_VENTA',\n",
    "    rut = 'RUT_CLIENTE', \n",
    "    excluir=['PRODUCTO'],\n",
    "    categoricas=[]\n",
    ")"
   ]
  },
  {
   "cell_type": "code",
   "execution_count": null,
   "metadata": {},
   "outputs": [
    {
     "data": {
      "text/html": [
       "<div>\n",
       "<style scoped>\n",
       "    .dataframe tbody tr th:only-of-type {\n",
       "        vertical-align: middle;\n",
       "    }\n",
       "\n",
       "    .dataframe tbody tr th {\n",
       "        vertical-align: top;\n",
       "    }\n",
       "\n",
       "    .dataframe thead th {\n",
       "        text-align: right;\n",
       "    }\n",
       "</style>\n",
       "<table border=\"1\" class=\"dataframe\">\n",
       "  <thead>\n",
       "    <tr style=\"text-align: right;\">\n",
       "      <th></th>\n",
       "      <th>RUT_CLIENTE</th>\n",
       "      <th>EMBEDDING_0</th>\n",
       "      <th>EMBEDDING_1</th>\n",
       "      <th>EMBEDDING_2</th>\n",
       "      <th>EMBEDDING_3</th>\n",
       "      <th>EMBEDDING_4</th>\n",
       "      <th>EMBEDDING_5</th>\n",
       "      <th>EMBEDDING_6</th>\n",
       "      <th>EMBEDDING_7</th>\n",
       "      <th>EMBEDDING_8</th>\n",
       "      <th>...</th>\n",
       "      <th>PRODUCT_EMBEDDING_2</th>\n",
       "      <th>PRODUCT_EMBEDDING_3</th>\n",
       "      <th>PRODUCT_EMBEDDING_4</th>\n",
       "      <th>PRODUCT_EMBEDDING_5</th>\n",
       "      <th>PRODUCT_EMBEDDING_6</th>\n",
       "      <th>PRODUCT_EMBEDDING_7</th>\n",
       "      <th>PRODUCT_EMBEDDING_8</th>\n",
       "      <th>PRODUCT_EMBEDDING_9</th>\n",
       "      <th>PRODUCTO</th>\n",
       "      <th>TARGET</th>\n",
       "    </tr>\n",
       "  </thead>\n",
       "  <tbody>\n",
       "    <tr>\n",
       "      <th>0</th>\n",
       "      <td>1768451</td>\n",
       "      <td>-0.001908</td>\n",
       "      <td>0.077638</td>\n",
       "      <td>-0.066097</td>\n",
       "      <td>-0.070124</td>\n",
       "      <td>-0.081025</td>\n",
       "      <td>0.043250</td>\n",
       "      <td>-0.093846</td>\n",
       "      <td>0.017103</td>\n",
       "      <td>0.080500</td>\n",
       "      <td>...</td>\n",
       "      <td>0.079346</td>\n",
       "      <td>-0.050246</td>\n",
       "      <td>0.051005</td>\n",
       "      <td>0.043513</td>\n",
       "      <td>-0.00699</td>\n",
       "      <td>0.010751</td>\n",
       "      <td>0.057248</td>\n",
       "      <td>-0.066415</td>\n",
       "      <td>287391</td>\n",
       "      <td>0</td>\n",
       "    </tr>\n",
       "    <tr>\n",
       "      <th>1</th>\n",
       "      <td>3052068</td>\n",
       "      <td>-0.055800</td>\n",
       "      <td>-0.085536</td>\n",
       "      <td>0.015003</td>\n",
       "      <td>0.031800</td>\n",
       "      <td>-0.080966</td>\n",
       "      <td>-0.089343</td>\n",
       "      <td>0.091713</td>\n",
       "      <td>0.016438</td>\n",
       "      <td>0.008743</td>\n",
       "      <td>...</td>\n",
       "      <td>0.079346</td>\n",
       "      <td>-0.050246</td>\n",
       "      <td>0.051005</td>\n",
       "      <td>0.043513</td>\n",
       "      <td>-0.00699</td>\n",
       "      <td>0.010751</td>\n",
       "      <td>0.057248</td>\n",
       "      <td>-0.066415</td>\n",
       "      <td>287391</td>\n",
       "      <td>0</td>\n",
       "    </tr>\n",
       "    <tr>\n",
       "      <th>2</th>\n",
       "      <td>3141011</td>\n",
       "      <td>0.063392</td>\n",
       "      <td>0.003837</td>\n",
       "      <td>0.065095</td>\n",
       "      <td>-0.074726</td>\n",
       "      <td>0.036636</td>\n",
       "      <td>-0.098979</td>\n",
       "      <td>0.076107</td>\n",
       "      <td>0.059245</td>\n",
       "      <td>-0.061175</td>\n",
       "      <td>...</td>\n",
       "      <td>0.079346</td>\n",
       "      <td>-0.050246</td>\n",
       "      <td>0.051005</td>\n",
       "      <td>0.043513</td>\n",
       "      <td>-0.00699</td>\n",
       "      <td>0.010751</td>\n",
       "      <td>0.057248</td>\n",
       "      <td>-0.066415</td>\n",
       "      <td>287391</td>\n",
       "      <td>0</td>\n",
       "    </tr>\n",
       "    <tr>\n",
       "      <th>3</th>\n",
       "      <td>3264162</td>\n",
       "      <td>0.099183</td>\n",
       "      <td>-0.090323</td>\n",
       "      <td>-0.043122</td>\n",
       "      <td>0.019289</td>\n",
       "      <td>-0.029974</td>\n",
       "      <td>0.014458</td>\n",
       "      <td>-0.036808</td>\n",
       "      <td>-0.008942</td>\n",
       "      <td>-0.057274</td>\n",
       "      <td>...</td>\n",
       "      <td>0.079346</td>\n",
       "      <td>-0.050246</td>\n",
       "      <td>0.051005</td>\n",
       "      <td>0.043513</td>\n",
       "      <td>-0.00699</td>\n",
       "      <td>0.010751</td>\n",
       "      <td>0.057248</td>\n",
       "      <td>-0.066415</td>\n",
       "      <td>287391</td>\n",
       "      <td>0</td>\n",
       "    </tr>\n",
       "    <tr>\n",
       "      <th>4</th>\n",
       "      <td>3347436</td>\n",
       "      <td>-0.012656</td>\n",
       "      <td>-0.083226</td>\n",
       "      <td>0.030443</td>\n",
       "      <td>-0.088731</td>\n",
       "      <td>-0.026609</td>\n",
       "      <td>-0.093920</td>\n",
       "      <td>-0.004620</td>\n",
       "      <td>-0.078633</td>\n",
       "      <td>0.074140</td>\n",
       "      <td>...</td>\n",
       "      <td>0.079346</td>\n",
       "      <td>-0.050246</td>\n",
       "      <td>0.051005</td>\n",
       "      <td>0.043513</td>\n",
       "      <td>-0.00699</td>\n",
       "      <td>0.010751</td>\n",
       "      <td>0.057248</td>\n",
       "      <td>-0.066415</td>\n",
       "      <td>287391</td>\n",
       "      <td>0</td>\n",
       "    </tr>\n",
       "  </tbody>\n",
       "</table>\n",
       "<p>5 rows × 23 columns</p>\n",
       "</div>"
      ],
      "text/plain": [
       "   RUT_CLIENTE  EMBEDDING_0  EMBEDDING_1  EMBEDDING_2  EMBEDDING_3  \\\n",
       "0      1768451    -0.001908     0.077638    -0.066097    -0.070124   \n",
       "1      3052068    -0.055800    -0.085536     0.015003     0.031800   \n",
       "2      3141011     0.063392     0.003837     0.065095    -0.074726   \n",
       "3      3264162     0.099183    -0.090323    -0.043122     0.019289   \n",
       "4      3347436    -0.012656    -0.083226     0.030443    -0.088731   \n",
       "\n",
       "   EMBEDDING_4  EMBEDDING_5  EMBEDDING_6  EMBEDDING_7  EMBEDDING_8  ...  \\\n",
       "0    -0.081025     0.043250    -0.093846     0.017103     0.080500  ...   \n",
       "1    -0.080966    -0.089343     0.091713     0.016438     0.008743  ...   \n",
       "2     0.036636    -0.098979     0.076107     0.059245    -0.061175  ...   \n",
       "3    -0.029974     0.014458    -0.036808    -0.008942    -0.057274  ...   \n",
       "4    -0.026609    -0.093920    -0.004620    -0.078633     0.074140  ...   \n",
       "\n",
       "   PRODUCT_EMBEDDING_2  PRODUCT_EMBEDDING_3  PRODUCT_EMBEDDING_4  \\\n",
       "0             0.079346            -0.050246             0.051005   \n",
       "1             0.079346            -0.050246             0.051005   \n",
       "2             0.079346            -0.050246             0.051005   \n",
       "3             0.079346            -0.050246             0.051005   \n",
       "4             0.079346            -0.050246             0.051005   \n",
       "\n",
       "   PRODUCT_EMBEDDING_5  PRODUCT_EMBEDDING_6  PRODUCT_EMBEDDING_7  \\\n",
       "0             0.043513             -0.00699             0.010751   \n",
       "1             0.043513             -0.00699             0.010751   \n",
       "2             0.043513             -0.00699             0.010751   \n",
       "3             0.043513             -0.00699             0.010751   \n",
       "4             0.043513             -0.00699             0.010751   \n",
       "\n",
       "   PRODUCT_EMBEDDING_8  PRODUCT_EMBEDDING_9  PRODUCTO  TARGET  \n",
       "0             0.057248            -0.066415    287391       0  \n",
       "1             0.057248            -0.066415    287391       0  \n",
       "2             0.057248            -0.066415    287391       0  \n",
       "3             0.057248            -0.066415    287391       0  \n",
       "4             0.057248            -0.066415    287391       0  \n",
       "\n",
       "[5 rows x 23 columns]"
      ]
     },
     "execution_count": 85,
     "metadata": {},
     "output_type": "execute_result"
    }
   ],
   "source": [
    "pipeline_bm.dataset.head()"
   ]
  },
  {
   "cell_type": "code",
   "execution_count": null,
   "metadata": {},
   "outputs": [
    {
     "data": {
      "text/plain": [
       "765000"
      ]
     },
     "execution_count": 86,
     "metadata": {},
     "output_type": "execute_result"
    }
   ],
   "source": [
    "len(pipeline_bm.dataset)"
   ]
  },
  {
   "cell_type": "code",
   "execution_count": null,
   "metadata": {},
   "outputs": [
    {
     "name": "stdout",
     "output_type": "stream",
     "text": [
      "Separacion de muestras: OK.\n",
      "________________________________________________________________________________________________________________________\n"
     ]
    }
   ],
   "source": [
    "pipeline_bm.separa_muestras(test=0.3)"
   ]
  },
  {
   "cell_type": "code",
   "execution_count": null,
   "metadata": {},
   "outputs": [
    {
     "name": "stdout",
     "output_type": "stream",
     "text": [
      "Fitting 3 folds for each of 1 candidates, totalling 3 fits\n",
      "[CV 1/3] END bootstrap=True, class_weight=balanced, criterion=gini, n_estimators=50, n_jobs=-1, oob_score=True, random_state=0;, score=0.358 total time=  18.1s\n",
      "[CV 2/3] END bootstrap=True, class_weight=balanced, criterion=gini, n_estimators=50, n_jobs=-1, oob_score=True, random_state=0;, score=0.364 total time=  24.0s\n",
      "[CV 3/3] END bootstrap=True, class_weight=balanced, criterion=gini, n_estimators=50, n_jobs=-1, oob_score=True, random_state=0;, score=0.408 total time=  21.4s\n",
      "best params: {'bootstrap': True, 'class_weight': 'balanced', 'criterion': 'gini', 'n_estimators': 50, 'n_jobs': -1, 'oob_score': True, 'random_state': 0}\n",
      "best estimator: RandomForestClassifier(class_weight='balanced', n_estimators=50, n_jobs=-1,\n",
      "                       oob_score=True, random_state=0)\n",
      "ROC: 0.6844430375269339\n",
      "Modelación: OK.\n",
      "________________________________________________________________________________________________________________________\n"
     ]
    }
   ],
   "source": [
    "pipeline_bm.modelacion('RandomForest', perf_eval='f1',ruta_exporta='G:/Mi unidad/SOCOFAR/0.-Recomendadores-Oficial/POS-Cross-Selling/Modelo_Supervisado/modelo_rf.joblib')"
   ]
  },
  {
   "cell_type": "code",
   "execution_count": null,
   "metadata": {},
   "outputs": [
    {
     "data": {
      "image/png": "[encoded data removed]",
      "text/plain": [
       "<Figure size 640x480 with 1 Axes>"
      ]
     },
     "metadata": {},
     "output_type": "display_data"
    }
   ],
   "source": [
    "%matplotlib inline\n",
    "plot_roc_curve(pipeline_bm.model, pipeline_bm.X_test, pipeline_bm.Y_test)\n",
    "plt.title(pipeline_bm.algoritmo + ' ROC')\n",
    "plt.show()"
   ]
  },
  {
   "cell_type": "code",
   "execution_count": null,
   "metadata": {},
   "outputs": [
    {
     "name": "stdout",
     "output_type": "stream",
     "text": [
      "\"ROC OPTIMO\"\n",
      "\n",
      "sens+espc:  1.3547911402438655\n",
      "KS:  0.3547911402438656\n",
      "threshold optimo:  0.019\n",
      "sensibility:  0.3959731543624161\n",
      "specificity:  0.9588179858814495\n",
      "precision:  0.012346970806738517\n",
      "negative predictive value:  0.9991816061434099\n",
      "Critical Success Index:  0.01211872239909623\n",
      "accuracy:  0.958087145969499\n",
      "f1score:  0.023947234906139016\n",
      "BalancedAccuracy:  0.6773955701219327\n"
     ]
    },
    {
     "data": {
      "text/html": [
       "<div>\n",
       "<style scoped>\n",
       "    .dataframe tbody tr th:only-of-type {\n",
       "        vertical-align: middle;\n",
       "    }\n",
       "\n",
       "    .dataframe tbody tr th {\n",
       "        vertical-align: top;\n",
       "    }\n",
       "\n",
       "    .dataframe thead th {\n",
       "        text-align: right;\n",
       "    }\n",
       "</style>\n",
       "<table border=\"1\" class=\"dataframe\">\n",
       "  <thead>\n",
       "    <tr style=\"text-align: right;\">\n",
       "      <th>TARGET</th>\n",
       "      <th>0</th>\n",
       "      <th>1</th>\n",
       "    </tr>\n",
       "    <tr>\n",
       "      <th>pred</th>\n",
       "      <th></th>\n",
       "      <th></th>\n",
       "    </tr>\n",
       "  </thead>\n",
       "  <tbody>\n",
       "    <tr>\n",
       "      <th>0</th>\n",
       "      <td>219763</td>\n",
       "      <td>180</td>\n",
       "    </tr>\n",
       "    <tr>\n",
       "      <th>1</th>\n",
       "      <td>9439</td>\n",
       "      <td>118</td>\n",
       "    </tr>\n",
       "  </tbody>\n",
       "</table>\n",
       "</div>"
      ],
      "text/plain": [
       "TARGET       0    1\n",
       "pred               \n",
       "0       219763  180\n",
       "1         9439  118"
      ]
     },
     "execution_count": 94,
     "metadata": {},
     "output_type": "execute_result"
    }
   ],
   "source": [
    "pipeline_bm.metricas_modelo_optimo()\n",
    "pipeline_bm.confusion_matrix"
   ]
  },
  {
   "cell_type": "markdown",
   "metadata": {},
   "source": [
    "Lo esperable es que el modelo ajuste extremadamente bien ya que se le proporcionan implicitamente lo productos que compró a través del embbeding del cliente. \n",
    "Lo importante acá es que, de cara al uso, la probabilidad hacia un producto no comprado por el cliente será más alta en la medida en que el embbeding del cliente contenga el resto de productos que normalmente los clientes compran junto con el.\n",
    "\n",
    "no se interprete el acierto de este modelo con la efectividad de las recomendaciones en terminos de \"acabar en compra\""
   ]
  },
  {
   "cell_type": "markdown",
   "metadata": {},
   "source": [
    "**USO DEL MODELO RECOMENDADOR**\n",
    "\n",
    "- se recibe el cliente y producto buscado\n",
    "- se calcula el embbeding del cliente como la ponderacion de items historicos + el nuevo\n",
    "- se calcula la probabilidad de compra para ese embbeding en combinatoria con todos los embbeding de productos existentes\n",
    "- se seleccionan aquellos \"n\" con probabilidad más alta (sin compra previa)"
   ]
  },
  {
   "cell_type": "code",
   "execution_count": null,
   "metadata": {},
   "outputs": [],
   "source": [
    "#[rut_cliente,producto-1,...,producto-n]\n",
    "vector=[1768451,287391,261034,193020]\n",
    "\n",
    "cliente=vector[0]\n",
    "productos=vector[1:]"
   ]
  },
  {
   "cell_type": "markdown",
   "metadata": {},
   "source": [
    "embbeding cliente"
   ]
  },
  {
   "cell_type": "code",
   "execution_count": null,
   "metadata": {},
   "outputs": [],
   "source": [
    "historico=df[df.RUT_CLIENTE==cliente].CODIGO_PRODUCTO.tolist()\n",
    "total=historico+productos"
   ]
  },
  {
   "cell_type": "code",
   "execution_count": null,
   "metadata": {},
   "outputs": [],
   "source": [
    "embeddings = []\n",
    "for product in total:\n",
    "    embeddings.append(model.wv[product])\n",
    "        \n",
    "if embeddings:\n",
    "    client_embedding = np.mean(embeddings, axis=0)"
   ]
  },
  {
   "cell_type": "markdown",
   "metadata": {},
   "source": [
    "para cada producto se concatena embbeding cliente y producto"
   ]
  },
  {
   "cell_type": "code",
   "execution_count": null,
   "metadata": {},
   "outputs": [],
   "source": [
    "embeddings_df = pd.DataFrame([model.wv[producto] for producto in dicc_productos])\n",
    "embeddings_df.insert(0, 'producto', dicc_productos)"
   ]
  },
  {
   "cell_type": "code",
   "execution_count": null,
   "metadata": {},
   "outputs": [],
   "source": [
    "df_client_embedding = pd.DataFrame([client_embedding], columns=[f'EMBEDDING_{i}' for i in range(len(client_embedding))])\n",
    "df_client_embedding = pd.concat([df_client_embedding]*len(embeddings_df), ignore_index=True)\n",
    "df_client_embedding_final = pd.concat([df_client_embedding, embeddings_df], axis=1)\n",
    "df_x = df_client_embedding_final.drop(columns=['producto'])\n",
    "df_productos=pd.DataFrame(df_client_embedding_final.producto)"
   ]
  },
  {
   "cell_type": "markdown",
   "metadata": {},
   "source": [
    "predicciones y rankeo"
   ]
  },
  {
   "cell_type": "code",
   "execution_count": null,
   "metadata": {},
   "outputs": [],
   "source": [
    "preds=pd.DataFrame(pipeline_bm.model.predict_proba(df_x)[:,1],columns=['PROBABILIDAD'])"
   ]
  },
  {
   "cell_type": "code",
   "execution_count": null,
   "metadata": {},
   "outputs": [],
   "source": [
    "prod_pred=pd.concat([df_productos,preds],axis=1)\n",
    "prod_pred_final=prod_pred.sort_values(by='PROBABILIDAD',ascending=False).head(5).producto.values.tolist()  "
   ]
  },
  {
   "cell_type": "code",
   "execution_count": null,
   "metadata": {},
   "outputs": [
    {
     "data": {
      "text/plain": [
       "[265086, 16072, 161140, 263047, 193078]"
      ]
     },
     "execution_count": 245,
     "metadata": {},
     "output_type": "execute_result"
    }
   ],
   "source": [
    "prod_pred_final"
   ]
  },
  {
   "cell_type": "code",
   "execution_count": null,
   "metadata": {},
   "outputs": [],
   "source": []
  },
  {
   "cell_type": "code",
   "execution_count": null,
   "metadata": {},
   "outputs": [],
   "source": []
  }
 ],
 "metadata": {
  "kernelspec": {
   "display_name": "base",
   "language": "python",
   "name": "python3"
  },
  "language_info": {
   "codemirror_mode": {
    "name": "ipython",
    "version": 3
   },
   "file_extension": ".py",
   "mimetype": "text/x-python",
   "name": "python",
   "nbconvert_exporter": "python",
   "pygments_lexer": "ipython3",
   "version": "3.9.13"
  }
 },
 "nbformat": 4,
 "nbformat_minor": 2
}
